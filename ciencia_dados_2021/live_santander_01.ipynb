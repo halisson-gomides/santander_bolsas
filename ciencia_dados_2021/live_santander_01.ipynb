{
 "cells": [
  {
   "cell_type": "markdown",
   "id": "c884ee6d",
   "metadata": {},
   "source": [
    "# Live Santander 1\n",
    "\n",
    "- Data: 08/07/2021"
   ]
  },
  {
   "cell_type": "markdown",
   "id": "0a0723a0",
   "metadata": {},
   "source": [
    "## Hello world"
   ]
  },
  {
   "cell_type": "code",
   "execution_count": 1,
   "id": "248aa40c",
   "metadata": {
    "ExecuteTime": {
     "end_time": "2021-07-08T21:08:30.225884Z",
     "start_time": "2021-07-08T21:08:30.194941Z"
    }
   },
   "outputs": [
    {
     "name": "stdout",
     "output_type": "stream",
     "text": [
      "hello world\n"
     ]
    }
   ],
   "source": [
    "print('hello world')"
   ]
  },
  {
   "cell_type": "markdown",
   "id": "cb2c4b60",
   "metadata": {},
   "source": [
    "## Tipagem dinâmica\n",
    "\n",
    "- int\n",
    "- float\n",
    "- tuple\n",
    "- list\n",
    "- dict\n",
    "- set\n",
    "- bool"
   ]
  },
  {
   "cell_type": "markdown",
   "id": "ff531039",
   "metadata": {},
   "source": [
    "## Strings"
   ]
  },
  {
   "cell_type": "code",
   "execution_count": 2,
   "id": "fe824793",
   "metadata": {
    "ExecuteTime": {
     "end_time": "2021-07-08T21:10:38.634065Z",
     "start_time": "2021-07-08T21:10:38.623084Z"
    }
   },
   "outputs": [],
   "source": [
    "hello = 'hello world'"
   ]
  },
  {
   "cell_type": "code",
   "execution_count": 3,
   "id": "23414169",
   "metadata": {
    "ExecuteTime": {
     "end_time": "2021-07-08T21:11:03.157871Z",
     "start_time": "2021-07-08T21:11:03.138844Z"
    }
   },
   "outputs": [
    {
     "data": {
      "text/plain": [
       "str"
      ]
     },
     "execution_count": 3,
     "metadata": {},
     "output_type": "execute_result"
    }
   ],
   "source": [
    "type(hello)"
   ]
  },
  {
   "cell_type": "code",
   "execution_count": 4,
   "id": "3c134f78",
   "metadata": {
    "ExecuteTime": {
     "end_time": "2021-07-08T21:11:30.014303Z",
     "start_time": "2021-07-08T21:11:29.987278Z"
    }
   },
   "outputs": [
    {
     "data": {
      "text/plain": [
       "['__add__',\n",
       " '__class__',\n",
       " '__contains__',\n",
       " '__delattr__',\n",
       " '__dir__',\n",
       " '__doc__',\n",
       " '__eq__',\n",
       " '__format__',\n",
       " '__ge__',\n",
       " '__getattribute__',\n",
       " '__getitem__',\n",
       " '__getnewargs__',\n",
       " '__gt__',\n",
       " '__hash__',\n",
       " '__init__',\n",
       " '__init_subclass__',\n",
       " '__iter__',\n",
       " '__le__',\n",
       " '__len__',\n",
       " '__lt__',\n",
       " '__mod__',\n",
       " '__mul__',\n",
       " '__ne__',\n",
       " '__new__',\n",
       " '__reduce__',\n",
       " '__reduce_ex__',\n",
       " '__repr__',\n",
       " '__rmod__',\n",
       " '__rmul__',\n",
       " '__setattr__',\n",
       " '__sizeof__',\n",
       " '__str__',\n",
       " '__subclasshook__',\n",
       " 'capitalize',\n",
       " 'casefold',\n",
       " 'center',\n",
       " 'count',\n",
       " 'encode',\n",
       " 'endswith',\n",
       " 'expandtabs',\n",
       " 'find',\n",
       " 'format',\n",
       " 'format_map',\n",
       " 'index',\n",
       " 'isalnum',\n",
       " 'isalpha',\n",
       " 'isascii',\n",
       " 'isdecimal',\n",
       " 'isdigit',\n",
       " 'isidentifier',\n",
       " 'islower',\n",
       " 'isnumeric',\n",
       " 'isprintable',\n",
       " 'isspace',\n",
       " 'istitle',\n",
       " 'isupper',\n",
       " 'join',\n",
       " 'ljust',\n",
       " 'lower',\n",
       " 'lstrip',\n",
       " 'maketrans',\n",
       " 'partition',\n",
       " 'removeprefix',\n",
       " 'removesuffix',\n",
       " 'replace',\n",
       " 'rfind',\n",
       " 'rindex',\n",
       " 'rjust',\n",
       " 'rpartition',\n",
       " 'rsplit',\n",
       " 'rstrip',\n",
       " 'split',\n",
       " 'splitlines',\n",
       " 'startswith',\n",
       " 'strip',\n",
       " 'swapcase',\n",
       " 'title',\n",
       " 'translate',\n",
       " 'upper',\n",
       " 'zfill']"
      ]
     },
     "execution_count": 4,
     "metadata": {},
     "output_type": "execute_result"
    }
   ],
   "source": [
    "dir(hello)"
   ]
  },
  {
   "cell_type": "code",
   "execution_count": 5,
   "id": "44c48a8a",
   "metadata": {
    "ExecuteTime": {
     "end_time": "2021-07-08T21:11:48.970259Z",
     "start_time": "2021-07-08T21:11:48.956281Z"
    }
   },
   "outputs": [
    {
     "data": {
      "text/plain": [
       "'HELLO WORLD'"
      ]
     },
     "execution_count": 5,
     "metadata": {},
     "output_type": "execute_result"
    }
   ],
   "source": [
    "hello.upper()"
   ]
  },
  {
   "cell_type": "code",
   "execution_count": 8,
   "id": "7ddfcaf3",
   "metadata": {
    "ExecuteTime": {
     "end_time": "2021-07-08T21:13:06.929065Z",
     "start_time": "2021-07-08T21:13:06.915843Z"
    }
   },
   "outputs": [
    {
     "data": {
      "text/plain": [
       "True"
      ]
     },
     "execution_count": 8,
     "metadata": {},
     "output_type": "execute_result"
    }
   ],
   "source": [
    "hello.startswith('h')"
   ]
  },
  {
   "cell_type": "code",
   "execution_count": 9,
   "id": "fa07d497",
   "metadata": {
    "ExecuteTime": {
     "end_time": "2021-07-08T21:13:29.489228Z",
     "start_time": "2021-07-08T21:13:29.475232Z"
    }
   },
   "outputs": [
    {
     "data": {
      "text/plain": [
       "'Hello World'"
      ]
     },
     "execution_count": 9,
     "metadata": {},
     "output_type": "execute_result"
    }
   ],
   "source": [
    "hello.title()"
   ]
  },
  {
   "cell_type": "code",
   "execution_count": 11,
   "id": "29877f2a",
   "metadata": {
    "ExecuteTime": {
     "end_time": "2021-07-08T21:15:01.334773Z",
     "start_time": "2021-07-08T21:15:01.314459Z"
    }
   },
   "outputs": [
    {
     "data": {
      "text/plain": [
       "'hello'"
      ]
     },
     "execution_count": 11,
     "metadata": {},
     "output_type": "execute_result"
    }
   ],
   "source": [
    "hello[0:5]"
   ]
  },
  {
   "cell_type": "code",
   "execution_count": 12,
   "id": "eb83a6e0",
   "metadata": {
    "ExecuteTime": {
     "end_time": "2021-07-08T21:15:37.379137Z",
     "start_time": "2021-07-08T21:15:37.363153Z"
    }
   },
   "outputs": [],
   "source": [
    "cnpj = '35.458.231/0001-28'"
   ]
  },
  {
   "cell_type": "code",
   "execution_count": 13,
   "id": "693bdfe2",
   "metadata": {
    "ExecuteTime": {
     "end_time": "2021-07-08T21:16:51.087530Z",
     "start_time": "2021-07-08T21:16:51.065529Z"
    }
   },
   "outputs": [
    {
     "data": {
      "text/plain": [
       "'35458231000128'"
      ]
     },
     "execution_count": 13,
     "metadata": {},
     "output_type": "execute_result"
    }
   ],
   "source": [
    "cnpj.replace('.','').replace('/','').replace('-','')"
   ]
  },
  {
   "cell_type": "code",
   "execution_count": 14,
   "id": "379fb1d7",
   "metadata": {
    "ExecuteTime": {
     "end_time": "2021-07-08T21:17:09.645290Z",
     "start_time": "2021-07-08T21:17:09.624283Z"
    }
   },
   "outputs": [
    {
     "data": {
      "text/plain": [
       "str"
      ]
     },
     "execution_count": 14,
     "metadata": {},
     "output_type": "execute_result"
    }
   ],
   "source": [
    "type(cnpj)"
   ]
  },
  {
   "cell_type": "code",
   "execution_count": 15,
   "id": "af146500",
   "metadata": {
    "ExecuteTime": {
     "end_time": "2021-07-08T21:17:38.217450Z",
     "start_time": "2021-07-08T21:17:38.195415Z"
    }
   },
   "outputs": [
    {
     "data": {
      "text/plain": [
       "18"
      ]
     },
     "execution_count": 15,
     "metadata": {},
     "output_type": "execute_result"
    }
   ],
   "source": [
    "len(cnpj)"
   ]
  },
  {
   "cell_type": "code",
   "execution_count": 16,
   "id": "6b81dbda",
   "metadata": {
    "ExecuteTime": {
     "end_time": "2021-07-08T21:18:51.690327Z",
     "start_time": "2021-07-08T21:18:51.675318Z"
    }
   },
   "outputs": [
    {
     "data": {
      "text/plain": [
       "'0035.458.231/0001-28'"
      ]
     },
     "execution_count": 16,
     "metadata": {},
     "output_type": "execute_result"
    }
   ],
   "source": [
    "cnpj.zfill(20)"
   ]
  },
  {
   "cell_type": "markdown",
   "id": "3ecbd311",
   "metadata": {},
   "source": [
    "## Listas"
   ]
  },
  {
   "cell_type": "code",
   "execution_count": 7,
   "id": "5449cdf7",
   "metadata": {
    "ExecuteTime": {
     "end_time": "2021-07-08T21:54:52.773933Z",
     "start_time": "2021-07-08T21:54:52.764311Z"
    }
   },
   "outputs": [
    {
     "name": "stdout",
     "output_type": "stream",
     "text": [
      "[19, 27, 29, 11, 18]\n"
     ]
    }
   ],
   "source": [
    "import random\n",
    "randomlist = random.sample(range(10, 30), 5)\n",
    "print(randomlist)"
   ]
  },
  {
   "cell_type": "code",
   "execution_count": 8,
   "id": "5dd4dc98",
   "metadata": {
    "ExecuteTime": {
     "end_time": "2021-07-08T21:55:07.705331Z",
     "start_time": "2021-07-08T21:55:07.684318Z"
    }
   },
   "outputs": [
    {
     "data": {
      "text/plain": [
       "[11, 18, 19, 27, 29]"
      ]
     },
     "execution_count": 8,
     "metadata": {},
     "output_type": "execute_result"
    }
   ],
   "source": [
    "sorted(randomlist) # não modifica o objeto"
   ]
  },
  {
   "cell_type": "code",
   "execution_count": 10,
   "id": "b50dd0da",
   "metadata": {
    "ExecuteTime": {
     "end_time": "2021-07-08T21:55:44.736323Z",
     "start_time": "2021-07-08T21:55:44.725317Z"
    }
   },
   "outputs": [
    {
     "data": {
      "text/plain": [
       "[11, 18, 19, 27, 29]"
      ]
     },
     "execution_count": 10,
     "metadata": {},
     "output_type": "execute_result"
    }
   ],
   "source": [
    "randomlist.sort() # modifica o objeto\n",
    "randomlist"
   ]
  },
  {
   "cell_type": "code",
   "execution_count": 11,
   "id": "bba000c9",
   "metadata": {
    "ExecuteTime": {
     "end_time": "2021-07-08T21:56:00.546489Z",
     "start_time": "2021-07-08T21:56:00.534491Z"
    }
   },
   "outputs": [
    {
     "data": {
      "text/plain": [
       "[29, 27, 19, 18, 11]"
      ]
     },
     "execution_count": 11,
     "metadata": {},
     "output_type": "execute_result"
    }
   ],
   "source": [
    "randomlist.sort(reverse=True) # modifica o objeto\n",
    "randomlist"
   ]
  },
  {
   "cell_type": "markdown",
   "id": "63099b84",
   "metadata": {},
   "source": [
    "## Dicionários"
   ]
  },
  {
   "cell_type": "code",
   "execution_count": 19,
   "id": "80984620",
   "metadata": {
    "ExecuteTime": {
     "end_time": "2021-07-08T21:21:17.183671Z",
     "start_time": "2021-07-08T21:21:17.175001Z"
    }
   },
   "outputs": [
    {
     "data": {
      "text/plain": [
       "{'cachorro': 'lulu da pomerânia', 'idade': 42}"
      ]
     },
     "execution_count": 19,
     "metadata": {},
     "output_type": "execute_result"
    }
   ],
   "source": [
    "meu_dic = {}\n",
    "meu_dic['cachorro'] = 'lulu da pomerânia'\n",
    "meu_dic['idade'] = 42\n",
    "\n",
    "meu_dic"
   ]
  },
  {
   "cell_type": "code",
   "execution_count": 20,
   "id": "031e44ee",
   "metadata": {
    "ExecuteTime": {
     "end_time": "2021-07-08T21:21:26.887780Z",
     "start_time": "2021-07-08T21:21:26.869813Z"
    }
   },
   "outputs": [
    {
     "data": {
      "text/plain": [
       "dict_values(['lulu da pomerânia', 42])"
      ]
     },
     "execution_count": 20,
     "metadata": {},
     "output_type": "execute_result"
    }
   ],
   "source": [
    "meu_dic.values()"
   ]
  },
  {
   "cell_type": "code",
   "execution_count": 21,
   "id": "8c3b0caf",
   "metadata": {
    "ExecuteTime": {
     "end_time": "2021-07-08T21:21:33.818070Z",
     "start_time": "2021-07-08T21:21:33.798049Z"
    }
   },
   "outputs": [
    {
     "data": {
      "text/plain": [
       "dict_keys(['cachorro', 'idade'])"
      ]
     },
     "execution_count": 21,
     "metadata": {},
     "output_type": "execute_result"
    }
   ],
   "source": [
    "meu_dic.keys()"
   ]
  },
  {
   "cell_type": "code",
   "execution_count": 22,
   "id": "4bed14ca",
   "metadata": {
    "ExecuteTime": {
     "end_time": "2021-07-08T21:21:44.271918Z",
     "start_time": "2021-07-08T21:21:44.256917Z"
    }
   },
   "outputs": [
    {
     "data": {
      "text/plain": [
       "dict_items([('cachorro', 'lulu da pomerânia'), ('idade', 42)])"
      ]
     },
     "execution_count": 22,
     "metadata": {},
     "output_type": "execute_result"
    }
   ],
   "source": [
    "meu_dic.items()"
   ]
  },
  {
   "cell_type": "markdown",
   "id": "d50fd3f9",
   "metadata": {},
   "source": [
    "## Tuplas"
   ]
  },
  {
   "cell_type": "code",
   "execution_count": 23,
   "id": "afb3c3ed",
   "metadata": {
    "ExecuteTime": {
     "end_time": "2021-07-08T21:22:06.681191Z",
     "start_time": "2021-07-08T21:22:06.666194Z"
    }
   },
   "outputs": [
    {
     "data": {
      "text/plain": [
       "(1, 4, 9)"
      ]
     },
     "execution_count": 23,
     "metadata": {},
     "output_type": "execute_result"
    }
   ],
   "source": [
    "# Tuplas são objetos imutáveis\n",
    "tupla = (1, 4 ,9)\n",
    "tupla"
   ]
  },
  {
   "cell_type": "code",
   "execution_count": 25,
   "id": "6d9515fe",
   "metadata": {
    "ExecuteTime": {
     "end_time": "2021-07-08T21:22:18.932013Z",
     "start_time": "2021-07-08T21:22:18.600442Z"
    }
   },
   "outputs": [
    {
     "ename": "TypeError",
     "evalue": "'tuple' object does not support item assignment",
     "output_type": "error",
     "traceback": [
      "\u001b[1;31m---------------------------------------------------------------------------\u001b[0m",
      "\u001b[1;31mTypeError\u001b[0m                                 Traceback (most recent call last)",
      "\u001b[1;32m~\\AppData\\Local\\Temp/ipykernel_14692/2733583355.py\u001b[0m in \u001b[0;36m<module>\u001b[1;34m\u001b[0m\n\u001b[1;32m----> 1\u001b[1;33m \u001b[0mtupla\u001b[0m\u001b[1;33m[\u001b[0m\u001b[1;36m0\u001b[0m\u001b[1;33m]\u001b[0m \u001b[1;33m=\u001b[0m \u001b[1;36m3\u001b[0m\u001b[1;33m\u001b[0m\u001b[1;33m\u001b[0m\u001b[0m\n\u001b[0m",
      "\u001b[1;31mTypeError\u001b[0m: 'tuple' object does not support item assignment"
     ]
    }
   ],
   "source": [
    "tupla[0] = 3"
   ]
  },
  {
   "cell_type": "markdown",
   "id": "12a990fe",
   "metadata": {},
   "source": [
    "## Loops"
   ]
  },
  {
   "cell_type": "markdown",
   "id": "b86e7ade",
   "metadata": {},
   "source": [
    "### For"
   ]
  },
  {
   "cell_type": "code",
   "execution_count": 26,
   "id": "2a476b35",
   "metadata": {
    "ExecuteTime": {
     "end_time": "2021-07-08T21:23:40.056444Z",
     "start_time": "2021-07-08T21:23:40.043818Z"
    }
   },
   "outputs": [],
   "source": [
    "ninja_turtles = ['Leonardo', 'Raphael', 'Donatello', 'Michelangelo']"
   ]
  },
  {
   "cell_type": "code",
   "execution_count": 27,
   "id": "ce8c3f38",
   "metadata": {
    "ExecuteTime": {
     "end_time": "2021-07-08T21:23:50.631861Z",
     "start_time": "2021-07-08T21:23:50.622875Z"
    }
   },
   "outputs": [
    {
     "data": {
      "text/plain": [
       "'Raphael'"
      ]
     },
     "execution_count": 27,
     "metadata": {},
     "output_type": "execute_result"
    }
   ],
   "source": [
    "ninja_turtles[1]"
   ]
  },
  {
   "cell_type": "code",
   "execution_count": 28,
   "id": "72083500",
   "metadata": {
    "ExecuteTime": {
     "end_time": "2021-07-08T21:24:08.573960Z",
     "start_time": "2021-07-08T21:24:08.561458Z"
    }
   },
   "outputs": [
    {
     "name": "stdout",
     "output_type": "stream",
     "text": [
      "Leonardo\n",
      "Raphael\n",
      "Donatello\n",
      "Michelangelo\n"
     ]
    }
   ],
   "source": [
    "for t in ninja_turtles:\n",
    "    print(t)"
   ]
  },
  {
   "cell_type": "code",
   "execution_count": 29,
   "id": "8ce5f23b",
   "metadata": {
    "ExecuteTime": {
     "end_time": "2021-07-08T21:25:02.296538Z",
     "start_time": "2021-07-08T21:25:02.274079Z"
    }
   },
   "outputs": [
    {
     "name": "stdout",
     "output_type": "stream",
     "text": [
      "Leonardo\n",
      "Raphael\n",
      "Donatello\n",
      "Michelangelo\n",
      "KAWABANGA!!\n"
     ]
    }
   ],
   "source": [
    "for t in ninja_turtles:\n",
    "    print(t)\n",
    "    if t == 'Michelangelo':\n",
    "        print('KAWABANGA!!')"
   ]
  },
  {
   "cell_type": "markdown",
   "id": "7c05260d",
   "metadata": {},
   "source": [
    "### While"
   ]
  },
  {
   "cell_type": "code",
   "execution_count": 32,
   "id": "f58da0b3",
   "metadata": {
    "ExecuteTime": {
     "end_time": "2021-07-08T21:27:44.538092Z",
     "start_time": "2021-07-08T21:27:44.518091Z"
    }
   },
   "outputs": [
    {
     "name": "stdout",
     "output_type": "stream",
     "text": [
      "x vale: 0\n",
      "x vale: 1\n",
      "x vale: 2\n",
      "x vale: 3\n",
      "x vale: 4\n",
      "x vale: 5\n",
      "x vale: 6\n",
      "x vale: 7\n",
      "x vale: 8\n",
      "x vale: 9\n"
     ]
    }
   ],
   "source": [
    "x = 0\n",
    "\n",
    "while x < 10:\n",
    "    print(f'x vale: {x}')\n",
    "    x+=1"
   ]
  },
  {
   "cell_type": "markdown",
   "id": "3669219e",
   "metadata": {},
   "source": [
    "### Range\n",
    "\n",
    "A função range permite gerar rapidamente uma lista de números inteiros, o que é bastante útil, portanto, observe como usá-lo. Existem três parâmetros para o range: início, uma parada e um tamanho da etapa"
   ]
  },
  {
   "cell_type": "code",
   "execution_count": null,
   "id": "6990de87",
   "metadata": {},
   "outputs": [],
   "source": []
  },
  {
   "cell_type": "markdown",
   "id": "38d1ebad",
   "metadata": {},
   "source": [
    "### Enumerate"
   ]
  },
  {
   "cell_type": "code",
   "execution_count": 33,
   "id": "b9803b42",
   "metadata": {
    "ExecuteTime": {
     "end_time": "2021-07-08T21:30:07.346077Z",
     "start_time": "2021-07-08T21:30:07.334076Z"
    }
   },
   "outputs": [
    {
     "name": "stdout",
     "output_type": "stream",
     "text": [
      "At index 0 the letter is a\n",
      "At index 1 the letter is b\n",
      "At index 2 the letter is c\n",
      "At index 3 the letter is d\n",
      "At index 4 the letter is e\n"
     ]
    }
   ],
   "source": [
    "index_count = 0\n",
    "\n",
    "for letter in 'abcde':\n",
    "    print(f'At index {index_count} the letter is {letter}')\n",
    "    index_count += 1"
   ]
  },
  {
   "cell_type": "code",
   "execution_count": 34,
   "id": "712e3909",
   "metadata": {
    "ExecuteTime": {
     "end_time": "2021-07-08T21:31:09.933671Z",
     "start_time": "2021-07-08T21:31:09.926195Z"
    }
   },
   "outputs": [
    {
     "name": "stdout",
     "output_type": "stream",
     "text": [
      "At index 0 the letter is a\n",
      "At index 1 the letter is b\n",
      "At index 2 the letter is c\n",
      "At index 3 the letter is d\n",
      "At index 4 the letter is e\n"
     ]
    }
   ],
   "source": [
    "for i, letter in enumerate('abcde'):\n",
    "    print(f'At index {i} the letter is {letter}')"
   ]
  },
  {
   "cell_type": "markdown",
   "id": "13fd874d",
   "metadata": {},
   "source": [
    "### Zip"
   ]
  },
  {
   "cell_type": "code",
   "execution_count": 35,
   "id": "168b1d49",
   "metadata": {
    "ExecuteTime": {
     "end_time": "2021-07-08T21:33:44.578487Z",
     "start_time": "2021-07-08T21:33:44.566487Z"
    }
   },
   "outputs": [],
   "source": [
    "lst_arma = ['nunchaku', 'katana', 'bastão', 'sai']\n",
    "lst_tart_ninja = ['Michelangelo', 'Leonardo', 'Donatello', 'Raphael']"
   ]
  },
  {
   "cell_type": "code",
   "execution_count": 36,
   "id": "2d2267fa",
   "metadata": {
    "ExecuteTime": {
     "end_time": "2021-07-08T21:34:43.108358Z",
     "start_time": "2021-07-08T21:34:43.091359Z"
    }
   },
   "outputs": [
    {
     "name": "stdout",
     "output_type": "stream",
     "text": [
      "Michelangelo usa a arma nunchaku\n",
      "Leonardo usa a arma katana\n",
      "Donatello usa a arma bastão\n",
      "Raphael usa a arma sai\n"
     ]
    }
   ],
   "source": [
    "for turtle, weapon, in zip(lst_tart_ninja, lst_arma):\n",
    "    print(f'{turtle} usa a arma {weapon}')"
   ]
  },
  {
   "cell_type": "markdown",
   "id": "04be5ead",
   "metadata": {},
   "source": [
    "### Operador in"
   ]
  },
  {
   "cell_type": "code",
   "execution_count": 37,
   "id": "9c2dbe60",
   "metadata": {
    "ExecuteTime": {
     "end_time": "2021-07-08T21:35:07.267804Z",
     "start_time": "2021-07-08T21:35:07.253602Z"
    }
   },
   "outputs": [
    {
     "data": {
      "text/plain": [
       "['Michelangelo', 'Leonardo', 'Donatello', 'Raphael']"
      ]
     },
     "execution_count": 37,
     "metadata": {},
     "output_type": "execute_result"
    }
   ],
   "source": [
    "lst_tart_ninja"
   ]
  },
  {
   "cell_type": "code",
   "execution_count": 38,
   "id": "745163b3",
   "metadata": {
    "ExecuteTime": {
     "end_time": "2021-07-08T21:35:16.921860Z",
     "start_time": "2021-07-08T21:35:16.908863Z"
    }
   },
   "outputs": [
    {
     "data": {
      "text/plain": [
       "True"
      ]
     },
     "execution_count": 38,
     "metadata": {},
     "output_type": "execute_result"
    }
   ],
   "source": [
    "'Donatello' in lst_tart_ninja"
   ]
  },
  {
   "cell_type": "code",
   "execution_count": 39,
   "id": "b20f3075",
   "metadata": {
    "ExecuteTime": {
     "end_time": "2021-07-08T21:35:26.204985Z",
     "start_time": "2021-07-08T21:35:26.195983Z"
    }
   },
   "outputs": [
    {
     "data": {
      "text/plain": [
       "False"
      ]
     },
     "execution_count": 39,
     "metadata": {},
     "output_type": "execute_result"
    }
   ],
   "source": [
    "'Mestre Splinter' in lst_tart_ninja"
   ]
  },
  {
   "cell_type": "markdown",
   "id": "87762fb0",
   "metadata": {},
   "source": [
    "###  List Comprehension"
   ]
  },
  {
   "cell_type": "code",
   "execution_count": 40,
   "id": "6d78f3ad",
   "metadata": {
    "ExecuteTime": {
     "end_time": "2021-07-08T21:36:07.609232Z",
     "start_time": "2021-07-08T21:36:07.592210Z"
    }
   },
   "outputs": [],
   "source": [
    "celsius = [0, 10, 20.1, 34.5]"
   ]
  },
  {
   "cell_type": "code",
   "execution_count": 41,
   "id": "5c3a9af9",
   "metadata": {
    "ExecuteTime": {
     "end_time": "2021-07-08T21:37:02.239133Z",
     "start_time": "2021-07-08T21:37:02.223184Z"
    }
   },
   "outputs": [],
   "source": [
    "fahrenheit = []\n",
    "\n",
    "for temp in celsius:\n",
    "    temp_fahrenheit = (9/5) * temp + 32\n",
    "    fahrenheit.append(temp_fahrenheit)"
   ]
  },
  {
   "cell_type": "code",
   "execution_count": 42,
   "id": "a77330c9",
   "metadata": {
    "ExecuteTime": {
     "end_time": "2021-07-08T21:37:07.007383Z",
     "start_time": "2021-07-08T21:37:06.991379Z"
    }
   },
   "outputs": [
    {
     "data": {
      "text/plain": [
       "[32.0, 50.0, 68.18, 94.1]"
      ]
     },
     "execution_count": 42,
     "metadata": {},
     "output_type": "execute_result"
    }
   ],
   "source": [
    "fahrenheit"
   ]
  },
  {
   "cell_type": "code",
   "execution_count": 45,
   "id": "ea9cda1c",
   "metadata": {
    "ExecuteTime": {
     "end_time": "2021-07-08T21:38:16.095827Z",
     "start_time": "2021-07-08T21:38:16.072828Z"
    }
   },
   "outputs": [
    {
     "data": {
      "text/plain": [
       "[32.0, 50.0, 68.18, 94.1]"
      ]
     },
     "execution_count": 45,
     "metadata": {},
     "output_type": "execute_result"
    }
   ],
   "source": [
    "fahrenheit = [(9/5) * temp + 32 for temp in celsius]\n",
    "fahrenheit"
   ]
  },
  {
   "cell_type": "markdown",
   "id": "b93fb682",
   "metadata": {},
   "source": [
    "### Dúvidas"
   ]
  },
  {
   "cell_type": "code",
   "execution_count": 12,
   "id": "dcaff048",
   "metadata": {
    "ExecuteTime": {
     "end_time": "2021-07-08T21:59:15.166217Z",
     "start_time": "2021-07-08T21:59:15.154213Z"
    }
   },
   "outputs": [],
   "source": [
    "def soma(*args):\n",
    "    soma_numeros = sum(args)\n",
    "    return soma_numeros"
   ]
  },
  {
   "cell_type": "code",
   "execution_count": 13,
   "id": "cd5d189b",
   "metadata": {
    "ExecuteTime": {
     "end_time": "2021-07-08T21:59:24.028302Z",
     "start_time": "2021-07-08T21:59:24.006303Z"
    }
   },
   "outputs": [
    {
     "data": {
      "text/plain": [
       "6"
      ]
     },
     "execution_count": 13,
     "metadata": {},
     "output_type": "execute_result"
    }
   ],
   "source": [
    "soma(1, 2, 3)"
   ]
  },
  {
   "cell_type": "code",
   "execution_count": 14,
   "id": "ae79681e",
   "metadata": {
    "ExecuteTime": {
     "end_time": "2021-07-08T21:59:38.383439Z",
     "start_time": "2021-07-08T21:59:38.376439Z"
    }
   },
   "outputs": [
    {
     "data": {
      "text/plain": [
       "33"
      ]
     },
     "execution_count": 14,
     "metadata": {},
     "output_type": "execute_result"
    }
   ],
   "source": [
    "soma(10, 3 ,9 ,2 ,5, 4)"
   ]
  },
  {
   "cell_type": "code",
   "execution_count": null,
   "id": "d55194e8",
   "metadata": {},
   "outputs": [],
   "source": []
  }
 ],
 "metadata": {
  "kernelspec": {
   "display_name": "Python [conda env:santander]",
   "language": "python",
   "name": "conda-env-santander-py"
  },
  "language_info": {
   "codemirror_mode": {
    "name": "ipython",
    "version": 3
   },
   "file_extension": ".py",
   "mimetype": "text/x-python",
   "name": "python",
   "nbconvert_exporter": "python",
   "pygments_lexer": "ipython3",
   "version": "3.9.5"
  },
  "toc": {
   "base_numbering": 1,
   "nav_menu": {},
   "number_sections": true,
   "sideBar": true,
   "skip_h1_title": false,
   "title_cell": "Table of Contents",
   "title_sidebar": "Conteúdo",
   "toc_cell": false,
   "toc_position": {},
   "toc_section_display": true,
   "toc_window_display": true
  }
 },
 "nbformat": 4,
 "nbformat_minor": 5
}
