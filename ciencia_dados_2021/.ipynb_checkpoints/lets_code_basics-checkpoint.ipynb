{
 "cells": [
  {
   "cell_type": "markdown",
   "id": "5fb90f1c",
   "metadata": {},
   "source": [
    "# Basics"
   ]
  },
  {
   "cell_type": "markdown",
   "id": "fa8a863f",
   "metadata": {},
   "source": [
    "## Aula 07 - Estruturas de Repetição - While"
   ]
  },
  {
   "cell_type": "code",
   "execution_count": 1,
   "id": "78d482e0",
   "metadata": {
    "ExecuteTime": {
     "end_time": "2021-07-03T14:45:56.102561Z",
     "start_time": "2021-07-03T14:45:56.067800Z"
    }
   },
   "outputs": [
    {
     "name": "stdout",
     "output_type": "stream",
     "text": [
      "1 item limpo\n",
      "2 itens limpos\n",
      "3 itens limpos\n",
      "4 itens limpos\n",
      "5 itens limpos\n",
      "6 itens limpos\n",
      "7 itens limpos\n",
      "8 itens limpos\n",
      "9 itens limpos\n",
      "10 itens limpos\n",
      "Fim da repetição do bloco while\n"
     ]
    }
   ],
   "source": [
    "contador = 0\n",
    "\n",
    "while contador < 10:\n",
    "    contador = contador + 1\n",
    "    if contador == 1:\n",
    "        print(contador, 'item limpo')\n",
    "    else:\n",
    "        print(contador, 'itens limpos')\n",
    "        \n",
    "print('Fim da repetição do bloco while')"
   ]
  },
  {
   "cell_type": "code",
   "execution_count": 2,
   "id": "c09ea550",
   "metadata": {
    "ExecuteTime": {
     "end_time": "2021-07-03T14:47:33.589352Z",
     "start_time": "2021-07-03T14:47:33.580353Z"
    }
   },
   "outputs": [
    {
     "name": "stdout",
     "output_type": "stream",
     "text": [
      "1 item limpo\n",
      "2 itens limmpos\n",
      "3 itens limmpos\n",
      "4 itens limmpos\n",
      "5 itens limmpos\n",
      "6 itens limmpos\n",
      "7 itens limmpos\n",
      "8 itens limmpos\n",
      "9 itens limmpos\n",
      "10 itens limmpos\n",
      "Fim da repetição do bloco while\n"
     ]
    }
   ],
   "source": [
    "contador = 0\n",
    "\n",
    "while True:\n",
    "    if contador < 10:\n",
    "        contador = contador + 1\n",
    "        if contador == 1:\n",
    "            print(contador, 'item limpo')\n",
    "        else:\n",
    "            print(contador, 'itens limmpos')\n",
    "    else:\n",
    "        break\n",
    "print('Fim da repetição do bloco while')"
   ]
  },
  {
   "cell_type": "code",
   "execution_count": 3,
   "id": "2be76365",
   "metadata": {
    "ExecuteTime": {
     "end_time": "2021-07-03T14:50:11.242558Z",
     "start_time": "2021-07-03T14:49:58.844004Z"
    }
   },
   "outputs": [
    {
     "name": "stdout",
     "output_type": "stream",
     "text": [
      "Digite a sua senha: lescode\n",
      "Senha inválida. Tente novamente: academy\n",
      "Senha inválida. Tente novamente: LetsCode\n",
      "Acesso permitido\n"
     ]
    }
   ],
   "source": [
    "texto = input('Digite a sua senha: ')\n",
    "\n",
    "while texto != 'LetsCode':\n",
    "    texto = input('Senha inválida. Tente novamente: ')\n",
    "    \n",
    "print('Acesso permitido')"
   ]
  },
  {
   "cell_type": "code",
   "execution_count": 4,
   "id": "fc1cc87e",
   "metadata": {
    "ExecuteTime": {
     "end_time": "2021-07-03T14:51:05.339229Z",
     "start_time": "2021-07-03T14:51:05.318233Z"
    }
   },
   "outputs": [
    {
     "name": "stdout",
     "output_type": "stream",
     "text": [
      "2 itens limpos\n",
      "3 itens limpos\n",
      "4 itens limpos\n",
      "5 itens limpos\n",
      "6 itens limpos\n",
      "7 itens limpos\n",
      "8 itens limpos\n",
      "9 itens limpos\n",
      "10 itens limpos\n"
     ]
    }
   ],
   "source": [
    "contador = 0\n",
    "\n",
    "while contador < 10:\n",
    "    contador = contador +1\n",
    "    if contador == 1:\n",
    "        continue\n",
    "    print(contador, 'itens limpos')"
   ]
  },
  {
   "cell_type": "markdown",
   "id": "1602def0",
   "metadata": {},
   "source": [
    "# Estruturas Avançadas"
   ]
  },
  {
   "cell_type": "markdown",
   "id": "910de45f",
   "metadata": {},
   "source": [
    "## Aula 01 - Listas e Tuplas"
   ]
  },
  {
   "cell_type": "markdown",
   "id": "04723090",
   "metadata": {},
   "source": [
    "### Listas"
   ]
  },
  {
   "cell_type": "code",
   "execution_count": 6,
   "id": "3c1d6921",
   "metadata": {
    "ExecuteTime": {
     "end_time": "2021-07-03T15:02:05.275735Z",
     "start_time": "2021-07-03T15:02:05.263736Z"
    }
   },
   "outputs": [
    {
     "name": "stdout",
     "output_type": "stream",
     "text": [
      "['Brasil', 'Argentina', 'China', 'Canadá', 'Japão']\n"
     ]
    }
   ],
   "source": [
    "nomes_paises = ['Brasil', 'Argentina', 'China', 'Canadá', 'Japão']\n",
    "print(nomes_paises)"
   ]
  },
  {
   "cell_type": "code",
   "execution_count": 7,
   "id": "e9230917",
   "metadata": {
    "ExecuteTime": {
     "end_time": "2021-07-03T15:02:27.617119Z",
     "start_time": "2021-07-03T15:02:27.608119Z"
    }
   },
   "outputs": [
    {
     "name": "stdout",
     "output_type": "stream",
     "text": [
      "Tamanho da lista:  5\n"
     ]
    }
   ],
   "source": [
    "print('Tamanho da lista: ', len(nomes_paises))"
   ]
  },
  {
   "cell_type": "code",
   "execution_count": 8,
   "id": "4725e289",
   "metadata": {
    "ExecuteTime": {
     "end_time": "2021-07-03T15:02:47.687329Z",
     "start_time": "2021-07-03T15:02:47.678329Z"
    }
   },
   "outputs": [
    {
     "name": "stdout",
     "output_type": "stream",
     "text": [
      "País:  Japão\n"
     ]
    }
   ],
   "source": [
    "print('País: ', nomes_paises[4])"
   ]
  },
  {
   "cell_type": "code",
   "execution_count": 9,
   "id": "b6c104ff",
   "metadata": {
    "ExecuteTime": {
     "end_time": "2021-07-03T15:03:25.530860Z",
     "start_time": "2021-07-03T15:03:25.515270Z"
    }
   },
   "outputs": [
    {
     "name": "stdout",
     "output_type": "stream",
     "text": [
      "País:  Japão\n"
     ]
    }
   ],
   "source": [
    "print('País: ', nomes_paises[-1])"
   ]
  },
  {
   "cell_type": "code",
   "execution_count": 10,
   "id": "61b6ece5",
   "metadata": {
    "ExecuteTime": {
     "end_time": "2021-07-03T15:04:07.350030Z",
     "start_time": "2021-07-03T15:04:07.340242Z"
    }
   },
   "outputs": [
    {
     "name": "stdout",
     "output_type": "stream",
     "text": [
      "País:  Colômbia\n",
      "['Brasil', 'Argentina', 'China', 'Canadá', 'Colômbia']\n"
     ]
    }
   ],
   "source": [
    "nomes_paises[4] = 'Colômbia'\n",
    "print('País: ', nomes_paises[4])\n",
    "print(nomes_paises)"
   ]
  },
  {
   "cell_type": "code",
   "execution_count": 11,
   "id": "c28ae63f",
   "metadata": {
    "ExecuteTime": {
     "end_time": "2021-07-03T15:04:32.281631Z",
     "start_time": "2021-07-03T15:04:31.881331Z"
    }
   },
   "outputs": [
    {
     "ename": "IndexError",
     "evalue": "list assignment index out of range",
     "output_type": "error",
     "traceback": [
      "\u001b[1;31m---------------------------------------------------------------------------\u001b[0m",
      "\u001b[1;31mIndexError\u001b[0m                                Traceback (most recent call last)",
      "\u001b[1;32m~\\AppData\\Local\\Temp/ipykernel_11464/259509551.py\u001b[0m in \u001b[0;36m<module>\u001b[1;34m\u001b[0m\n\u001b[1;32m----> 1\u001b[1;33m \u001b[0mnomes_paises\u001b[0m\u001b[1;33m[\u001b[0m\u001b[1;36m5\u001b[0m\u001b[1;33m]\u001b[0m \u001b[1;33m=\u001b[0m \u001b[1;34m'Chile'\u001b[0m\u001b[1;33m\u001b[0m\u001b[1;33m\u001b[0m\u001b[0m\n\u001b[0m",
      "\u001b[1;31mIndexError\u001b[0m: list assignment index out of range"
     ]
    }
   ],
   "source": [
    "nomes_paises[5] = 'Chile'"
   ]
  },
  {
   "cell_type": "code",
   "execution_count": 12,
   "id": "2e114d90",
   "metadata": {
    "ExecuteTime": {
     "end_time": "2021-07-03T15:05:38.641243Z",
     "start_time": "2021-07-03T15:05:38.620230Z"
    }
   },
   "outputs": [
    {
     "name": "stdout",
     "output_type": "stream",
     "text": [
      "['Argentina', 'China']\n"
     ]
    }
   ],
   "source": [
    "print(nomes_paises[1:3])"
   ]
  },
  {
   "cell_type": "code",
   "execution_count": 13,
   "id": "be350ae2",
   "metadata": {
    "ExecuteTime": {
     "end_time": "2021-07-03T15:06:01.271061Z",
     "start_time": "2021-07-03T15:06:01.259028Z"
    }
   },
   "outputs": [
    {
     "name": "stdout",
     "output_type": "stream",
     "text": [
      "['Argentina', 'China', 'Canadá']\n"
     ]
    }
   ],
   "source": [
    "print(nomes_paises[1:-1])"
   ]
  },
  {
   "cell_type": "code",
   "execution_count": 14,
   "id": "9ebd47e7",
   "metadata": {
    "ExecuteTime": {
     "end_time": "2021-07-03T15:06:24.517163Z",
     "start_time": "2021-07-03T15:06:24.501164Z"
    }
   },
   "outputs": [
    {
     "name": "stdout",
     "output_type": "stream",
     "text": [
      "['China', 'Canadá', 'Colômbia']\n"
     ]
    }
   ],
   "source": [
    "print(nomes_paises[2:])"
   ]
  },
  {
   "cell_type": "code",
   "execution_count": 15,
   "id": "31ac18a9",
   "metadata": {
    "ExecuteTime": {
     "end_time": "2021-07-03T15:06:42.113187Z",
     "start_time": "2021-07-03T15:06:42.098548Z"
    }
   },
   "outputs": [
    {
     "name": "stdout",
     "output_type": "stream",
     "text": [
      "['Brasil', 'Argentina', 'China']\n"
     ]
    }
   ],
   "source": [
    "print(nomes_paises[:3])"
   ]
  },
  {
   "cell_type": "code",
   "execution_count": 18,
   "id": "a2b0e85a",
   "metadata": {
    "ExecuteTime": {
     "end_time": "2021-07-03T15:07:13.194631Z",
     "start_time": "2021-07-03T15:07:13.178634Z"
    }
   },
   "outputs": [
    {
     "name": "stdout",
     "output_type": "stream",
     "text": [
      "['Brasil', 'Argentina', 'China', 'Canadá', 'Colômbia']\n"
     ]
    }
   ],
   "source": [
    "print(nomes_paises[:])"
   ]
  },
  {
   "cell_type": "code",
   "execution_count": 19,
   "id": "da05b009",
   "metadata": {
    "ExecuteTime": {
     "end_time": "2021-07-03T15:07:51.076294Z",
     "start_time": "2021-07-03T15:07:51.062293Z"
    }
   },
   "outputs": [
    {
     "name": "stdout",
     "output_type": "stream",
     "text": [
      "['Brasil', 'China', 'Colômbia']\n"
     ]
    }
   ],
   "source": [
    "print(nomes_paises[::2])"
   ]
  },
  {
   "cell_type": "code",
   "execution_count": 20,
   "id": "aa4d16bc",
   "metadata": {
    "ExecuteTime": {
     "end_time": "2021-07-03T15:08:10.407131Z",
     "start_time": "2021-07-03T15:08:10.399132Z"
    }
   },
   "outputs": [
    {
     "name": "stdout",
     "output_type": "stream",
     "text": [
      "['Colômbia', 'Canadá', 'China', 'Argentina', 'Brasil']\n"
     ]
    }
   ],
   "source": [
    "print(nomes_paises[::-1])"
   ]
  },
  {
   "cell_type": "code",
   "execution_count": 21,
   "id": "94135aea",
   "metadata": {
    "ExecuteTime": {
     "end_time": "2021-07-03T15:08:59.557942Z",
     "start_time": "2021-07-03T15:08:59.548943Z"
    }
   },
   "outputs": [
    {
     "name": "stdout",
     "output_type": "stream",
     "text": [
      "True\n"
     ]
    }
   ],
   "source": [
    "print('Brasil' in nomes_paises)"
   ]
  },
  {
   "cell_type": "code",
   "execution_count": 22,
   "id": "86d75c6a",
   "metadata": {
    "ExecuteTime": {
     "end_time": "2021-07-03T15:09:15.631272Z",
     "start_time": "2021-07-03T15:09:15.621271Z"
    }
   },
   "outputs": [
    {
     "name": "stdout",
     "output_type": "stream",
     "text": [
      "False\n"
     ]
    }
   ],
   "source": [
    "print('Canadá' not in nomes_paises)"
   ]
  },
  {
   "cell_type": "code",
   "execution_count": 23,
   "id": "fe7f6d2f",
   "metadata": {
    "ExecuteTime": {
     "end_time": "2021-07-03T15:09:38.526187Z",
     "start_time": "2021-07-03T15:09:38.507189Z"
    }
   },
   "outputs": [],
   "source": [
    "lista_capitais = []"
   ]
  },
  {
   "cell_type": "code",
   "execution_count": 24,
   "id": "b3714705",
   "metadata": {
    "ExecuteTime": {
     "end_time": "2021-07-03T15:11:29.607664Z",
     "start_time": "2021-07-03T15:11:29.598323Z"
    }
   },
   "outputs": [
    {
     "name": "stdout",
     "output_type": "stream",
     "text": [
      "['Brasília', 'Buenos Aires', 'Pequim', 'Bogotá']\n"
     ]
    }
   ],
   "source": [
    "lista_capitais.append('Brasília')\n",
    "lista_capitais.append('Buenos Aires')\n",
    "lista_capitais.append('Pequim')\n",
    "lista_capitais.append('Bogotá')\n",
    "\n",
    "print(lista_capitais)"
   ]
  },
  {
   "cell_type": "code",
   "execution_count": 25,
   "id": "1e82f270",
   "metadata": {
    "ExecuteTime": {
     "end_time": "2021-07-03T15:12:13.477502Z",
     "start_time": "2021-07-03T15:12:13.458779Z"
    }
   },
   "outputs": [
    {
     "name": "stdout",
     "output_type": "stream",
     "text": [
      "['Brasília', 'Buenos Aires', 'Paris', 'Pequim', 'Bogotá']\n"
     ]
    }
   ],
   "source": [
    "lista_capitais.insert(2, 'Paris')\n",
    "print(lista_capitais)"
   ]
  },
  {
   "cell_type": "code",
   "execution_count": 26,
   "id": "c4476538",
   "metadata": {
    "ExecuteTime": {
     "end_time": "2021-07-03T15:12:50.200853Z",
     "start_time": "2021-07-03T15:12:50.195853Z"
    }
   },
   "outputs": [
    {
     "name": "stdout",
     "output_type": "stream",
     "text": [
      "['Brasília', 'Paris', 'Pequim', 'Bogotá']\n"
     ]
    }
   ],
   "source": [
    "lista_capitais.remove('Buenos Aires')\n",
    "print(lista_capitais)"
   ]
  },
  {
   "cell_type": "code",
   "execution_count": 27,
   "id": "583d32d0",
   "metadata": {
    "ExecuteTime": {
     "end_time": "2021-07-03T15:13:35.731335Z",
     "start_time": "2021-07-03T15:13:35.725861Z"
    }
   },
   "outputs": [
    {
     "name": "stdout",
     "output_type": "stream",
     "text": [
      "['Brasília', 'Paris', 'Bogotá'] Pequim\n"
     ]
    }
   ],
   "source": [
    "removido = lista_capitais.pop(2) # Pequim\n",
    "print(lista_capitais, removido)"
   ]
  },
  {
   "cell_type": "markdown",
   "id": "a60c89d8",
   "metadata": {},
   "source": [
    "### Tuplas"
   ]
  },
  {
   "cell_type": "code",
   "execution_count": 30,
   "id": "76aa160e",
   "metadata": {
    "ExecuteTime": {
     "end_time": "2021-07-03T15:19:11.549071Z",
     "start_time": "2021-07-03T15:19:11.533045Z"
    }
   },
   "outputs": [
    {
     "name": "stdout",
     "output_type": "stream",
     "text": [
      "('Brasil', 'Argentina', 'China', 'Canadá', 'Japão') <class 'tuple'>\n"
     ]
    }
   ],
   "source": [
    "nomes_paises = ('Brasil', 'Argentina', 'China', 'Canadá', 'Japão')\n",
    "print(nomes_paises, type(nomes_paises))"
   ]
  },
  {
   "cell_type": "code",
   "execution_count": 29,
   "id": "c0a10749",
   "metadata": {
    "ExecuteTime": {
     "end_time": "2021-07-03T15:18:57.945227Z",
     "start_time": "2021-07-03T15:18:57.933226Z"
    }
   },
   "outputs": [
    {
     "name": "stdout",
     "output_type": "stream",
     "text": [
      "('Brasil', 'Argentina', 'China', 'Canadá', 'Japão') <class 'tuple'>\n"
     ]
    }
   ],
   "source": [
    "nomes_paises = 'Brasil', 'Argentina', 'China', 'Canadá', 'Japão'\n",
    "print(nomes_paises, type(nomes_paises))"
   ]
  },
  {
   "cell_type": "code",
   "execution_count": 31,
   "id": "912b7048",
   "metadata": {
    "ExecuteTime": {
     "end_time": "2021-07-03T15:20:12.487528Z",
     "start_time": "2021-07-03T15:20:12.468508Z"
    }
   },
   "outputs": [
    {
     "name": "stdout",
     "output_type": "stream",
     "text": [
      "('São Paulo',) <class 'tuple'>\n"
     ]
    }
   ],
   "source": [
    "nome_estado = 'São Paulo',\n",
    "print(nome_estado, type(nome_estado))"
   ]
  },
  {
   "cell_type": "code",
   "execution_count": 32,
   "id": "899eaa73",
   "metadata": {
    "ExecuteTime": {
     "end_time": "2021-07-03T15:20:27.916011Z",
     "start_time": "2021-07-03T15:20:27.894012Z"
    }
   },
   "outputs": [
    {
     "data": {
      "text/plain": [
       "5"
      ]
     },
     "execution_count": 32,
     "metadata": {},
     "output_type": "execute_result"
    }
   ],
   "source": [
    "len(nomes_paises)"
   ]
  },
  {
   "cell_type": "code",
   "execution_count": 33,
   "id": "406ef590",
   "metadata": {
    "ExecuteTime": {
     "end_time": "2021-07-03T15:20:38.563722Z",
     "start_time": "2021-07-03T15:20:38.547115Z"
    }
   },
   "outputs": [
    {
     "data": {
      "text/plain": [
       "'Brasil'"
      ]
     },
     "execution_count": 33,
     "metadata": {},
     "output_type": "execute_result"
    }
   ],
   "source": [
    "nomes_paises[0]"
   ]
  },
  {
   "cell_type": "code",
   "execution_count": 34,
   "id": "4708828b",
   "metadata": {
    "ExecuteTime": {
     "end_time": "2021-07-03T15:20:54.989393Z",
     "start_time": "2021-07-03T15:20:54.982993Z"
    }
   },
   "outputs": [],
   "source": [
    "b, a, c, ca, j = nomes_paises"
   ]
  },
  {
   "cell_type": "code",
   "execution_count": 35,
   "id": "8ce7c91e",
   "metadata": {
    "ExecuteTime": {
     "end_time": "2021-07-03T15:21:03.091401Z",
     "start_time": "2021-07-03T15:21:03.083404Z"
    }
   },
   "outputs": [
    {
     "name": "stdout",
     "output_type": "stream",
     "text": [
      "Brasil China Japão\n"
     ]
    }
   ],
   "source": [
    "print(b, c, j)"
   ]
  },
  {
   "cell_type": "code",
   "execution_count": 36,
   "id": "c865c440",
   "metadata": {
    "ExecuteTime": {
     "end_time": "2021-07-03T15:21:31.041163Z",
     "start_time": "2021-07-03T15:21:31.023165Z"
    }
   },
   "outputs": [
    {
     "name": "stdout",
     "output_type": "stream",
     "text": [
      "Brasil Argentina China Canadá Japão\n"
     ]
    }
   ],
   "source": [
    "print(*nomes_paises)"
   ]
  },
  {
   "cell_type": "markdown",
   "id": "a97903be",
   "metadata": {},
   "source": [
    "## Aula 02 - Strings I"
   ]
  },
  {
   "cell_type": "code",
   "execution_count": 38,
   "id": "de3e903e",
   "metadata": {
    "ExecuteTime": {
     "end_time": "2021-07-03T21:02:31.297019Z",
     "start_time": "2021-07-03T21:02:31.283016Z"
    }
   },
   "outputs": [
    {
     "name": "stdout",
     "output_type": "stream",
     "text": [
      "Google\n"
     ]
    }
   ],
   "source": [
    "empresa = 'Google'\n",
    "print(empresa)"
   ]
  },
  {
   "cell_type": "code",
   "execution_count": 39,
   "id": "aa25f735",
   "metadata": {
    "ExecuteTime": {
     "end_time": "2021-07-03T21:03:08.545390Z",
     "start_time": "2021-07-03T21:03:08.539388Z"
    }
   },
   "outputs": [
    {
     "name": "stdout",
     "output_type": "stream",
     "text": [
      "Let's Code\n"
     ]
    }
   ],
   "source": [
    "empresa = \"Let's Code\"\n",
    "print(empresa)"
   ]
  },
  {
   "cell_type": "code",
   "execution_count": 40,
   "id": "c9182c80",
   "metadata": {
    "ExecuteTime": {
     "end_time": "2021-07-03T21:04:04.664682Z",
     "start_time": "2021-07-03T21:04:04.641662Z"
    }
   },
   "outputs": [
    {
     "name": "stdout",
     "output_type": "stream",
     "text": [
      "O professor Pietro da Let's Code disse: \"Hoje a pizza é por minha conta\"\n"
     ]
    }
   ],
   "source": [
    "frase = \"O professor Pietro da Let's Code disse: \\\"Hoje a pizza é por minha conta\\\"\"\n",
    "print(frase)"
   ]
  },
  {
   "cell_type": "code",
   "execution_count": 41,
   "id": "b98b5c6a",
   "metadata": {
    "ExecuteTime": {
     "end_time": "2021-07-03T21:05:17.250886Z",
     "start_time": "2021-07-03T21:05:17.240887Z"
    }
   },
   "outputs": [
    {
     "name": "stdout",
     "output_type": "stream",
     "text": [
      "G\n"
     ]
    }
   ],
   "source": [
    "empresa = 'Google'\n",
    "print(empresa[0])"
   ]
  },
  {
   "cell_type": "code",
   "execution_count": 42,
   "id": "2d16d39b",
   "metadata": {
    "ExecuteTime": {
     "end_time": "2021-07-03T21:05:42.657228Z",
     "start_time": "2021-07-03T21:05:42.652228Z"
    }
   },
   "outputs": [
    {
     "name": "stdout",
     "output_type": "stream",
     "text": [
      "Goo\n"
     ]
    }
   ],
   "source": [
    "print(empresa[:3])"
   ]
  },
  {
   "cell_type": "code",
   "execution_count": 46,
   "id": "f3a5aa84",
   "metadata": {
    "ExecuteTime": {
     "end_time": "2021-07-03T21:07:44.588142Z",
     "start_time": "2021-07-03T21:07:44.579137Z"
    }
   },
   "outputs": [
    {
     "name": "stdout",
     "output_type": "stream",
     "text": [
      "['São Paulo', 'Belo Horizonte', 'Rio de Janeiro', 'Brasília']\n"
     ]
    }
   ],
   "source": [
    "nomes_cidades = 'São Paulo, Belo Horizonte, Rio de Janeiro, Brasília'\n",
    "nomes_cidades = nomes_cidades.split(', ')\n",
    "print(nomes_cidades)"
   ]
  },
  {
   "cell_type": "code",
   "execution_count": 48,
   "id": "2f7ddd6f",
   "metadata": {
    "ExecuteTime": {
     "end_time": "2021-07-03T21:09:42.718232Z",
     "start_time": "2021-07-03T21:09:42.707229Z"
    }
   },
   "outputs": [
    {
     "name": "stdout",
     "output_type": "stream",
     "text": [
      "MENU PRINCIPAL\n"
     ]
    }
   ],
   "source": [
    "cabecalho = '       MENU PRINCIPAL       '\n",
    "print(cabecalho.strip())"
   ]
  },
  {
   "cell_type": "code",
   "execution_count": 49,
   "id": "2aa799b7",
   "metadata": {
    "ExecuteTime": {
     "end_time": "2021-07-03T21:10:45.525929Z",
     "start_time": "2021-07-03T21:10:45.504912Z"
    }
   },
   "outputs": [
    {
     "name": "stdout",
     "output_type": "stream",
     "text": [
      "Rio De Janeiro\n",
      "Rio de janeiro\n",
      "rio de janeiro\n",
      "RIO DE JANEIRO\n"
     ]
    }
   ],
   "source": [
    "nome_cidade = 'rIo DE jaNeirO'\n",
    "\n",
    "print(nome_cidade.title())\n",
    "print(nome_cidade.capitalize())\n",
    "print(nome_cidade.lower())\n",
    "print(nome_cidade.upper())"
   ]
  },
  {
   "cell_type": "code",
   "execution_count": 51,
   "id": "7b3686d7",
   "metadata": {
    "ExecuteTime": {
     "end_time": "2021-07-03T21:15:47.629781Z",
     "start_time": "2021-07-03T21:15:11.337382Z"
    }
   },
   "outputs": [
    {
     "name": "stdout",
     "output_type": "stream",
     "text": [
      "Que cidade do Brasil é conhecida como cidade maravilhosa? sÃO PAULO\n",
      "Tenta de novo, vai\n",
      "Que cidade do Brasil é conhecida como cidade maravilhosa?  bELO Horizonte\n",
      "Tenta de novo, vai\n",
      "Que cidade do Brasil é conhecida como cidade maravilhosa?    rIo   DE  jANEIRo\n",
      "Tenta de novo, vai\n",
      "Que cidade do Brasil é conhecida como cidade maravilhosa?   rIO dE jAnEIRO\n",
      "Booa, campeão!\n"
     ]
    }
   ],
   "source": [
    "nome_cidade = input('Que cidade do Brasil é conhecida como cidade maravilhosa? ')\n",
    "nome_cidade = nome_cidade.strip()\n",
    "while nome_cidade.lower() != 'rio de janeiro':\n",
    "    print('Tenta de novo, vai')\n",
    "    nome_cidade = input('Que cidade do Brasil é conhecida como cidade maravilhosa? ')\n",
    "    nome_cidade = nome_cidade.strip()\n",
    "    \n",
    "print('Booa, campeão!')"
   ]
  },
  {
   "cell_type": "code",
   "execution_count": 55,
   "id": "e8621dcb",
   "metadata": {
    "ExecuteTime": {
     "end_time": "2021-07-03T21:18:40.241671Z",
     "start_time": "2021-07-03T21:18:40.226047Z"
    }
   },
   "outputs": [
    {
     "name": "stdout",
     "output_type": "stream",
     "text": [
      "False\n"
     ]
    }
   ],
   "source": [
    "mensagem = 'Você viu o que o Pietro disse na sala ontem?'\n",
    "fui_citado = 'Felipe' in mensagem\n",
    "print(fui_citado)"
   ]
  },
  {
   "cell_type": "code",
   "execution_count": 56,
   "id": "db7e5324",
   "metadata": {
    "ExecuteTime": {
     "end_time": "2021-07-03T21:20:04.919783Z",
     "start_time": "2021-07-03T21:20:04.897015Z"
    }
   },
   "outputs": [
    {
     "name": "stdout",
     "output_type": "stream",
     "text": [
      "Teste de Caca sobre a Mesa. Outra Caca sobre o Corno\n"
     ]
    }
   ],
   "source": [
    "frase = 'Teste de Faca sobre a Mesa. Outra Faca sobre o Forno'\n",
    "s5 = frase.replace('F', 'C') # substitui a primeira substring pela segunda em todas ocorrências\n",
    "print(s5)"
   ]
  },
  {
   "cell_type": "markdown",
   "id": "e7b7b4b0",
   "metadata": {},
   "source": [
    "## Aula 03 - Strings II"
   ]
  },
  {
   "cell_type": "code",
   "execution_count": 57,
   "id": "655763a9",
   "metadata": {
    "ExecuteTime": {
     "end_time": "2021-07-03T21:22:20.098737Z",
     "start_time": "2021-07-03T21:22:20.086738Z"
    }
   },
   "outputs": [
    {
     "name": "stdout",
     "output_type": "stream",
     "text": [
      "Olá, Felipe\n"
     ]
    }
   ],
   "source": [
    "cumprimento = 'Olá, '\n",
    "nome = 'Felipe'\n",
    "print(cumprimento + nome)"
   ]
  },
  {
   "cell_type": "code",
   "execution_count": 58,
   "id": "4d805b00",
   "metadata": {
    "ExecuteTime": {
     "end_time": "2021-07-03T21:22:47.650896Z",
     "start_time": "2021-07-03T21:22:47.640893Z"
    }
   },
   "outputs": [
    {
     "name": "stdout",
     "output_type": "stream",
     "text": [
      "FelipeFelipeFelipeFelipeFelipe\n"
     ]
    }
   ],
   "source": [
    "print(nome * 5)"
   ]
  },
  {
   "cell_type": "code",
   "execution_count": 2,
   "id": "703998dd",
   "metadata": {
    "ExecuteTime": {
     "end_time": "2021-07-07T13:21:03.672281Z",
     "start_time": "2021-07-07T13:21:03.654282Z"
    }
   },
   "outputs": [
    {
     "name": "stdout",
     "output_type": "stream",
     "text": [
      "Felipe tem 35 anos e 2 filhos\n"
     ]
    }
   ],
   "source": [
    "nome = 'Felipe'\n",
    "idade = 35\n",
    "n_filhos = 2\n",
    "print(nome + ' tem ' + str(idade) + ' anos e ' + str(n_filhos) + ' filhos')"
   ]
  },
  {
   "cell_type": "code",
   "execution_count": 60,
   "id": "f0108e0a",
   "metadata": {
    "ExecuteTime": {
     "end_time": "2021-07-03T21:26:51.814795Z",
     "start_time": "2021-07-03T21:26:51.804796Z"
    }
   },
   "outputs": [
    {
     "name": "stdout",
     "output_type": "stream",
     "text": [
      "Felipe tem 35 anos e 2 filhos\n"
     ]
    }
   ],
   "source": [
    "print('{} tem {} anos e {} filhos'.format(nome, idade, n_filhos))"
   ]
  },
  {
   "cell_type": "code",
   "execution_count": 61,
   "id": "684949a8",
   "metadata": {
    "ExecuteTime": {
     "end_time": "2021-07-03T21:28:38.483504Z",
     "start_time": "2021-07-03T21:28:38.461510Z"
    }
   },
   "outputs": [
    {
     "name": "stdout",
     "output_type": "stream",
     "text": [
      "O preço da gasolina hoje subiu e está em R$ 5.79\n"
     ]
    }
   ],
   "source": [
    "preco_gasolina = 5.789\n",
    "print('O preço da gasolina hoje subiu e está em R$ {:.2f}'.format(preco_gasolina))"
   ]
  },
  {
   "cell_type": "code",
   "execution_count": 3,
   "id": "ac31e21a",
   "metadata": {
    "ExecuteTime": {
     "end_time": "2021-07-07T13:21:06.158659Z",
     "start_time": "2021-07-07T13:21:06.143659Z"
    }
   },
   "outputs": [
    {
     "name": "stdout",
     "output_type": "stream",
     "text": [
      "*******************************Macete do separador********************************\n",
      "Felipe tem 35 anos e 2 filhos.\n"
     ]
    }
   ],
   "source": [
    "print(format('Macete do separador', '*^82'))\n",
    "print(f'{nome} tem {idade} anos e {n_filhos} filhos.')"
   ]
  },
  {
   "cell_type": "markdown",
   "id": "cb46ab08",
   "metadata": {},
   "source": [
    "## Aula 04 - Dicionários"
   ]
  },
  {
   "cell_type": "code",
   "execution_count": 64,
   "id": "8d998f35",
   "metadata": {
    "ExecuteTime": {
     "end_time": "2021-07-03T21:57:47.282960Z",
     "start_time": "2021-07-03T21:57:47.275109Z"
    }
   },
   "outputs": [
    {
     "name": "stdout",
     "output_type": "stream",
     "text": [
      "{'cat': 'gato', 'dog': 'cachorro', 'mouse': 'rato'}\n",
      "<class 'dict'>\n"
     ]
    }
   ],
   "source": [
    "# O dicionário é definido pelos símbolos { e }\n",
    "\n",
    "dicionario = {}\n",
    "\n",
    "# O dicionário não possui um \"append\".\n",
    "# Adicionamos valores diretamente:\n",
    "\n",
    "dicionario['cat'] = 'gato'\n",
    "dicionario['dog'] = 'cachorro'\n",
    "dicionario['mouse'] = 'rato'\n",
    "\n",
    "print(dicionario)\n",
    "print(type(dicionario))"
   ]
  },
  {
   "cell_type": "code",
   "execution_count": 66,
   "id": "32f45f48",
   "metadata": {
    "ExecuteTime": {
     "end_time": "2021-07-03T21:58:50.268152Z",
     "start_time": "2021-07-03T21:58:50.249148Z"
    }
   },
   "outputs": [
    {
     "name": "stdout",
     "output_type": "stream",
     "text": [
      "cat existe!\n"
     ]
    }
   ],
   "source": [
    "if 'gato' in dicionario:\n",
    "    print('gato existe!') # Não\n",
    "if 'cat' in dicionario:\n",
    "    print('cat existe!') # Sim    "
   ]
  },
  {
   "cell_type": "code",
   "execution_count": 67,
   "id": "991fa82e",
   "metadata": {
    "ExecuteTime": {
     "end_time": "2021-07-03T22:00:48.013222Z",
     "start_time": "2021-07-03T22:00:48.002226Z"
    }
   },
   "outputs": [
    {
     "name": "stdout",
     "output_type": "stream",
     "text": [
      "dict_keys(['cat', 'dog', 'mouse'])\n"
     ]
    }
   ],
   "source": [
    "chaves = dicionario.keys()\n",
    "print(chaves)"
   ]
  },
  {
   "cell_type": "code",
   "execution_count": 68,
   "id": "472be625",
   "metadata": {
    "ExecuteTime": {
     "end_time": "2021-07-03T22:02:17.487283Z",
     "start_time": "2021-07-03T22:02:17.475287Z"
    }
   },
   "outputs": [
    {
     "name": "stdout",
     "output_type": "stream",
     "text": [
      "dict_values(['gato', 'cachorro', 'rato'])\n"
     ]
    }
   ],
   "source": [
    "valores = dicionario.values()\n",
    "print(valores)"
   ]
  },
  {
   "cell_type": "code",
   "execution_count": 69,
   "id": "f513ed96",
   "metadata": {
    "ExecuteTime": {
     "end_time": "2021-07-03T22:02:32.268302Z",
     "start_time": "2021-07-03T22:02:32.250310Z"
    }
   },
   "outputs": [
    {
     "name": "stdout",
     "output_type": "stream",
     "text": [
      "dict_items([('cat', 'gato'), ('dog', 'cachorro'), ('mouse', 'rato')])\n"
     ]
    }
   ],
   "source": [
    "itens = dicionario.items()\n",
    "print(itens)"
   ]
  },
  {
   "cell_type": "markdown",
   "id": "c6936a8d",
   "metadata": {},
   "source": [
    "## Aula 05 - Estruturas de Repetição - For"
   ]
  },
  {
   "cell_type": "code",
   "execution_count": 70,
   "id": "d96fcc1c",
   "metadata": {
    "ExecuteTime": {
     "end_time": "2021-07-03T22:05:55.132243Z",
     "start_time": "2021-07-03T22:05:55.115690Z"
    }
   },
   "outputs": [
    {
     "name": "stdout",
     "output_type": "stream",
     "text": [
      "São Paulo\n",
      "Londres\n",
      "Tóquio\n",
      "Paris\n"
     ]
    }
   ],
   "source": [
    "nomes_cidades = ['São Paulo', 'Londres', 'Tóquio', 'Paris']\n",
    "for nome in nomes_cidades:\n",
    "    print(nome)"
   ]
  },
  {
   "cell_type": "code",
   "execution_count": 71,
   "id": "5ad23836",
   "metadata": {
    "ExecuteTime": {
     "end_time": "2021-07-03T22:06:49.371160Z",
     "start_time": "2021-07-03T22:06:49.358163Z"
    }
   },
   "outputs": [
    {
     "name": "stdout",
     "output_type": "stream",
     "text": [
      "São Paulo\n",
      "Londres\n",
      "Tóquio\n",
      "Paris\n"
     ]
    }
   ],
   "source": [
    "# Mesmo exemplo utilizando o While\n",
    "contador = 0\n",
    "nomes_cidades = ['São Paulo', 'Londres', 'Tóquio', 'Paris']\n",
    "while contador < len(nomes_cidades):\n",
    "    print(nomes_cidades[contador])\n",
    "    contador = contador + 1"
   ]
  },
  {
   "cell_type": "code",
   "execution_count": 72,
   "id": "7ed1238a",
   "metadata": {
    "ExecuteTime": {
     "end_time": "2021-07-03T22:07:30.177068Z",
     "start_time": "2021-07-03T22:07:30.167074Z"
    }
   },
   "outputs": [
    {
     "name": "stdout",
     "output_type": "stream",
     "text": [
      "São Paulo\n",
      "Londres\n",
      "Tóquio\n",
      "Paris\n"
     ]
    }
   ],
   "source": [
    "nomes_cidades = 'São Paulo', 'Londres', 'Tóquio', 'Paris'\n",
    "for nome in nomes_cidades:\n",
    "    print(nome)"
   ]
  },
  {
   "cell_type": "code",
   "execution_count": 73,
   "id": "7aedf5d2",
   "metadata": {
    "ExecuteTime": {
     "end_time": "2021-07-03T22:08:35.024391Z",
     "start_time": "2021-07-03T22:08:35.003393Z"
    }
   },
   "outputs": [
    {
     "name": "stdout",
     "output_type": "stream",
     "text": [
      "nome: São Paulo\n",
      "estado: São Paulo\n",
      "populacao_milhoes: 12.2\n"
     ]
    }
   ],
   "source": [
    "cidade = {\n",
    "    'nome': 'São Paulo',\n",
    "    'estado': 'São Paulo',\n",
    "    'populacao_milhoes': 12.2\n",
    "}\n",
    "for chave in cidade:\n",
    "    print(f'{chave}: {cidade[chave]}')"
   ]
  },
  {
   "cell_type": "code",
   "execution_count": 74,
   "id": "3ebef10a",
   "metadata": {
    "ExecuteTime": {
     "end_time": "2021-07-03T22:09:25.424983Z",
     "start_time": "2021-07-03T22:09:25.402986Z"
    }
   },
   "outputs": [
    {
     "name": "stdout",
     "output_type": "stream",
     "text": [
      "['São Paulo', 'Londres', 'Tóquio', 'Paris']\n"
     ]
    }
   ],
   "source": [
    "nomes_cidades = ['São Paulo', 'Londres', 'Tóquio', 'Paris']\n",
    "for nome in nomes_cidades:\n",
    "    nome = 'Rio de Janeiro'\n",
    "    \n",
    "print(nomes_cidades)"
   ]
  },
  {
   "cell_type": "code",
   "execution_count": 76,
   "id": "3faf281a",
   "metadata": {
    "ExecuteTime": {
     "end_time": "2021-07-03T22:11:42.528267Z",
     "start_time": "2021-07-03T22:11:42.515273Z"
    }
   },
   "outputs": [
    {
     "name": "stdout",
     "output_type": "stream",
     "text": [
      "['Rio de Janeiro', 'Rio de Janeiro', 'Rio de Janeiro', 'Rio de Janeiro']\n"
     ]
    }
   ],
   "source": [
    "for posicao in range(len(nomes_cidades)):\n",
    "    nomes_cidades[posicao] = 'Rio de Janeiro'\n",
    "    \n",
    "print(nomes_cidades)"
   ]
  },
  {
   "cell_type": "code",
   "execution_count": 77,
   "id": "7945a40a",
   "metadata": {
    "ExecuteTime": {
     "end_time": "2021-07-03T22:12:23.188408Z",
     "start_time": "2021-07-03T22:12:23.176411Z"
    }
   },
   "outputs": [
    {
     "name": "stdout",
     "output_type": "stream",
     "text": [
      "[0, 1, 2, 3, 4, 5, 6, 7, 8, 9]\n",
      "[2, 3, 4, 5, 6, 7, 8, 9]\n",
      "[2, 4, 6, 8]\n"
     ]
    }
   ],
   "source": [
    "print(list(range(10)))\n",
    "print(list(range(2, 10)))\n",
    "print(list(range(2, 10, 2)))"
   ]
  },
  {
   "cell_type": "code",
   "execution_count": 78,
   "id": "02d9fa42",
   "metadata": {
    "ExecuteTime": {
     "end_time": "2021-07-03T22:13:45.906853Z",
     "start_time": "2021-07-03T22:13:45.890853Z"
    }
   },
   "outputs": [
    {
     "name": "stdout",
     "output_type": "stream",
     "text": [
      "1\n",
      "3\n",
      "5\n",
      "7\n",
      "9\n",
      "11\n",
      "13\n",
      "15\n",
      "17\n",
      "19\n"
     ]
    }
   ],
   "source": [
    "# Com 3 parâmetros, o terceiro será interpretado como incremento.\n",
    "for numero in range(1,20,2):\n",
    "    print(numero)\n",
    "    # este exemplo imprime os ímpares positivos menores do que 20\n",
    "    # ele começa valendo 1 e salta de 2 em 2 até atingir ou passar 20"
   ]
  },
  {
   "cell_type": "markdown",
   "id": "cf2f6bf5",
   "metadata": {},
   "source": [
    "## Aula 06 - Funções I"
   ]
  },
  {
   "cell_type": "code",
   "execution_count": 1,
   "id": "29fbbf16",
   "metadata": {
    "ExecuteTime": {
     "end_time": "2021-07-06T21:41:47.809175Z",
     "start_time": "2021-07-06T21:41:47.787184Z"
    }
   },
   "outputs": [],
   "source": [
    "def hello():\n",
    "    print('Olá, mundo!')"
   ]
  },
  {
   "cell_type": "code",
   "execution_count": 2,
   "id": "71f095bb",
   "metadata": {
    "ExecuteTime": {
     "end_time": "2021-07-06T21:42:01.062864Z",
     "start_time": "2021-07-06T21:42:01.048863Z"
    }
   },
   "outputs": [
    {
     "name": "stdout",
     "output_type": "stream",
     "text": [
      "Olá, mundo!\n"
     ]
    }
   ],
   "source": [
    "hello()"
   ]
  },
  {
   "cell_type": "code",
   "execution_count": 3,
   "id": "c9034ce5",
   "metadata": {
    "ExecuteTime": {
     "end_time": "2021-07-06T21:42:40.119174Z",
     "start_time": "2021-07-06T21:42:40.111900Z"
    }
   },
   "outputs": [],
   "source": [
    "def calcula_media(valor1, valor2, valor3):\n",
    "    soma = valor1 + valor2+ valor3\n",
    "    media = soma / 3\n",
    "    return media"
   ]
  },
  {
   "cell_type": "code",
   "execution_count": 4,
   "id": "18391f26",
   "metadata": {
    "ExecuteTime": {
     "end_time": "2021-07-06T21:43:01.218802Z",
     "start_time": "2021-07-06T21:43:01.198803Z"
    }
   },
   "outputs": [
    {
     "name": "stdout",
     "output_type": "stream",
     "text": [
      "9.0\n"
     ]
    }
   ],
   "source": [
    "resultado = calcula_media(9, 8, 10)\n",
    "print(resultado)"
   ]
  },
  {
   "cell_type": "code",
   "execution_count": 5,
   "id": "773446c5",
   "metadata": {
    "ExecuteTime": {
     "end_time": "2021-07-06T21:43:51.503452Z",
     "start_time": "2021-07-06T21:43:51.493451Z"
    }
   },
   "outputs": [
    {
     "name": "stdout",
     "output_type": "stream",
     "text": [
      "9.333333333333334\n"
     ]
    }
   ],
   "source": [
    "resultado2 = calcula_media(valor1=9, valor2=10, valor3=9)\n",
    "print(resultado2)"
   ]
  },
  {
   "cell_type": "code",
   "execution_count": 7,
   "id": "7c98ed2d",
   "metadata": {
    "ExecuteTime": {
     "end_time": "2021-07-06T21:44:55.758661Z",
     "start_time": "2021-07-06T21:44:55.736640Z"
    }
   },
   "outputs": [
    {
     "name": "stdout",
     "output_type": "stream",
     "text": [
      "Olá , Halisson\n"
     ]
    }
   ],
   "source": [
    "print('Olá', end=' ')\n",
    "print(', Halisson')"
   ]
  },
  {
   "cell_type": "code",
   "execution_count": 8,
   "id": "aed6013f",
   "metadata": {
    "ExecuteTime": {
     "end_time": "2021-07-06T21:45:53.027482Z",
     "start_time": "2021-07-06T21:45:53.015488Z"
    }
   },
   "outputs": [],
   "source": [
    "def calcula_media(valor1=0, valor2=0, valor3=0):\n",
    "    soma = valor1 + valor2+ valor3\n",
    "    media = soma / 3\n",
    "    return media"
   ]
  },
  {
   "cell_type": "code",
   "execution_count": 9,
   "id": "f5e86e7a",
   "metadata": {
    "ExecuteTime": {
     "end_time": "2021-07-06T21:46:07.624177Z",
     "start_time": "2021-07-06T21:46:07.607161Z"
    }
   },
   "outputs": [
    {
     "name": "stdout",
     "output_type": "stream",
     "text": [
      "0.0\n"
     ]
    }
   ],
   "source": [
    "resultado = calcula_media()\n",
    "print(resultado)"
   ]
  },
  {
   "cell_type": "markdown",
   "id": "e29e47c1",
   "metadata": {},
   "source": [
    "## Aula 07 - Funções II"
   ]
  },
  {
   "cell_type": "code",
   "execution_count": 10,
   "id": "18fbeb66",
   "metadata": {
    "ExecuteTime": {
     "end_time": "2021-07-06T21:48:20.284790Z",
     "start_time": "2021-07-06T21:48:20.278790Z"
    }
   },
   "outputs": [],
   "source": [
    "def piscina(*infos):\n",
    "    vol = infos[0]*infos[1]*infos[2]\n",
    "    return vol\n",
    "\n",
    "volume = piscina(5, 4, 5)"
   ]
  },
  {
   "cell_type": "code",
   "execution_count": 11,
   "id": "a6ebb673",
   "metadata": {
    "ExecuteTime": {
     "end_time": "2021-07-06T21:48:32.110935Z",
     "start_time": "2021-07-06T21:48:32.092936Z"
    }
   },
   "outputs": [
    {
     "name": "stdout",
     "output_type": "stream",
     "text": [
      "O volume é:  100\n"
     ]
    }
   ],
   "source": [
    "print('O volume é: ', volume)"
   ]
  },
  {
   "cell_type": "code",
   "execution_count": 12,
   "id": "8cee6e50",
   "metadata": {
    "ExecuteTime": {
     "end_time": "2021-07-06T21:50:01.763296Z",
     "start_time": "2021-07-06T21:50:01.744300Z"
    }
   },
   "outputs": [],
   "source": [
    "def calcula_media(*args):\n",
    "    print(args, type(args))"
   ]
  },
  {
   "cell_type": "code",
   "execution_count": 13,
   "id": "7ddba1fe",
   "metadata": {
    "ExecuteTime": {
     "end_time": "2021-07-06T21:50:12.036534Z",
     "start_time": "2021-07-06T21:50:12.025533Z"
    }
   },
   "outputs": [
    {
     "name": "stdout",
     "output_type": "stream",
     "text": [
      "(10, 8, 9) <class 'tuple'>\n"
     ]
    }
   ],
   "source": [
    "calcula_media(10, 8, 9)"
   ]
  },
  {
   "cell_type": "code",
   "execution_count": 17,
   "id": "38cb8c19",
   "metadata": {
    "ExecuteTime": {
     "end_time": "2021-07-06T21:52:01.511009Z",
     "start_time": "2021-07-06T21:52:01.503001Z"
    }
   },
   "outputs": [],
   "source": [
    "def calcula_media(*args, margem):\n",
    "    soma = sum(args)\n",
    "    media = soma / len(args)\n",
    "    return media + margem"
   ]
  },
  {
   "cell_type": "code",
   "execution_count": 18,
   "id": "bba1cae7",
   "metadata": {
    "ExecuteTime": {
     "end_time": "2021-07-06T21:52:05.507454Z",
     "start_time": "2021-07-06T21:52:05.500456Z"
    }
   },
   "outputs": [
    {
     "data": {
      "text/plain": [
       "9.3"
      ]
     },
     "execution_count": 18,
     "metadata": {},
     "output_type": "execute_result"
    }
   ],
   "source": [
    "calcula_media(10, 8, 9, margem=0.3)"
   ]
  },
  {
   "cell_type": "code",
   "execution_count": 19,
   "id": "e3a8fdb6",
   "metadata": {
    "ExecuteTime": {
     "end_time": "2021-07-06T21:53:58.063310Z",
     "start_time": "2021-07-06T21:53:58.059309Z"
    }
   },
   "outputs": [],
   "source": [
    "def print_info(**kwargs):\n",
    "    print(kwargs, type(kwargs))"
   ]
  },
  {
   "cell_type": "code",
   "execution_count": 20,
   "id": "55d24c54",
   "metadata": {
    "ExecuteTime": {
     "end_time": "2021-07-06T21:54:21.735456Z",
     "start_time": "2021-07-06T21:54:21.719456Z"
    }
   },
   "outputs": [
    {
     "name": "stdout",
     "output_type": "stream",
     "text": [
      "{'nome': 'Halisson', 'sobrenome': 'Gomides'} <class 'dict'>\n"
     ]
    }
   ],
   "source": [
    "print_info(nome='Halisson', sobrenome='Gomides')"
   ]
  },
  {
   "cell_type": "code",
   "execution_count": 21,
   "id": "7d3d17ed",
   "metadata": {
    "ExecuteTime": {
     "end_time": "2021-07-06T21:56:19.132057Z",
     "start_time": "2021-07-06T21:56:19.126060Z"
    }
   },
   "outputs": [],
   "source": [
    "def piscina(prof, **infos):\n",
    "    vol = prof*infos['largura']*infos['comprimento']\n",
    "    return vol"
   ]
  },
  {
   "cell_type": "code",
   "execution_count": 22,
   "id": "887c0fe1",
   "metadata": {
    "ExecuteTime": {
     "end_time": "2021-07-06T21:56:40.099600Z",
     "start_time": "2021-07-06T21:56:40.085608Z"
    }
   },
   "outputs": [
    {
     "name": "stdout",
     "output_type": "stream",
     "text": [
      "O volume é:  100\n"
     ]
    }
   ],
   "source": [
    "volume = piscina(5, largura=4, comprimento=5)\n",
    "print('O volume é: ', volume)"
   ]
  },
  {
   "cell_type": "markdown",
   "id": "660a9f62",
   "metadata": {},
   "source": [
    "# Aplicações"
   ]
  },
  {
   "cell_type": "markdown",
   "id": "a4080c54",
   "metadata": {},
   "source": [
    "## Aula 01 - Manipulação de Arquivos"
   ]
  },
  {
   "cell_type": "code",
   "execution_count": 3,
   "id": "5b48ba05",
   "metadata": {
    "ExecuteTime": {
     "end_time": "2021-07-06T22:03:14.684805Z",
     "start_time": "2021-07-06T22:03:14.668802Z"
    }
   },
   "outputs": [
    {
     "name": "stdout",
     "output_type": "stream",
     "text": [
      "Dom Casmurro \n",
      "\n",
      "Texto de referenda: \n",
      "Obras Completas de Machado de Assis, vol. I, \n",
      "Nova Aguilar, Rio de Janeiro, 1994. \n",
      "Publicado originalmente pela Editora Gamier, Rio de Janeiro, 1899. \n",
      "\n",
      "\n",
      "CAPITULO PRIMEIRO \n",
      "DO TITULO \n",
      "\n",
      "Uma noite destas, vindo da cidade para o Engenho Novo, encontrei no trem da \n",
      "Central um rapaz aqui do bairro, que eu conhego de vista e de chapeu. \n",
      "Cumprimentou-me, sentou-se ao pe de mim, falou da Lua e dos ministros, e \n",
      "acabou recitando-me versos. A viagem era curta, e os versos pode ser que nao \n",
      "fossem inteiramente maus. Sucedeu, porem, que, como eu estava cansado, fechei \n",
      "os olhos tres ou quatro vezes; tanto bastou para que ele interrompesse a leitura e \n",
      "metesse os versos no bolso. \n",
      "\n",
      "— Continue, disse eu acordando. \n",
      "\n",
      "— Ja acabei, murmurou ele. \n",
      "\n",
      "— Sao muito bonitos. \n",
      "\n",
      "Vi-lhe fazer um gesto para tira-los outra vez do bolso, mas nao passou do gesto; \n",
      "estava amuado. No dia seguinte entrou a dizer de mim nomes feios, e acabou \n",
      "alcunhando-me Dom Casmurro. Os vizinhos, que nao gostam dos meus habitos \n",
      "reclusos e calados, deram curso a alcunha, que afinal pegou. Nem por isso me \n",
      "zanguei. Contei a anedota aos amigos da cidade, e eles, por graga, chamam-me \n",
      "assim, alguns em bilhetes: \"Dom Casmurro, domingo vou jantar com voce”.— \n",
      "\"Vou para Petropolis, Dom Casmurro; a casa e a mesma da Renania; ve se deixas \n",
      "essa caverna do Engenho Novo, e vai la passar uns quinze dias comigo\".— \"Meu \n",
      "caro Dom Casmurro, nao cuide que o dispenso do teatro amanha; venha e dormira \n",
      "aqui na cidade; dou-lhe camarote, dou-lhe cha, dou-lhe cama; so nao Ihe dou \n",
      "moga”. \n",
      "\n",
      "Nao consultes dicionarios. Casmurro nao esta aqui no sentido que eles Ihe dao, \n",
      "mas no que Ihe pos o vulgo de homem calado e metido consigo. Dom veio por \n",
      "ironia, para atribuir-me fumos de fidalgo. Tudo por estar cochilando! Tambem nao \n",
      "achei melhor titulo para a minha narracao; se nao tiver outro daqui ate ao fim do \n",
      "livro, vai este mesmo. O meu poeta do trem ficara sabendo que nao Ihe guardo \n",
      "rancor. E com pequeno esforco, sendo o titulo seu, podera cuidar que a obra e \n",
      "sua. Ha livros que apenas terao isso dos seus autores; alguns nem tanto. \n",
      "\n"
     ]
    }
   ],
   "source": [
    "arquivo = open('dados/originais/python_basics/dom_casmurro_cap_1.txt', 'r', encoding='utf-8')\n",
    "texto = arquivo.read()\n",
    "print(texto)\n",
    "arquivo.close()"
   ]
  },
  {
   "cell_type": "code",
   "execution_count": 4,
   "id": "bab3c073",
   "metadata": {
    "ExecuteTime": {
     "end_time": "2021-07-06T22:05:41.603556Z",
     "start_time": "2021-07-06T22:05:41.575561Z"
    }
   },
   "outputs": [
    {
     "name": "stdout",
     "output_type": "stream",
     "text": [
      "Dom Casmurro \n",
      "\n",
      "Texto de referenda: \n",
      "Obras Completas de Machado de Assis, vol. I, \n",
      "Nova Aguilar, Rio de Janeiro, 1994. \n",
      "Publicado originalmente pela Editora Gamier, Rio de Janeiro, 1899. \n",
      "\n",
      "\n",
      "CAPITULO PRIMEIRO \n",
      "DO TITULO \n",
      "\n",
      "Uma noite destas, vindo da cidade para o Engenho Novo, encontrei no trem da \n",
      "Central um rapaz aqui do bairro, que eu conhego de vista e de chapeu. \n",
      "Cumprimentou-me, sentou-se ao pe de mim, falou da Lua e dos ministros, e \n",
      "acabou recitando-me versos. A viagem era curta, e os versos pode ser que nao \n",
      "fossem inteiramente maus. Sucedeu, porem, que, como eu estava cansado, fechei \n",
      "os olhos tres ou quatro vezes; tanto bastou para que ele interrompesse a leitura e \n",
      "metesse os versos no bolso. \n",
      "\n",
      "— Continue, disse eu acordando. \n",
      "\n",
      "— Ja acabei, murmurou ele. \n",
      "\n",
      "— Sao muito bonitos. \n",
      "\n",
      "Vi-lhe fazer um gesto para tira-los outra vez do bolso, mas nao passou do gesto; \n",
      "estava amuado. No dia seguinte entrou a dizer de mim nomes feios, e acabou \n",
      "alcunhando-me Dom Casmurro. Os vizinhos, que nao gostam dos meus habitos \n",
      "reclusos e calados, deram curso a alcunha, que afinal pegou. Nem por isso me \n",
      "zanguei. Contei a anedota aos amigos da cidade, e eles, por graga, chamam-me \n",
      "assim, alguns em bilhetes: \"Dom Casmurro, domingo vou jantar com voce”.— \n",
      "\"Vou para Petropolis, Dom Casmurro; a casa e a mesma da Renania; ve se deixas \n",
      "essa caverna do Engenho Novo, e vai la passar uns quinze dias comigo\".— \"Meu \n",
      "caro Dom Casmurro, nao cuide que o dispenso do teatro amanha; venha e dormira \n",
      "aqui na cidade; dou-lhe camarote, dou-lhe cha, dou-lhe cama; so nao Ihe dou \n",
      "moga”. \n",
      "\n",
      "Nao consultes dicionarios. Casmurro nao esta aqui no sentido que eles Ihe dao, \n",
      "mas no que Ihe pos o vulgo de homem calado e metido consigo. Dom veio por \n",
      "ironia, para atribuir-me fumos de fidalgo. Tudo por estar cochilando! Tambem nao \n",
      "achei melhor titulo para a minha narracao; se nao tiver outro daqui ate ao fim do \n",
      "livro, vai este mesmo. O meu poeta do trem ficara sabendo que nao Ihe guardo \n",
      "rancor. E com pequeno esforco, sendo o titulo seu, podera cuidar que a obra e \n",
      "sua. Ha livros que apenas terao isso dos seus autores; alguns nem tanto. \n"
     ]
    }
   ],
   "source": [
    "arquivo = open('dados/originais/python_basics/dom_casmurro_cap_1.txt', 'r', encoding='utf-8')\n",
    "linha = arquivo.readline() # lê apenas uma linha do arquivo a partir do início\n",
    "while linha != '': # enquanto não chegar ao fim do arquivo\n",
    "    print(linha, end='')\n",
    "    linha = arquivo.readline()\n",
    "    \n",
    "arquivo.close()"
   ]
  },
  {
   "cell_type": "code",
   "execution_count": 5,
   "id": "f7d449e1",
   "metadata": {
    "ExecuteTime": {
     "end_time": "2021-07-06T22:07:20.801231Z",
     "start_time": "2021-07-06T22:07:20.767232Z"
    }
   },
   "outputs": [
    {
     "name": "stdout",
     "output_type": "stream",
     "text": [
      "Dom Casmurro \n",
      "\n",
      "Texto de referenda: \n",
      "Obras Completas de Machado de Assis, vol. I, \n",
      "Nova Aguilar, Rio de Janeiro, 1994. \n",
      "Publicado originalmente pela Editora Gamier, Rio de Janeiro, 1899. \n",
      "\n",
      "\n",
      "CAPITULO PRIMEIRO \n",
      "DO TITULO \n",
      "\n",
      "Uma noite destas, vindo da cidade para o Engenho Novo, encontrei no trem da \n",
      "Central um rapaz aqui do bairro, que eu conhego de vista e de chapeu. \n",
      "Cumprimentou-me, sentou-se ao pe de mim, falou da Lua e dos ministros, e \n",
      "acabou recitando-me versos. A viagem era curta, e os versos pode ser que nao \n",
      "fossem inteiramente maus. Sucedeu, porem, que, como eu estava cansado, fechei \n",
      "os olhos tres ou quatro vezes; tanto bastou para que ele interrompesse a leitura e \n",
      "metesse os versos no bolso. \n",
      "\n",
      "— Continue, disse eu acordando. \n",
      "\n",
      "— Ja acabei, murmurou ele. \n",
      "\n",
      "— Sao muito bonitos. \n",
      "\n",
      "Vi-lhe fazer um gesto para tira-los outra vez do bolso, mas nao passou do gesto; \n",
      "estava amuado. No dia seguinte entrou a dizer de mim nomes feios, e acabou \n",
      "alcunhando-me Dom Casmurro. Os vizinhos, que nao gostam dos meus habitos \n",
      "reclusos e calados, deram curso a alcunha, que afinal pegou. Nem por isso me \n",
      "zanguei. Contei a anedota aos amigos da cidade, e eles, por graga, chamam-me \n",
      "assim, alguns em bilhetes: \"Dom Casmurro, domingo vou jantar com voce”.— \n",
      "\"Vou para Petropolis, Dom Casmurro; a casa e a mesma da Renania; ve se deixas \n",
      "essa caverna do Engenho Novo, e vai la passar uns quinze dias comigo\".— \"Meu \n",
      "caro Dom Casmurro, nao cuide que o dispenso do teatro amanha; venha e dormira \n",
      "aqui na cidade; dou-lhe camarote, dou-lhe cha, dou-lhe cama; so nao Ihe dou \n",
      "moga”. \n",
      "\n",
      "Nao consultes dicionarios. Casmurro nao esta aqui no sentido que eles Ihe dao, \n",
      "mas no que Ihe pos o vulgo de homem calado e metido consigo. Dom veio por \n",
      "ironia, para atribuir-me fumos de fidalgo. Tudo por estar cochilando! Tambem nao \n",
      "achei melhor titulo para a minha narracao; se nao tiver outro daqui ate ao fim do \n",
      "livro, vai este mesmo. O meu poeta do trem ficara sabendo que nao Ihe guardo \n",
      "rancor. E com pequeno esforco, sendo o titulo seu, podera cuidar que a obra e \n",
      "sua. Ha livros que apenas terao isso dos seus autores; alguns nem tanto. \n"
     ]
    }
   ],
   "source": [
    "# mesmo resultado com código mais enxuto\n",
    "arquivo = open('dados/originais/python_basics/dom_casmurro_cap_1.txt', 'r', encoding='utf-8')\n",
    "for linha in arquivo:\n",
    "    print(linha, end='')\n",
    "    \n",
    "arquivo.close()"
   ]
  },
  {
   "cell_type": "code",
   "execution_count": 6,
   "id": "7a9f74c0",
   "metadata": {
    "ExecuteTime": {
     "end_time": "2021-07-06T22:08:52.727734Z",
     "start_time": "2021-07-06T22:08:52.721729Z"
    }
   },
   "outputs": [
    {
     "name": "stdout",
     "output_type": "stream",
     "text": [
      "Dom Casmurro \n",
      "\n",
      "Texto de referenda: \n",
      "Obras Completas de Machado de Assis, vol. I, \n",
      "Nova Aguilar, Rio de Janeiro, 1994. \n",
      "Publicado originalmente pela Editora Gamier, Rio de Janeiro, 1899. \n",
      "\n",
      "\n",
      "CAPITULO PRIMEIRO \n",
      "DO TITULO \n",
      "\n",
      "Uma noite destas, vindo da cidade para o Engenho Novo, encontrei no trem da \n",
      "Central um rapaz aqui do bairro, que eu conhego de vista e de chapeu. \n",
      "Cumprimentou-me, sentou-se ao pe de mim, falou da Lua e dos ministros, e \n",
      "acabou recitando-me versos. A viagem era curta, e os versos pode ser que nao \n",
      "fossem inteiramente maus. Sucedeu, porem, que, como eu estava cansado, fechei \n",
      "os olhos tres ou quatro vezes; tanto bastou para que ele interrompesse a leitura e \n",
      "metesse os versos no bolso. \n",
      "\n",
      "— Continue, disse eu acordando. \n",
      "\n",
      "— Ja acabei, murmurou ele. \n",
      "\n",
      "— Sao muito bonitos. \n",
      "\n",
      "Vi-lhe fazer um gesto para tira-los outra vez do bolso, mas nao passou do gesto; \n",
      "estava amuado. No dia seguinte entrou a dizer de mim nomes feios, e acabou \n",
      "alcunhando-me Dom Casmurro. Os vizinhos, que nao gostam dos meus habitos \n",
      "reclusos e calados, deram curso a alcunha, que afinal pegou. Nem por isso me \n",
      "zanguei. Contei a anedota aos amigos da cidade, e eles, por graga, chamam-me \n",
      "assim, alguns em bilhetes: \"Dom Casmurro, domingo vou jantar com voce”.— \n",
      "\"Vou para Petropolis, Dom Casmurro; a casa e a mesma da Renania; ve se deixas \n",
      "essa caverna do Engenho Novo, e vai la passar uns quinze dias comigo\".— \"Meu \n",
      "caro Dom Casmurro, nao cuide que o dispenso do teatro amanha; venha e dormira \n",
      "aqui na cidade; dou-lhe camarote, dou-lhe cha, dou-lhe cama; so nao Ihe dou \n",
      "moga”. \n",
      "\n",
      "Nao consultes dicionarios. Casmurro nao esta aqui no sentido que eles Ihe dao, \n",
      "mas no que Ihe pos o vulgo de homem calado e metido consigo. Dom veio por \n",
      "ironia, para atribuir-me fumos de fidalgo. Tudo por estar cochilando! Tambem nao \n",
      "achei melhor titulo para a minha narracao; se nao tiver outro daqui ate ao fim do \n",
      "livro, vai este mesmo. O meu poeta do trem ficara sabendo que nao Ihe guardo \n",
      "rancor. E com pequeno esforco, sendo o titulo seu, podera cuidar que a obra e \n",
      "sua. Ha livros que apenas terao isso dos seus autores; alguns nem tanto. \n",
      "\n"
     ]
    }
   ],
   "source": [
    "with open('dados/originais/python_basics/dom_casmurro_cap_1.txt', 'r', encoding='utf-8') as arquivo:\n",
    "    texto = arquivo.read()\n",
    "    print(texto)"
   ]
  },
  {
   "cell_type": "code",
   "execution_count": 7,
   "id": "6f338db0",
   "metadata": {
    "ExecuteTime": {
     "end_time": "2021-07-06T22:09:05.402437Z",
     "start_time": "2021-07-06T22:09:05.378439Z"
    }
   },
   "outputs": [
    {
     "ename": "ValueError",
     "evalue": "I/O operation on closed file.",
     "output_type": "error",
     "traceback": [
      "\u001b[1;31m---------------------------------------------------------------------------\u001b[0m",
      "\u001b[1;31mValueError\u001b[0m                                Traceback (most recent call last)",
      "\u001b[1;32m~\\AppData\\Local\\Temp/ipykernel_18020/1726691100.py\u001b[0m in \u001b[0;36m<module>\u001b[1;34m\u001b[0m\n\u001b[1;32m----> 1\u001b[1;33m \u001b[0marquivo\u001b[0m\u001b[1;33m.\u001b[0m\u001b[0mread\u001b[0m\u001b[1;33m(\u001b[0m\u001b[1;33m)\u001b[0m\u001b[1;33m\u001b[0m\u001b[1;33m\u001b[0m\u001b[0m\n\u001b[0m",
      "\u001b[1;31mValueError\u001b[0m: I/O operation on closed file."
     ]
    }
   ],
   "source": [
    "arquivo.read()"
   ]
  },
  {
   "cell_type": "code",
   "execution_count": 8,
   "id": "4bfdfbdc",
   "metadata": {
    "ExecuteTime": {
     "end_time": "2021-07-06T22:11:17.414029Z",
     "start_time": "2021-07-06T22:11:17.394007Z"
    }
   },
   "outputs": [],
   "source": [
    "# Escrevendo em arquivos\n",
    "with open('dados/processados/python_basics/arquivo_teste.txt', 'w', encoding='utf-8') as arquivo:\n",
    "    arquivo.write('Essa é uma linha que eu escrevi usando Python\\n')\n",
    "    arquivo.write('Essa é a segunda linha que eu escrevi usando Python\\n')"
   ]
  },
  {
   "cell_type": "code",
   "execution_count": 17,
   "id": "18eed6af",
   "metadata": {
    "ExecuteTime": {
     "end_time": "2021-07-07T14:55:01.864536Z",
     "start_time": "2021-07-07T14:55:01.853543Z"
    }
   },
   "outputs": [
    {
     "name": "stdout",
     "output_type": "stream",
     "text": [
      "Essa é uma linha que eu escrevi usando Python\n",
      "Essa é a segunda linha que eu escrevi usando Python"
     ]
    }
   ],
   "source": [
    "with open('dados/processados/python_basics/arquivo_teste.txt', 'r', encoding='utf-8') as arquivo:\n",
    "    print(arquivo.read(), end='')"
   ]
  },
  {
   "cell_type": "code",
   "execution_count": 18,
   "id": "acf18ad1",
   "metadata": {
    "ExecuteTime": {
     "end_time": "2021-07-07T14:55:03.943508Z",
     "start_time": "2021-07-07T14:55:03.930503Z"
    }
   },
   "outputs": [],
   "source": [
    "with open('dados/processados/python_basics/arquivo_teste.txt', 'a', encoding='utf-8') as arquivo:\n",
    "    arquivo.write('Essa é a terceira linha que eu escrevi usando Python\\n')\n",
    "    arquivo.write(format('Fim do arquivo', '=^82')+'\\n')"
   ]
  },
  {
   "cell_type": "code",
   "execution_count": 19,
   "id": "daeec3b8",
   "metadata": {
    "ExecuteTime": {
     "end_time": "2021-07-07T14:55:05.420471Z",
     "start_time": "2021-07-07T14:55:05.398473Z"
    }
   },
   "outputs": [
    {
     "name": "stdout",
     "output_type": "stream",
     "text": [
      "Essa é uma linha que eu escrevi usando Python\n",
      "Essa é a segunda linha que eu escrevi usando PythonEssa é a terceira linha que eu escrevi usando Python\n",
      "==================================Fim do arquivo==================================\n"
     ]
    }
   ],
   "source": [
    "# Usando o modo de abertura de arquivo 'a'\n",
    "# append\ta\tabre um arquivo existente para adicionar informações ao seu final\n",
    "with open('dados/processados/python_basics/arquivo_teste.txt', 'r', encoding='utf-8') as arquivo:\n",
    "    print(arquivo.read(), end='')"
   ]
  },
  {
   "cell_type": "markdown",
   "id": "382a3acd",
   "metadata": {},
   "source": [
    "## Aula 02 - Arquivos CSV"
   ]
  },
  {
   "cell_type": "code",
   "execution_count": 20,
   "id": "3857a6da",
   "metadata": {
    "ExecuteTime": {
     "end_time": "2021-07-07T14:55:32.617971Z",
     "start_time": "2021-07-07T14:55:32.587975Z"
    }
   },
   "outputs": [],
   "source": [
    "import csv"
   ]
  },
  {
   "cell_type": "code",
   "execution_count": 23,
   "id": "ba05ea4e",
   "metadata": {
    "ExecuteTime": {
     "end_time": "2021-07-07T15:00:05.891678Z",
     "start_time": "2021-07-07T15:00:05.858677Z"
    }
   },
   "outputs": [
    {
     "name": "stdout",
     "output_type": "stream",
     "text": [
      "['2020-03-06', 'Brasil', '5', '0', '8', '0']\n",
      "['2020-03-07', 'Brasil', '5', '0', '13', '0']\n",
      "['2020-03-09', 'Brasil', '12', '0', '25', '0']\n",
      "['2020-03-11', 'Brasil', '9', '0', '34', '0']\n",
      "['2020-03-12', 'Brasil', '18', '0', '52', '0']\n",
      "['2020-03-13', 'Brasil', '25', '0', '77', '0']\n",
      "['2020-03-14', 'Brasil', '21', '0', '98', '0']\n",
      "['2020-03-15', 'Brasil', '23', '0', '121', '0']\n",
      "['2020-03-16', 'Brasil', '79', '0', '200', '0']\n",
      "['2020-03-17', 'Brasil', '34', '0', '234', '0']\n",
      "['2020-03-18', 'Brasil', '57', '1', '291', '1']\n",
      "['2020-03-19', 'Brasil', '137', '3', '428', '4']\n",
      "['2020-03-20', 'Brasil', '193', '2', '621', '6']\n",
      "['2020-03-21', 'Brasil', '283', '5', '904', '11']\n",
      "['2020-03-22', 'Brasil', '224', '7', '1128', '18']\n",
      "['2020-03-23', 'Brasil', '418', '7', '1546', '25']\n",
      "['2020-03-24', 'Brasil', '345', '9', '1891', '34']\n",
      "['2020-03-25', 'Brasil', '310', '12', '2201', '46']\n",
      "['2020-03-26', 'Brasil', '232', '11', '2433', '57']\n",
      "['2020-03-27', 'Brasil', '482', '20', '2915', '77']\n",
      "['2020-03-28', 'Brasil', '502', '15', '3417', '92']\n",
      "['2020-03-29', 'Brasil', '487', '22', '3904', '114']\n",
      "['2020-03-30', 'Brasil', '352', '22', '4256', '136']\n",
      "['2020-03-31', 'Brasil', '323', '23', '4579', '159']\n",
      "['2020-04-01', 'Brasil', '1138', '42', '5717', '201']\n",
      "['2020-04-02', 'Brasil', '1119', '40', '6836', '241']\n",
      "['2020-04-03', 'Brasil', '1074', '58', '7910', '299']\n",
      "['2020-04-04', 'Brasil', '1146', '60', '9056', '359']\n",
      "['2020-04-05', 'Brasil', '1222', '73', '10278', '432']\n",
      "['2020-04-06', 'Brasil', '852', '54', '11130', '486']\n",
      "['2020-04-07', 'Brasil', '926', '67', '12056', '553']\n",
      "['2020-04-08', 'Brasil', '1661', '114', '13717', '667']\n",
      "['2020-04-09', 'Brasil', '2210', '133', '15927', '800']\n",
      "['2020-04-10', 'Brasil', '1930', '141', '17857', '941']\n",
      "['2020-04-11', 'Brasil', '1781', '115', '19638', '1056']\n",
      "['2020-04-12', 'Brasil', '1089', '68', '20727', '1124']\n",
      "['2020-04-13', 'Brasil', '1442', '99', '22169', '1223']\n",
      "['2020-04-14', 'Brasil', '1261', '105', '23430', '1328']\n",
      "['2020-04-15', 'Brasil', '1832', '204', '25262', '1532']\n",
      "['2020-04-16', 'Brasil', '3058', '204', '28320', '1736']\n",
      "['2020-04-17', 'Brasil', '2105', '188', '30425', '1924']\n",
      "['2020-04-18', 'Brasil', '3257', '217', '33682', '2141']\n",
      "['2020-04-19', 'Brasil', '2917', '206', '36599', '2347']\n",
      "['2020-04-20', 'Brasil', '2055', '115', '38654', '2462']\n",
      "['2020-04-21', 'Brasil', '1927', '113', '40581', '2575']\n",
      "['2020-04-22', 'Brasil', '2498', '166', '43079', '2741']\n",
      "['2020-04-23', 'Brasil', '2678', '165', '45757', '2906']\n",
      "['2020-04-24', 'Brasil', '3735', '407', '49492', '3313']\n",
      "['2020-04-25', 'Brasil', '3503', '357', '52995', '3670']\n",
      "['2020-04-26', 'Brasil', '5514', '346', '58509', '4016']\n",
      "['2020-04-27', 'Brasil', '3379', '189', '61888', '4205']\n",
      "['2020-04-28', 'Brasil', '4613', '338', '66501', '4543']\n",
      "['2020-04-29', 'Brasil', '5385', '474', '71886', '5017']\n",
      "['2020-04-30', 'Brasil', '6276', '449', '78162', '5466']\n",
      "['2020-05-01', 'Brasil', '7218', '435', '85380', '5901']\n",
      "['2020-05-02', 'Brasil', '6209', '428', '91589', '6329']\n",
      "['2020-05-03', 'Brasil', '4970', '421', '96559', '6750']\n",
      "['2020-05-04', 'Brasil', '4588', '275', '101147', '7025']\n",
      "['2020-05-05', 'Brasil', '6633', '296', '107780', '7321']\n",
      "['2020-05-06', 'Brasil', '6935', '600', '114715', '7921']\n",
      "['2020-05-07', 'Brasil', '10503', '615', '125218', '8536']\n",
      "['2020-05-08', 'Brasil', '9888', '610', '135106', '9146']\n",
      "['2020-05-09', 'Brasil', '10222', '751', '145328', '9897']\n",
      "['2020-05-10', 'Brasil', '10611', '730', '155939', '10627']\n",
      "['2020-05-11', 'Brasil', '6760', '496', '162699', '11123']\n",
      "['2020-05-12', 'Brasil', '5632', '396', '168331', '11519']\n",
      "['2020-05-13', 'Brasil', '9258', '881', '177589', '12400']\n",
      "['2020-05-14', 'Brasil', '11385', '749', '188974', '13149']\n",
      "['2020-05-15', 'Brasil', '13944', '844', '202918', '13993']\n",
      "['2020-05-16', 'Brasil', '15305', '824', '218223', '14817']\n",
      "['2020-05-17', 'Brasil', '14919', '816', '233142', '15633']\n",
      "['2020-05-18', 'Brasil', '7938', '485', '241080', '16118']\n",
      "['2020-05-19', 'Brasil', '13140', '674', '254220', '16792']\n",
      "['2020-05-20', 'Brasil', '17408', '1179', '271628', '17971']\n",
      "['2020-05-21', 'Brasil', '19951', '888', '291579', '18859']\n",
      "['2020-05-22', 'Brasil', '18508', '1188', '310087', '20047']\n",
      "['2020-05-23', 'Brasil', '20803', '1001', '330890', '21048']\n",
      "['2020-05-24', 'Brasil', '16508', '965', '347398', '22013']\n",
      "['2020-05-25', 'Brasil', '15813', '653', '363211', '22666']\n",
      "['2020-05-26', 'Brasil', '11687', '807', '374898', '23473']\n",
      "['2020-05-27', 'Brasil', '16324', '1039', '391222', '24512']\n",
      "['2020-05-28', 'Brasil', '20599', '1086', '411821', '25598']\n",
      "['2020-05-29', 'Brasil', '26417', '1156', '438238', '26754']\n",
      "['2020-05-30', 'Brasil', '26928', '1124', '465166', '27878']\n",
      "['2020-05-31', 'Brasil', '33274', '956', '498440', '28834']\n",
      "['2020-06-01', 'Brasil', '16409', '480', '514849', '29314']\n",
      "['2020-06-02', 'Brasil', '11598', '623', '526447', '29937']\n",
      "['2020-06-03', 'Brasil', '28936', '1262', '555383', '31199']\n",
      "['2020-06-04', 'Brasil', '28633', '1349', '584016', '32548']\n",
      "['2020-06-05', 'Brasil', '30916', '1473', '614932', '34021']\n",
      "['2020-06-06', 'Brasil', '30830', '1005', '645762', '35026']\n",
      "['2020-06-07', 'Brasil', '27075', '904', '672837', '35930']\n",
      "['2020-06-08', 'Brasil', '18921', '525', '691758', '36455']\n",
      "['2020-06-09', 'Brasil', '15654', '679', '707412', '37134']\n",
      "['2020-06-10', 'Brasil', '32091', '1272', '739503', '38406']\n",
      "['2020-06-11', 'Brasil', '32913', '1274', '772416', '39680']\n",
      "['2020-06-12', 'Brasil', '30412', '1239', '802828', '40919']\n",
      "['2020-06-13', 'Brasil', '25982', '909', '828810', '41828']\n",
      "['2020-06-14', 'Brasil', '21704', '892', '850514', '42720']\n",
      "['2020-06-15', 'Brasil', '17110', '612', '867624', '43332']\n",
      "['2020-06-16', 'Brasil', '20647', '627', '888271', '43959']\n"
     ]
    }
   ],
   "source": [
    "with open('dados/originais/python_basics/brasil_covid.csv', 'r', encoding='utf-8') as arquivo_csv:\n",
    "    leitor = csv.reader(arquivo_csv)\n",
    "    header = next(leitor) # pula o cabeçalho\n",
    "    for linha in leitor:\n",
    "        if float(linha[2]) > 1: # novos casos > 1\n",
    "            print(linha)"
   ]
  },
  {
   "cell_type": "code",
   "execution_count": 25,
   "id": "05f55610",
   "metadata": {
    "ExecuteTime": {
     "end_time": "2021-07-07T15:02:32.173340Z",
     "start_time": "2021-07-07T15:02:32.130338Z"
    }
   },
   "outputs": [
    {
     "name": "stdout",
     "output_type": "stream",
     "text": [
      "['data', 'pais', 'novos_casos', 'novos_obitos', 'total_casos', 'total_obitos']\n",
      "['2019-12-31', 'Brasil', '0', '0', '0', '0']\n",
      "['2020-01-01', 'Brasil', '0', '0', '0', '0']\n",
      "['2020-01-02', 'Brasil', '0', '0', '0', '0']\n",
      "['2020-01-03', 'Brasil', '0', '0', '0', '0']\n",
      "['2020-01-04', 'Brasil', '0', '0', '0', '0']\n",
      "['2020-01-05', 'Brasil', '0', '0', '0', '0']\n",
      "['2020-01-06', 'Brasil', '0', '0', '0', '0']\n",
      "['2020-01-07', 'Brasil', '0', '0', '0', '0']\n",
      "['2020-01-08', 'Brasil', '0', '0', '0', '0']\n",
      "['2020-01-09', 'Brasil', '0', '0', '0', '0']\n",
      "['2020-01-10', 'Brasil', '0', '0', '0', '0']\n",
      "['2020-01-11', 'Brasil', '0', '0', '0', '0']\n",
      "['2020-01-12', 'Brasil', '0', '0', '0', '0']\n",
      "['2020-01-13', 'Brasil', '0', '0', '0', '0']\n",
      "['2020-01-14', 'Brasil', '0', '0', '0', '0']\n",
      "['2020-01-15', 'Brasil', '0', '0', '0', '0']\n",
      "['2020-01-16', 'Brasil', '0', '0', '0', '0']\n",
      "['2020-01-17', 'Brasil', '0', '0', '0', '0']\n",
      "['2020-01-18', 'Brasil', '0', '0', '0', '0']\n",
      "['2020-01-19', 'Brasil', '0', '0', '0', '0']\n",
      "['2020-01-20', 'Brasil', '0', '0', '0', '0']\n",
      "['2020-01-21', 'Brasil', '0', '0', '0', '0']\n",
      "['2020-01-22', 'Brasil', '0', '0', '0', '0']\n",
      "['2020-01-23', 'Brasil', '0', '0', '0', '0']\n",
      "['2020-01-24', 'Brasil', '0', '0', '0', '0']\n",
      "['2020-01-25', 'Brasil', '0', '0', '0', '0']\n",
      "['2020-01-26', 'Brasil', '0', '0', '0', '0']\n",
      "['2020-01-27', 'Brasil', '0', '0', '0', '0']\n",
      "['2020-01-28', 'Brasil', '0', '0', '0', '0']\n",
      "['2020-01-29', 'Brasil', '0', '0', '0', '0']\n",
      "['2020-01-30', 'Brasil', '0', '0', '0', '0']\n",
      "['2020-01-31', 'Brasil', '0', '0', '0', '0']\n",
      "['2020-02-01', 'Brasil', '0', '0', '0', '0']\n",
      "['2020-02-02', 'Brasil', '0', '0', '0', '0']\n",
      "['2020-02-03', 'Brasil', '0', '0', '0', '0']\n",
      "['2020-02-04', 'Brasil', '0', '0', '0', '0']\n",
      "['2020-02-05', 'Brasil', '0', '0', '0', '0']\n",
      "['2020-02-06', 'Brasil', '0', '0', '0', '0']\n",
      "['2020-02-07', 'Brasil', '0', '0', '0', '0']\n",
      "['2020-02-08', 'Brasil', '0', '0', '0', '0']\n",
      "['2020-02-09', 'Brasil', '0', '0', '0', '0']\n",
      "['2020-02-10', 'Brasil', '0', '0', '0', '0']\n",
      "['2020-02-11', 'Brasil', '0', '0', '0', '0']\n",
      "['2020-02-12', 'Brasil', '0', '0', '0', '0']\n",
      "['2020-02-13', 'Brasil', '0', '0', '0', '0']\n",
      "['2020-02-14', 'Brasil', '0', '0', '0', '0']\n",
      "['2020-02-15', 'Brasil', '0', '0', '0', '0']\n",
      "['2020-02-16', 'Brasil', '0', '0', '0', '0']\n",
      "['2020-02-17', 'Brasil', '0', '0', '0', '0']\n",
      "['2020-02-18', 'Brasil', '0', '0', '0', '0']\n",
      "['2020-02-19', 'Brasil', '0', '0', '0', '0']\n",
      "['2020-02-20', 'Brasil', '0', '0', '0', '0']\n",
      "['2020-02-21', 'Brasil', '0', '0', '0', '0']\n",
      "['2020-02-22', 'Brasil', '0', '0', '0', '0']\n",
      "['2020-02-23', 'Brasil', '0', '0', '0', '0']\n",
      "['2020-02-24', 'Brasil', '0', '0', '0', '0']\n",
      "['2020-02-25', 'Brasil', '0', '0', '0', '0']\n",
      "['2020-02-26', 'Brasil', '1', '0', '1', '0']\n",
      "['2020-02-27', 'Brasil', '0', '0', '1', '0']\n",
      "['2020-02-28', 'Brasil', '0', '0', '1', '0']\n",
      "['2020-02-29', 'Brasil', '0', '0', '1', '0']\n",
      "['2020-03-01', 'Brasil', '1', '0', '2', '0']\n",
      "['2020-03-02', 'Brasil', '0', '0', '2', '0']\n",
      "['2020-03-03', 'Brasil', '0', '0', '2', '0']\n",
      "['2020-03-04', 'Brasil', '0', '0', '2', '0']\n",
      "['2020-03-05', 'Brasil', '1', '0', '3', '0']\n",
      "['2020-03-06', 'Brasil', '5', '0', '8', '0']\n",
      "['2020-03-07', 'Brasil', '5', '0', '13', '0']\n",
      "['2020-03-08', 'Brasil', '0', '0', '13', '0']\n",
      "['2020-03-09', 'Brasil', '12', '0', '25', '0']\n",
      "['2020-03-10', 'Brasil', '0', '0', '25', '0']\n",
      "['2020-03-11', 'Brasil', '9', '0', '34', '0']\n",
      "['2020-03-12', 'Brasil', '18', '0', '52', '0']\n",
      "['2020-03-13', 'Brasil', '25', '0', '77', '0']\n",
      "['2020-03-14', 'Brasil', '21', '0', '98', '0']\n",
      "['2020-03-15', 'Brasil', '23', '0', '121', '0']\n",
      "['2020-03-16', 'Brasil', '79', '0', '200', '0']\n",
      "['2020-03-17', 'Brasil', '34', '0', '234', '0']\n",
      "['2020-03-18', 'Brasil', '57', '1', '291', '1']\n",
      "['2020-03-19', 'Brasil', '137', '3', '428', '4']\n",
      "['2020-03-20', 'Brasil', '193', '2', '621', '6']\n",
      "['2020-03-21', 'Brasil', '283', '5', '904', '11']\n",
      "['2020-03-22', 'Brasil', '224', '7', '1128', '18']\n",
      "['2020-03-23', 'Brasil', '418', '7', '1546', '25']\n",
      "['2020-03-24', 'Brasil', '345', '9', '1891', '34']\n",
      "['2020-03-25', 'Brasil', '310', '12', '2201', '46']\n",
      "['2020-03-26', 'Brasil', '232', '11', '2433', '57']\n",
      "['2020-03-27', 'Brasil', '482', '20', '2915', '77']\n",
      "['2020-03-28', 'Brasil', '502', '15', '3417', '92']\n",
      "['2020-03-29', 'Brasil', '487', '22', '3904', '114']\n",
      "['2020-03-30', 'Brasil', '352', '22', '4256', '136']\n",
      "['2020-03-31', 'Brasil', '323', '23', '4579', '159']\n",
      "['2020-04-01', 'Brasil', '1138', '42', '5717', '201']\n",
      "['2020-04-02', 'Brasil', '1119', '40', '6836', '241']\n",
      "['2020-04-03', 'Brasil', '1074', '58', '7910', '299']\n",
      "['2020-04-04', 'Brasil', '1146', '60', '9056', '359']\n",
      "['2020-04-05', 'Brasil', '1222', '73', '10278', '432']\n",
      "['2020-04-06', 'Brasil', '852', '54', '11130', '486']\n",
      "['2020-04-07', 'Brasil', '926', '67', '12056', '553']\n",
      "['2020-04-08', 'Brasil', '1661', '114', '13717', '667']\n",
      "['2020-04-09', 'Brasil', '2210', '133', '15927', '800']\n",
      "['2020-04-10', 'Brasil', '1930', '141', '17857', '941']\n",
      "['2020-04-11', 'Brasil', '1781', '115', '19638', '1056']\n",
      "['2020-04-12', 'Brasil', '1089', '68', '20727', '1124']\n",
      "['2020-04-13', 'Brasil', '1442', '99', '22169', '1223']\n",
      "['2020-04-14', 'Brasil', '1261', '105', '23430', '1328']\n",
      "['2020-04-15', 'Brasil', '1832', '204', '25262', '1532']\n",
      "['2020-04-16', 'Brasil', '3058', '204', '28320', '1736']\n",
      "['2020-04-17', 'Brasil', '2105', '188', '30425', '1924']\n",
      "['2020-04-18', 'Brasil', '3257', '217', '33682', '2141']\n",
      "['2020-04-19', 'Brasil', '2917', '206', '36599', '2347']\n",
      "['2020-04-20', 'Brasil', '2055', '115', '38654', '2462']\n",
      "['2020-04-21', 'Brasil', '1927', '113', '40581', '2575']\n",
      "['2020-04-22', 'Brasil', '2498', '166', '43079', '2741']\n",
      "['2020-04-23', 'Brasil', '2678', '165', '45757', '2906']\n",
      "['2020-04-24', 'Brasil', '3735', '407', '49492', '3313']\n",
      "['2020-04-25', 'Brasil', '3503', '357', '52995', '3670']\n",
      "['2020-04-26', 'Brasil', '5514', '346', '58509', '4016']\n",
      "['2020-04-27', 'Brasil', '3379', '189', '61888', '4205']\n",
      "['2020-04-28', 'Brasil', '4613', '338', '66501', '4543']\n",
      "['2020-04-29', 'Brasil', '5385', '474', '71886', '5017']\n",
      "['2020-04-30', 'Brasil', '6276', '449', '78162', '5466']\n",
      "['2020-05-01', 'Brasil', '7218', '435', '85380', '5901']\n",
      "['2020-05-02', 'Brasil', '6209', '428', '91589', '6329']\n",
      "['2020-05-03', 'Brasil', '4970', '421', '96559', '6750']\n",
      "['2020-05-04', 'Brasil', '4588', '275', '101147', '7025']\n",
      "['2020-05-05', 'Brasil', '6633', '296', '107780', '7321']\n",
      "['2020-05-06', 'Brasil', '6935', '600', '114715', '7921']\n",
      "['2020-05-07', 'Brasil', '10503', '615', '125218', '8536']\n",
      "['2020-05-08', 'Brasil', '9888', '610', '135106', '9146']\n",
      "['2020-05-09', 'Brasil', '10222', '751', '145328', '9897']\n",
      "['2020-05-10', 'Brasil', '10611', '730', '155939', '10627']\n",
      "['2020-05-11', 'Brasil', '6760', '496', '162699', '11123']\n",
      "['2020-05-12', 'Brasil', '5632', '396', '168331', '11519']\n",
      "['2020-05-13', 'Brasil', '9258', '881', '177589', '12400']\n",
      "['2020-05-14', 'Brasil', '11385', '749', '188974', '13149']\n",
      "['2020-05-15', 'Brasil', '13944', '844', '202918', '13993']\n",
      "['2020-05-16', 'Brasil', '15305', '824', '218223', '14817']\n",
      "['2020-05-17', 'Brasil', '14919', '816', '233142', '15633']\n",
      "['2020-05-18', 'Brasil', '7938', '485', '241080', '16118']\n",
      "['2020-05-19', 'Brasil', '13140', '674', '254220', '16792']\n",
      "['2020-05-20', 'Brasil', '17408', '1179', '271628', '17971']\n",
      "['2020-05-21', 'Brasil', '19951', '888', '291579', '18859']\n",
      "['2020-05-22', 'Brasil', '18508', '1188', '310087', '20047']\n",
      "['2020-05-23', 'Brasil', '20803', '1001', '330890', '21048']\n",
      "['2020-05-24', 'Brasil', '16508', '965', '347398', '22013']\n",
      "['2020-05-25', 'Brasil', '15813', '653', '363211', '22666']\n",
      "['2020-05-26', 'Brasil', '11687', '807', '374898', '23473']\n",
      "['2020-05-27', 'Brasil', '16324', '1039', '391222', '24512']\n",
      "['2020-05-28', 'Brasil', '20599', '1086', '411821', '25598']\n",
      "['2020-05-29', 'Brasil', '26417', '1156', '438238', '26754']\n",
      "['2020-05-30', 'Brasil', '26928', '1124', '465166', '27878']\n",
      "['2020-05-31', 'Brasil', '33274', '956', '498440', '28834']\n",
      "['2020-06-01', 'Brasil', '16409', '480', '514849', '29314']\n",
      "['2020-06-02', 'Brasil', '11598', '623', '526447', '29937']\n",
      "['2020-06-03', 'Brasil', '28936', '1262', '555383', '31199']\n",
      "['2020-06-04', 'Brasil', '28633', '1349', '584016', '32548']\n",
      "['2020-06-05', 'Brasil', '30916', '1473', '614932', '34021']\n",
      "['2020-06-06', 'Brasil', '30830', '1005', '645762', '35026']\n",
      "['2020-06-07', 'Brasil', '27075', '904', '672837', '35930']\n",
      "['2020-06-08', 'Brasil', '18921', '525', '691758', '36455']\n",
      "['2020-06-09', 'Brasil', '15654', '679', '707412', '37134']\n",
      "['2020-06-10', 'Brasil', '32091', '1272', '739503', '38406']\n",
      "['2020-06-11', 'Brasil', '32913', '1274', '772416', '39680']\n",
      "['2020-06-12', 'Brasil', '30412', '1239', '802828', '40919']\n",
      "['2020-06-13', 'Brasil', '25982', '909', '828810', '41828']\n",
      "['2020-06-14', 'Brasil', '21704', '892', '850514', '42720']\n",
      "['2020-06-15', 'Brasil', '17110', '612', '867624', '43332']\n",
      "['2020-06-16', 'Brasil', '20647', '627', '888271', '43959']\n"
     ]
    }
   ],
   "source": [
    "# Mesmo resultado sem utilizar a biblioteca csv\n",
    "\n",
    "with open('dados/originais/python_basics/brasil_covid.csv', 'r') as csv_file:\n",
    "    linhas = csv_file.read()\n",
    "    linhas = linhas.split('\\n')\n",
    "    for linha in linhas:\n",
    "        linha = linha.split(',')\n",
    "        print(linha)"
   ]
  },
  {
   "cell_type": "code",
   "execution_count": 27,
   "id": "a2ee84e0",
   "metadata": {
    "ExecuteTime": {
     "end_time": "2021-07-07T15:06:19.365750Z",
     "start_time": "2021-07-07T15:06:19.343758Z"
    }
   },
   "outputs": [],
   "source": [
    "with open('dados/processados/python_basics/users.csv', 'w', encoding='utf-8', newline='') as arquivo_users:\n",
    "    escritor = csv.writer(arquivo_users)\n",
    "    escritor.writerow(['nome', 'sobrenome', 'email', 'genero'])\n",
    "    escritor.writerow(['Halisson', 'Gomides', 'halisson@email.com', 'Masculino'])"
   ]
  },
  {
   "cell_type": "code",
   "execution_count": 28,
   "id": "17a5156f",
   "metadata": {
    "ExecuteTime": {
     "end_time": "2021-07-07T15:12:32.552159Z",
     "start_time": "2021-07-07T15:12:01.977310Z"
    }
   },
   "outputs": [
    {
     "name": "stdout",
     "output_type": "stream",
     "text": [
      "O que deseja fazer?\n",
      "1 - Cadastrar\n",
      "0 - Sair\n",
      "1\n",
      "Qual seu nome?Halisson\n",
      "Qual seu Sobrenome?Gomides\n",
      "O que deseja fazer?\n",
      "1 - Cadastrar\n",
      "0 - Sair\n",
      "1\n",
      "Qual seu nome?Maria\n",
      "Qual seu Sobrenome?Souza\n",
      "O que deseja fazer?\n",
      "1 - Cadastrar\n",
      "0 - Sair\n",
      "1\n",
      "Qual seu nome?Gustavo\n",
      "Qual seu Sobrenome?Gomides\n",
      "O que deseja fazer?\n",
      "1 - Cadastrar\n",
      "0 - Sair\n",
      "0\n",
      "[['Halisson', 'Gomides'], ['Maria', 'Souza'], ['Gustavo', 'Gomides']]\n",
      "['nome', 'sobrenome']\n",
      "['Halisson', 'Gomides']\n",
      "['Maria', 'Souza']\n",
      "['Gustavo', 'Gomides']\n"
     ]
    }
   ],
   "source": [
    "header = ['nome', 'sobrenome']\n",
    "dados = []\n",
    "opt = input('O que deseja fazer?\\n1 - Cadastrar\\n0 - Sair\\n')\n",
    "while opt != '0':\n",
    "    nome = input('Qual seu nome?')\n",
    "    sobrenome = input('Qual seu Sobrenome?')\n",
    "    dados.append([nome, sobrenome])\n",
    "    opt = input('O que deseja fazer?\\n1 - Cadastrar\\n0 - Sair\\n')\n",
    "    \n",
    "print(dados)\n",
    "\n",
    "with open('dados/processados/python_basics/users.csv', 'w', encoding='utf-8', newline='') as arquivo_csv:\n",
    "    writer = csv.writer(arquivo_csv)\n",
    "    writer.writerow(header)\n",
    "    writer.writerows(dados)\n",
    "    \n",
    "with open('dados/processados/python_basics/users.csv', 'r') as csv_file:\n",
    "    csv_reader = csv.reader(csv_file, delimiter=',')\n",
    "    for row in csv_reader:\n",
    "        print(row)"
   ]
  },
  {
   "cell_type": "code",
   "execution_count": 29,
   "id": "2716b9e7",
   "metadata": {
    "ExecuteTime": {
     "end_time": "2021-07-07T15:17:05.721289Z",
     "start_time": "2021-07-07T15:17:05.702289Z"
    }
   },
   "outputs": [],
   "source": [
    "# DictReader e DictWriter\n",
    "\n",
    "with open('dados/processados/python_basics/names.csv', 'w', newline='') as csvfile:\n",
    "    chaves = ['first_name', 'last_name', 'email'] # definimos o cabeçalho\n",
    "    writer = csv.DictWriter(csvfile, fieldnames=chaves) # especificamos o cabeçalho\n",
    "\n",
    "    writer.writeheader() # escrevemos o cabeçalho\n",
    "    writer.writerow({'first_name': 'Senhor', 'last_name': 'Batata', 'email': 'senhor_batata@email.com'}) # escrevemos linhas com as chaves e valores\n",
    "    writer.writerow({'first_name': 'Will', 'last_name': 'Smith', 'email': 'will_smith@email.com'})\n",
    "    writer.writerow({'first_name': 'Elon', 'last_name': 'Musk', 'email': 'elon_muska@email.com'})"
   ]
  },
  {
   "cell_type": "code",
   "execution_count": 31,
   "id": "48d824bb",
   "metadata": {
    "ExecuteTime": {
     "end_time": "2021-07-07T15:18:10.360639Z",
     "start_time": "2021-07-07T15:18:10.346641Z"
    }
   },
   "outputs": [
    {
     "name": "stdout",
     "output_type": "stream",
     "text": [
      "senhor_batata@email.com\n",
      "will_smith@email.com\n",
      "elon_muska@email.com\n"
     ]
    }
   ],
   "source": [
    "with open('dados/processados/python_basics/names.csv', 'r') as emails:\n",
    "    leitor = csv.DictReader(emails, delimiter=',') #a primeira linha é lida como um cabeçalho\n",
    "    for linha in leitor:\n",
    "        print(linha['email']) #podemos chamar um valor específico de cada linha pela chave no cabeçallho"
   ]
  },
  {
   "cell_type": "markdown",
   "id": "d8dbb01c",
   "metadata": {},
   "source": [
    "## Aula 03 - APIs\n",
    "\n",
    "documentação da Exchange Rate API: https://www.exchangerate-api.com/"
   ]
  },
  {
   "cell_type": "code",
   "execution_count": 1,
   "id": "4cc3c88e",
   "metadata": {
    "ExecuteTime": {
     "end_time": "2021-07-07T17:56:28.745269Z",
     "start_time": "2021-07-07T17:56:28.441268Z"
    }
   },
   "outputs": [],
   "source": [
    "import requests"
   ]
  },
  {
   "cell_type": "code",
   "execution_count": 3,
   "id": "76b323ac",
   "metadata": {
    "ExecuteTime": {
     "end_time": "2021-07-07T18:29:55.026536Z",
     "start_time": "2021-07-07T18:29:54.120168Z"
    }
   },
   "outputs": [
    {
     "name": "stdout",
     "output_type": "stream",
     "text": [
      "200\n"
     ]
    }
   ],
   "source": [
    "url = 'https://api.exchangerate-api.com/v6/latest'\n",
    "\n",
    "req = requests.get(url)\n",
    "\n",
    "print(req.status_code)"
   ]
  },
  {
   "cell_type": "code",
   "execution_count": 4,
   "id": "b94b3933",
   "metadata": {
    "ExecuteTime": {
     "end_time": "2021-07-07T18:30:30.659479Z",
     "start_time": "2021-07-07T18:30:30.639466Z"
    }
   },
   "outputs": [
    {
     "name": "stdout",
     "output_type": "stream",
     "text": [
      "{'result': 'success', 'provider': 'https://www.exchangerate-api.com', 'documentation': 'https://www.exchangerate-api.com/docs/free', 'WARNING_NEW_ENDPOINT': 'Swap *api.exchangerate-api.com* with *open.er-api.com* for better servers!', 'terms_of_use': 'https://www.exchangerate-api.com/terms', 'time_last_update_unix': 1625616151, 'time_last_update_utc': 'Wed, 07 Jul 2021 00:02:31 +0000', 'time_next_update_unix': 1625704141, 'time_next_update_utc': 'Thu, 08 Jul 2021 00:29:01 +0000', 'time_eol_unix': 0, 'base_code': 'USD', 'rates': {'USD': 1, 'AED': 3.67, 'AFN': 79.37, 'ALL': 103.25, 'AMD': 495.59, 'ANG': 1.79, 'AOA': 649.14, 'ARS': 95.88, 'AUD': 1.33, 'AWG': 1.79, 'AZN': 1.7, 'BAM': 1.65, 'BBD': 2, 'BDT': 84.71, 'BGN': 1.65, 'BHD': 0.376, 'BIF': 1968.51, 'BMD': 1, 'BND': 1.34, 'BOB': 6.88, 'BRL': 5.1, 'BSD': 1, 'BTN': 74.51, 'BWP': 10.96, 'BYN': 2.53, 'BZD': 2, 'CAD': 1.24, 'CDF': 1988.62, 'CHF': 0.923, 'CLP': 735.93, 'CNY': 6.47, 'COP': 3739.79, 'CRC': 618.24, 'CUC': 1, 'CUP': 25.75, 'CVE': 93.08, 'CZK': 21.68, 'DJF': 177.72, 'DKK': 6.3, 'DOP': 56.8, 'DZD': 134.54, 'EGP': 15.69, 'ERN': 15, 'ETB': 43.88, 'EUR': 0.844, 'FJD': 2.06, 'FKP': 0.722, 'FOK': 6.3, 'GBP': 0.722, 'GEL': 3.15, 'GGP': 0.722, 'GHS': 5.91, 'GIP': 0.722, 'GMD': 51.99, 'GNF': 9819.77, 'GTQ': 7.73, 'GYD': 209.12, 'HKD': 7.77, 'HNL': 23.87, 'HRK': 6.36, 'HTG': 92.94, 'HUF': 299.16, 'IDR': 14520.06, 'ILS': 3.28, 'IMP': 0.722, 'INR': 74.51, 'IQD': 1459.39, 'IRR': 41891.59, 'ISK': 124.17, 'JMD': 150.5, 'JOD': 0.709, 'JPY': 110.66, 'KES': 107.85, 'KGS': 84.72, 'KHR': 4073.15, 'KID': 1.33, 'KMF': 415.3, 'KRW': 1134.24, 'KWD': 0.3, 'KYD': 0.833, 'KZT': 426.24, 'LAK': 9478.67, 'LBP': 1507.5, 'LKR': 198.72, 'LRD': 171.5, 'LSL': 14.3, 'LYD': 4.51, 'MAD': 8.93, 'MDL': 18.05, 'MGA': 3903.95, 'MKD': 51.99, 'MMK': 1643.69, 'MNT': 2855.18, 'MOP': 8, 'MRU': 36.16, 'MUR': 42.85, 'MVR': 15.42, 'MWK': 806.81, 'MXN': 19.93, 'MYR': 4.15, 'MZN': 63.78, 'NAD': 14.3, 'NGN': 425.75, 'NIO': 34.84, 'NOK': 8.64, 'NPR': 119.21, 'NZD': 1.42, 'OMR': 0.384, 'PAB': 1, 'PEN': 3.94, 'PGK': 3.51, 'PHP': 49.68, 'PKR': 158.45, 'PLN': 3.81, 'PYG': 6750.82, 'QAR': 3.64, 'RON': 4.16, 'RSD': 99.3, 'RUB': 73.67, 'RWF': 1004.45, 'SAR': 3.75, 'SBD': 7.92, 'SCR': 14.55, 'SDG': 452.41, 'SEK': 8.57, 'SGD': 1.34, 'SHP': 0.722, 'SLL': 10270.95, 'SOS': 578.78, 'SRD': 20.85, 'SSP': 177.53, 'STN': 20.68, 'SYP': 1263.48, 'SZL': 14.3, 'THB': 32.22, 'TJS': 11.31, 'TMT': 3.5, 'TND': 2.77, 'TOP': 2.23, 'TRY': 8.67, 'TTD': 6.77, 'TVD': 1.33, 'TWD': 27.94, 'TZS': 2315.16, 'UAH': 27.23, 'UGX': 3554.5, 'UYU': 43.73, 'UZS': 10544.47, 'VES': 3241854.6, 'VND': 22992.36, 'VUV': 110.46, 'WST': 2.55, 'XAF': 553.74, 'XCD': 2.7, 'XDR': 0.703, 'XOF': 553.74, 'XPF': 100.74, 'YER': 250.19, 'ZAR': 14.3, 'ZMW': 22.62}}\n"
     ]
    }
   ],
   "source": [
    "dados = req.json()\n",
    "print(dados)"
   ]
  },
  {
   "cell_type": "code",
   "execution_count": 10,
   "id": "57bc4a06",
   "metadata": {
    "ExecuteTime": {
     "end_time": "2021-07-07T18:54:34.138083Z",
     "start_time": "2021-07-07T18:54:27.464704Z"
    }
   },
   "outputs": [
    {
     "name": "stdout",
     "output_type": "stream",
     "text": [
      "Informe o valor em R$ a ser convertido\n",
      "25000\n",
      "R$25000.0 em dólar valem US$4901.96\n"
     ]
    }
   ],
   "source": [
    "valor_reais = float(input('Informe o valor em R$ a ser convertido\\n'))\n",
    "cotacao = dados['rates']['BRL']\n",
    "print(f'R${valor_reais} em dólar valem US${(valor_reais/cotacao):.2f}')"
   ]
  },
  {
   "cell_type": "markdown",
   "id": "15cff0f4",
   "metadata": {},
   "source": [
    "## Aula 04 - Projeto | Parte 1 "
   ]
  },
  {
   "cell_type": "code",
   "execution_count": 12,
   "id": "f7e09f51",
   "metadata": {
    "ExecuteTime": {
     "end_time": "2021-07-08T17:33:26.929443Z",
     "start_time": "2021-07-08T17:33:26.635198Z"
    }
   },
   "outputs": [],
   "source": [
    "import requests as r"
   ]
  },
  {
   "cell_type": "code",
   "execution_count": 13,
   "id": "1a11eb95",
   "metadata": {
    "ExecuteTime": {
     "end_time": "2021-07-08T17:33:29.190960Z",
     "start_time": "2021-07-08T17:33:28.163484Z"
    }
   },
   "outputs": [],
   "source": [
    "url = 'https://api.covid19api.com/dayone/country/brazil'\n",
    "resp = r.get(url)"
   ]
  },
  {
   "cell_type": "code",
   "execution_count": 14,
   "id": "eb9449bf",
   "metadata": {
    "ExecuteTime": {
     "end_time": "2021-07-08T17:33:30.296113Z",
     "start_time": "2021-07-08T17:33:30.275193Z"
    }
   },
   "outputs": [
    {
     "data": {
      "text/plain": [
       "200"
      ]
     },
     "execution_count": 14,
     "metadata": {},
     "output_type": "execute_result"
    }
   ],
   "source": [
    "resp.status_code"
   ]
  },
  {
   "cell_type": "code",
   "execution_count": 15,
   "id": "064d88e6",
   "metadata": {
    "ExecuteTime": {
     "end_time": "2021-07-08T17:33:31.001192Z",
     "start_time": "2021-07-08T17:33:30.988195Z"
    }
   },
   "outputs": [],
   "source": [
    "raw_data = resp.json()"
   ]
  },
  {
   "cell_type": "code",
   "execution_count": 16,
   "id": "aa9f3156",
   "metadata": {
    "ExecuteTime": {
     "end_time": "2021-07-08T17:33:31.967617Z",
     "start_time": "2021-07-08T17:33:31.956620Z"
    }
   },
   "outputs": [
    {
     "data": {
      "text/plain": [
       "{'ID': '5b679794-2952-4c4c-a873-af6ff457b0fd',\n",
       " 'Country': 'Brazil',\n",
       " 'CountryCode': 'BR',\n",
       " 'Province': '',\n",
       " 'City': '',\n",
       " 'CityCode': '',\n",
       " 'Lat': '-14.24',\n",
       " 'Lon': '-51.93',\n",
       " 'Confirmed': 1,\n",
       " 'Deaths': 0,\n",
       " 'Recovered': 0,\n",
       " 'Active': 1,\n",
       " 'Date': '2020-02-26T00:00:00Z'}"
      ]
     },
     "execution_count": 16,
     "metadata": {},
     "output_type": "execute_result"
    }
   ],
   "source": [
    "raw_data[0]"
   ]
  },
  {
   "cell_type": "code",
   "execution_count": 17,
   "id": "0000d5dc",
   "metadata": {
    "ExecuteTime": {
     "end_time": "2021-07-08T17:33:34.510217Z",
     "start_time": "2021-07-08T17:33:34.491198Z"
    }
   },
   "outputs": [],
   "source": [
    "final_data = []\n",
    "for obs in raw_data:\n",
    "    final_data.append([obs['Confirmed'], obs['Deaths'], obs['Recovered'], obs['Active'], obs['Date']])"
   ]
  },
  {
   "cell_type": "code",
   "execution_count": 18,
   "id": "f3b65645",
   "metadata": {
    "ExecuteTime": {
     "end_time": "2021-07-08T17:33:35.929483Z",
     "start_time": "2021-07-08T17:33:35.842475Z"
    }
   },
   "outputs": [
    {
     "data": {
      "text/plain": [
       "[['confirmados', 'obitos', 'recuperados', 'ativos', 'data'],\n",
       " [1, 0, 0, 1, '2020-02-26T00:00:00Z'],\n",
       " [1, 0, 0, 1, '2020-02-27T00:00:00Z'],\n",
       " [1, 0, 0, 1, '2020-02-28T00:00:00Z'],\n",
       " [2, 0, 0, 2, '2020-02-29T00:00:00Z'],\n",
       " [2, 0, 0, 2, '2020-03-01T00:00:00Z'],\n",
       " [2, 0, 0, 2, '2020-03-02T00:00:00Z'],\n",
       " [2, 0, 0, 2, '2020-03-03T00:00:00Z'],\n",
       " [4, 0, 0, 4, '2020-03-04T00:00:00Z'],\n",
       " [4, 0, 0, 4, '2020-03-05T00:00:00Z'],\n",
       " [13, 0, 0, 13, '2020-03-06T00:00:00Z'],\n",
       " [13, 0, 0, 13, '2020-03-07T00:00:00Z'],\n",
       " [20, 0, 0, 20, '2020-03-08T00:00:00Z'],\n",
       " [25, 0, 0, 25, '2020-03-09T00:00:00Z'],\n",
       " [31, 0, 0, 31, '2020-03-10T00:00:00Z'],\n",
       " [38, 0, 0, 38, '2020-03-11T00:00:00Z'],\n",
       " [52, 0, 0, 52, '2020-03-12T00:00:00Z'],\n",
       " [151, 0, 0, 151, '2020-03-13T00:00:00Z'],\n",
       " [151, 0, 0, 151, '2020-03-14T00:00:00Z'],\n",
       " [162, 0, 0, 162, '2020-03-15T00:00:00Z'],\n",
       " [200, 0, 1, 199, '2020-03-16T00:00:00Z'],\n",
       " [321, 1, 2, 318, '2020-03-17T00:00:00Z'],\n",
       " [372, 3, 2, 367, '2020-03-18T00:00:00Z'],\n",
       " [621, 6, 2, 613, '2020-03-19T00:00:00Z'],\n",
       " [793, 11, 2, 780, '2020-03-20T00:00:00Z'],\n",
       " [1021, 15, 2, 1004, '2020-03-21T00:00:00Z'],\n",
       " [1546, 25, 2, 1519, '2020-03-22T00:00:00Z'],\n",
       " [1924, 34, 2, 1888, '2020-03-23T00:00:00Z'],\n",
       " [2247, 46, 2, 2199, '2020-03-24T00:00:00Z'],\n",
       " [2554, 59, 2, 2493, '2020-03-25T00:00:00Z'],\n",
       " [2985, 77, 6, 2902, '2020-03-26T00:00:00Z'],\n",
       " [3417, 92, 6, 3319, '2020-03-27T00:00:00Z'],\n",
       " [3904, 111, 6, 3787, '2020-03-28T00:00:00Z'],\n",
       " [4256, 136, 6, 4114, '2020-03-29T00:00:00Z'],\n",
       " [4579, 159, 120, 4300, '2020-03-30T00:00:00Z'],\n",
       " [5717, 201, 127, 5389, '2020-03-31T00:00:00Z'],\n",
       " [6836, 240, 127, 6469, '2020-04-01T00:00:00Z'],\n",
       " [8044, 324, 127, 7593, '2020-04-02T00:00:00Z'],\n",
       " [9056, 359, 127, 8570, '2020-04-03T00:00:00Z'],\n",
       " [10360, 445, 127, 9788, '2020-04-04T00:00:00Z'],\n",
       " [11130, 486, 127, 10517, '2020-04-05T00:00:00Z'],\n",
       " [12161, 564, 127, 11470, '2020-04-06T00:00:00Z'],\n",
       " [14034, 686, 127, 13221, '2020-04-07T00:00:00Z'],\n",
       " [16170, 819, 127, 15224, '2020-04-08T00:00:00Z'],\n",
       " [18092, 950, 173, 16969, '2020-04-09T00:00:00Z'],\n",
       " [19638, 1057, 173, 18408, '2020-04-10T00:00:00Z'],\n",
       " [20727, 1124, 173, 19430, '2020-04-11T00:00:00Z'],\n",
       " [22192, 1223, 173, 20796, '2020-04-12T00:00:00Z'],\n",
       " [23430, 1328, 173, 21929, '2020-04-13T00:00:00Z'],\n",
       " [25262, 1532, 3046, 20684, '2020-04-14T00:00:00Z'],\n",
       " [28320, 1736, 14026, 12558, '2020-04-15T00:00:00Z'],\n",
       " [30425, 1924, 14026, 14475, '2020-04-16T00:00:00Z'],\n",
       " [33682, 2141, 14026, 17515, '2020-04-17T00:00:00Z'],\n",
       " [36658, 2354, 14026, 20278, '2020-04-18T00:00:00Z'],\n",
       " [38654, 2462, 22130, 14062, '2020-04-19T00:00:00Z'],\n",
       " [40743, 2587, 22130, 16026, '2020-04-20T00:00:00Z'],\n",
       " [43079, 2741, 22991, 17347, '2020-04-21T00:00:00Z'],\n",
       " [45757, 2906, 25318, 17533, '2020-04-22T00:00:00Z'],\n",
       " [50036, 3331, 26573, 20132, '2020-04-23T00:00:00Z'],\n",
       " [54043, 3704, 27655, 22684, '2020-04-24T00:00:00Z'],\n",
       " [59324, 4057, 29160, 26107, '2020-04-25T00:00:00Z'],\n",
       " [63100, 4286, 30152, 28662, '2020-04-26T00:00:00Z'],\n",
       " [67446, 4603, 31142, 31701, '2020-04-27T00:00:00Z'],\n",
       " [73235, 5083, 32544, 35608, '2020-04-28T00:00:00Z'],\n",
       " [79685, 5513, 34132, 40040, '2020-04-29T00:00:00Z'],\n",
       " [87187, 6006, 35935, 45246, '2020-04-30T00:00:00Z'],\n",
       " [92202, 6412, 38039, 47751, '2020-05-01T00:00:00Z'],\n",
       " [97100, 6761, 40937, 49402, '2020-05-02T00:00:00Z'],\n",
       " [101826, 7051, 42991, 51784, '2020-05-03T00:00:00Z'],\n",
       " [108620, 7367, 45815, 55438, '2020-05-04T00:00:00Z'],\n",
       " [115455, 7938, 48221, 59296, '2020-05-05T00:00:00Z'],\n",
       " [126611, 8588, 51370, 66653, '2020-05-06T00:00:00Z'],\n",
       " [135773, 9190, 55350, 71233, '2020-05-07T00:00:00Z'],\n",
       " [146894, 10017, 59297, 77580, '2020-05-08T00:00:00Z'],\n",
       " [156061, 10656, 61685, 83720, '2020-05-09T00:00:00Z'],\n",
       " [162699, 11123, 64957, 86619, '2020-05-10T00:00:00Z'],\n",
       " [169594, 11653, 67384, 90557, '2020-05-11T00:00:00Z'],\n",
       " [178214, 12461, 72597, 93156, '2020-05-12T00:00:00Z'],\n",
       " [190137, 13240, 78424, 98473, '2020-05-13T00:00:00Z'],\n",
       " [203165, 13999, 79479, 109687, '2020-05-14T00:00:00Z'],\n",
       " [220291, 14962, 84970, 120359, '2020-05-15T00:00:00Z'],\n",
       " [233511, 15662, 89672, 128177, '2020-05-16T00:00:00Z'],\n",
       " [241080, 16118, 94122, 130840, '2020-05-17T00:00:00Z'],\n",
       " [255368, 16853, 100459, 138056, '2020-05-18T00:00:00Z'],\n",
       " [271885, 17983, 106794, 147108, '2020-05-19T00:00:00Z'],\n",
       " [291579, 18859, 116683, 156037, '2020-05-20T00:00:00Z'],\n",
       " [310087, 20047, 125960, 164080, '2020-05-21T00:00:00Z'],\n",
       " [330890, 21048, 135430, 174412, '2020-05-22T00:00:00Z'],\n",
       " [347398, 22013, 142587, 182798, '2020-05-23T00:00:00Z'],\n",
       " [363211, 22666, 149911, 190634, '2020-05-24T00:00:00Z'],\n",
       " [374898, 23473, 153833, 197592, '2020-05-25T00:00:00Z'],\n",
       " [391222, 24512, 158593, 208117, '2020-05-26T00:00:00Z'],\n",
       " [411821, 25598, 166647, 219576, '2020-05-27T00:00:00Z'],\n",
       " [438238, 26754, 177604, 233880, '2020-05-28T00:00:00Z'],\n",
       " [465166, 27878, 189476, 247812, '2020-05-29T00:00:00Z'],\n",
       " [498440, 28834, 200892, 268714, '2020-05-30T00:00:00Z'],\n",
       " [514849, 29314, 206555, 278980, '2020-05-31T00:00:00Z'],\n",
       " [526447, 29937, 211080, 285430, '2020-06-01T00:00:00Z'],\n",
       " [555383, 31199, 223638, 300546, '2020-06-02T00:00:00Z'],\n",
       " [584016, 32548, 238617, 312851, '2020-06-03T00:00:00Z'],\n",
       " [614941, 34021, 254963, 325957, '2020-06-04T00:00:00Z'],\n",
       " [645771, 35026, 266940, 343805, '2020-06-05T00:00:00Z'],\n",
       " [672846, 35930, 277149, 359767, '2020-06-06T00:00:00Z'],\n",
       " [691758, 36455, 283952, 371351, '2020-06-07T00:00:00Z'],\n",
       " [707412, 37134, 378257, 292021, '2020-06-08T00:00:00Z'],\n",
       " [739503, 38406, 396737, 304360, '2020-06-09T00:00:00Z'],\n",
       " [772416, 39680, 413916, 318820, '2020-06-10T00:00:00Z'],\n",
       " [802828, 40919, 429965, 331944, '2020-06-11T00:00:00Z'],\n",
       " [828810, 41828, 445123, 341859, '2020-06-12T00:00:00Z'],\n",
       " [850514, 42720, 459436, 348358, '2020-06-13T00:00:00Z'],\n",
       " [867624, 43332, 469141, 355151, '2020-06-14T00:00:00Z'],\n",
       " [888271, 43959, 477709, 366603, '2020-06-15T00:00:00Z'],\n",
       " [923189, 45241, 490005, 387943, '2020-06-16T00:00:00Z'],\n",
       " [955377, 46510, 521046, 387821, '2020-06-17T00:00:00Z'],\n",
       " [978142, 47748, 534580, 395814, '2020-06-18T00:00:00Z'],\n",
       " [1032913, 48954, 551631, 432328, '2020-06-19T00:00:00Z'],\n",
       " [1067579, 49976, 576779, 440824, '2020-06-20T00:00:00Z'],\n",
       " [1083341, 50591, 588118, 444632, '2020-06-21T00:00:00Z'],\n",
       " [1106470, 51271, 601736, 453463, '2020-06-22T00:00:00Z'],\n",
       " [1145906, 52645, 627963, 465298, '2020-06-23T00:00:00Z'],\n",
       " [1188631, 53830, 660469, 474332, '2020-06-24T00:00:00Z'],\n",
       " [1228114, 54971, 679524, 493619, '2020-06-25T00:00:00Z'],\n",
       " [1274974, 55961, 702399, 516614, '2020-06-26T00:00:00Z'],\n",
       " [1313667, 57070, 727715, 528882, '2020-06-27T00:00:00Z'],\n",
       " [1344143, 57622, 746018, 540503, '2020-06-28T00:00:00Z'],\n",
       " [1368195, 58314, 757811, 552070, '2020-06-29T00:00:00Z'],\n",
       " [1402041, 59594, 788318, 554129, '2020-06-30T00:00:00Z'],\n",
       " [1448753, 60632, 817642, 570479, '2020-07-01T00:00:00Z'],\n",
       " [1496858, 61884, 957692, 477282, '2020-07-02T00:00:00Z'],\n",
       " [1539081, 63174, 984615, 491292, '2020-07-03T00:00:00Z'],\n",
       " [1577004, 64265, 990731, 522008, '2020-07-04T00:00:00Z'],\n",
       " [1603055, 64867, 1029045, 509143, '2020-07-05T00:00:00Z'],\n",
       " [1623284, 65487, 1062542, 495255, '2020-07-06T00:00:00Z'],\n",
       " [1668589, 66741, 1107012, 494836, '2020-07-07T00:00:00Z'],\n",
       " [1713160, 67964, 1139844, 505352, '2020-07-08T00:00:00Z'],\n",
       " [1755779, 69184, 1171447, 515148, '2020-07-09T00:00:00Z'],\n",
       " [1800827, 70398, 1217361, 513068, '2020-07-10T00:00:00Z'],\n",
       " [1839850, 71469, 1244088, 524293, '2020-07-11T00:00:00Z'],\n",
       " [1864681, 72100, 1264843, 527738, '2020-07-12T00:00:00Z'],\n",
       " [1884967, 72833, 1291251, 520883, '2020-07-13T00:00:00Z'],\n",
       " [1926824, 74133, 1323425, 529266, '2020-07-14T00:00:00Z'],\n",
       " [1966748, 75366, 1350098, 541284, '2020-07-15T00:00:00Z'],\n",
       " [2012151, 76688, 1397531, 537932, '2020-07-16T00:00:00Z'],\n",
       " [2046328, 77851, 1428520, 539957, '2020-07-17T00:00:00Z'],\n",
       " [2074860, 78772, 1447408, 548680, '2020-07-18T00:00:00Z'],\n",
       " [2098389, 79488, 1459072, 559829, '2020-07-19T00:00:00Z'],\n",
       " [2118646, 80120, 1514300, 524226, '2020-07-20T00:00:00Z'],\n",
       " [2159654, 81487, 1555339, 522828, '2020-07-21T00:00:00Z'],\n",
       " [2227514, 82771, 1591975, 552768, '2020-07-22T00:00:00Z'],\n",
       " [2287475, 84082, 1620313, 583080, '2020-07-23T00:00:00Z'],\n",
       " [2343366, 85238, 1693214, 564914, '2020-07-24T00:00:00Z'],\n",
       " [2394513, 86449, 1785359, 522705, '2020-07-25T00:00:00Z'],\n",
       " [2419091, 87004, 1812913, 519174, '2020-07-26T00:00:00Z'],\n",
       " [2442375, 87618, 1846641, 508116, '2020-07-27T00:00:00Z'],\n",
       " [2483191, 88539, 1868749, 525903, '2020-07-28T00:00:00Z'],\n",
       " [2552265, 90134, 1922802, 539329, '2020-07-29T00:00:00Z'],\n",
       " [2610102, 91263, 1956807, 562032, '2020-07-30T00:00:00Z'],\n",
       " [2662485, 92475, 2008854, 561156, '2020-07-31T00:00:00Z'],\n",
       " [2707877, 93563, 2037982, 576332, '2020-08-01T00:00:00Z'],\n",
       " [2733677, 94104, 2062876, 576697, '2020-08-02T00:00:00Z'],\n",
       " [2750318, 94665, 2098976, 556677, '2020-08-03T00:00:00Z'],\n",
       " [2801921, 95819, 2157484, 548618, '2020-08-04T00:00:00Z'],\n",
       " [2859073, 97256, 2190361, 571456, '2020-08-05T00:00:00Z'],\n",
       " [2912212, 98493, 2230542, 583177, '2020-08-06T00:00:00Z'],\n",
       " [2962442, 99572, 2272299, 590571, '2020-08-07T00:00:00Z'],\n",
       " [3012412, 100477, 2321537, 590398, '2020-08-08T00:00:00Z'],\n",
       " [3035422, 101049, 2356983, 577390, '2020-08-09T00:00:00Z'],\n",
       " [3057470, 101752, 2390830, 564888, '2020-08-10T00:00:00Z'],\n",
       " [3109630, 103026, 2449338, 557266, '2020-08-11T00:00:00Z'],\n",
       " [3164785, 104201, 2506228, 554356, '2020-08-12T00:00:00Z'],\n",
       " [3224876, 105463, 2521100, 598313, '2020-08-13T00:00:00Z'],\n",
       " [3275520, 106523, 2616981, 552016, '2020-08-14T00:00:00Z'],\n",
       " [3317096, 107232, 2622878, 586986, '2020-08-15T00:00:00Z'],\n",
       " [3340197, 107852, 2655017, 577328, '2020-08-16T00:00:00Z'],\n",
       " [3359570, 108536, 2699080, 551954, '2020-08-17T00:00:00Z'],\n",
       " [3407354, 109888, 2751246, 546220, '2020-08-18T00:00:00Z'],\n",
       " [3456652, 111100, 2801931, 543621, '2020-08-19T00:00:00Z'],\n",
       " [3501975, 112304, 2844318, 545353, '2020-08-20T00:00:00Z'],\n",
       " [3532330, 113358, 2855558, 563414, '2020-08-21T00:00:00Z'],\n",
       " [3582362, 114250, 2913966, 554146, '2020-08-22T00:00:00Z'],\n",
       " [3605783, 114744, 2947784, 543255, '2020-08-23T00:00:00Z'],\n",
       " [3622861, 115309, 2976256, 531296, '2020-08-24T00:00:00Z'],\n",
       " [3669995, 116580, 3032551, 520864, '2020-08-25T00:00:00Z'],\n",
       " [3717156, 117665, 3082447, 517044, '2020-08-26T00:00:00Z'],\n",
       " [3761391, 118649, 3122846, 519896, '2020-08-27T00:00:00Z'],\n",
       " [3804803, 119504, 3158783, 526516, '2020-08-28T00:00:00Z'],\n",
       " [3846153, 120262, 3202185, 523706, '2020-08-29T00:00:00Z'],\n",
       " [3862311, 120828, 3237615, 503868, '2020-08-30T00:00:00Z'],\n",
       " [3908272, 121381, 3268591, 518300, '2020-08-31T00:00:00Z'],\n",
       " [3950931, 122596, 3345240, 483095, '2020-09-01T00:00:00Z'],\n",
       " [3997865, 123780, 3387309, 486776, '2020-09-02T00:00:00Z'],\n",
       " [4041638, 124614, 3429435, 487589, '2020-09-03T00:00:00Z'],\n",
       " [4091801, 125502, 3464278, 502021, '2020-09-04T00:00:00Z'],\n",
       " [4123000, 126203, 3498999, 497798, '2020-09-05T00:00:00Z'],\n",
       " [4137521, 126650, 3522155, 488716, '2020-09-06T00:00:00Z'],\n",
       " [4147794, 126960, 3549201, 471633, '2020-09-07T00:00:00Z'],\n",
       " [4162073, 127464, 3572421, 462188, '2020-09-08T00:00:00Z'],\n",
       " [4197889, 128539, 3611632, 457718, '2020-09-09T00:00:00Z'],\n",
       " [4238446, 129522, 3657701, 451223, '2020-09-10T00:00:00Z'],\n",
       " [4282164, 130396, 3695158, 456610, '2020-09-11T00:00:00Z'],\n",
       " [4315687, 131210, 3723206, 461271, '2020-09-12T00:00:00Z'],\n",
       " [4330455, 131625, 3723206, 475624, '2020-09-13T00:00:00Z'],\n",
       " [4345610, 132006, 3770138, 443466, '2020-09-14T00:00:00Z'],\n",
       " [4382263, 133119, 3811505, 437639, '2020-09-15T00:00:00Z'],\n",
       " [4419083, 134106, 3845464, 439513, '2020-09-16T00:00:00Z'],\n",
       " [4455386, 134935, 3873934, 446517, '2020-09-17T00:00:00Z'],\n",
       " [4495183, 135793, 3897539, 461851, '2020-09-18T00:00:00Z'],\n",
       " [4528240, 136532, 3936893, 454815, '2020-09-19T00:00:00Z'],\n",
       " [4544629, 136895, 3963446, 444288, '2020-09-20T00:00:00Z'],\n",
       " [4558040, 137272, 3993432, 427336, '2020-09-21T00:00:00Z'],\n",
       " [4591364, 138105, 4016831, 436428, '2020-09-22T00:00:00Z'],\n",
       " [4591364, 138105, 4046827, 406432, '2020-09-23T00:00:00Z'],\n",
       " [4657702, 139808, 4102954, 414940, '2020-09-24T00:00:00Z'],\n",
       " [4689613, 140537, 4128490, 420586, '2020-09-25T00:00:00Z'],\n",
       " [4717991, 141406, 4153307, 423278, '2020-09-26T00:00:00Z'],\n",
       " [4732309, 141741, 4172711, 417857, '2020-09-27T00:00:00Z'],\n",
       " [4745464, 142058, 4197372, 406034, '2020-09-28T00:00:00Z'],\n",
       " [4777522, 142921, 4237152, 397449, '2020-09-29T00:00:00Z'],\n",
       " [4810935, 143952, 4274774, 392209, '2020-09-30T00:00:00Z'],\n",
       " [4847092, 144680, 4299659, 402753, '2020-10-01T00:00:00Z'],\n",
       " [4847092, 144680, 4299659, 402753, '2020-10-02T00:00:00Z'],\n",
       " [4906833, 145987, 4361108, 399738, '2020-10-03T00:00:00Z'],\n",
       " [4915289, 146352, 4375354, 393583, '2020-10-04T00:00:00Z'],\n",
       " [4927235, 146675, 4397882, 382678, '2020-10-05T00:00:00Z'],\n",
       " [4969141, 147494, 4430340, 391307, '2020-10-06T00:00:00Z'],\n",
       " [5000694, 148228, 4457172, 395294, '2020-10-07T00:00:00Z'],\n",
       " [5028444, 148957, 4488092, 391395, '2020-10-08T00:00:00Z'],\n",
       " [5055888, 149639, 4502854, 403395, '2020-10-09T00:00:00Z'],\n",
       " [5082637, 150198, 4502854, 429585, '2020-10-10T00:00:00Z'],\n",
       " [5094979, 150488, 4526393, 418098, '2020-10-11T00:00:00Z'],\n",
       " [5103408, 150689, 4526393, 426326, '2020-10-12T00:00:00Z'],\n",
       " [5113628, 150998, 4526393, 436237, '2020-10-13T00:00:00Z'],\n",
       " [5140863, 151747, 4526393, 462723, '2020-10-14T00:00:00Z'],\n",
       " [5169386, 152460, 4526393, 490533, '2020-10-15T00:00:00Z'],\n",
       " [5200300, 153214, 4526393, 520693, '2020-10-16T00:00:00Z'],\n",
       " [5224362, 153675, 4526393, 544294, '2020-10-17T00:00:00Z'],\n",
       " [5224362, 153675, 4526393, 544294, '2020-10-18T00:00:00Z'],\n",
       " [5250727, 154176, 4526393, 570158, '2020-10-19T00:00:00Z'],\n",
       " [5273954, 154837, 4526393, 592724, '2020-10-20T00:00:00Z'],\n",
       " [5298772, 155403, 4526393, 616976, '2020-10-21T00:00:00Z'],\n",
       " [5323630, 155900, 4526393, 641337, '2020-10-22T00:00:00Z'],\n",
       " [5353656, 156471, 4526393, 670792, '2020-10-23T00:00:00Z'],\n",
       " [5380635, 156903, 4526393, 697339, '2020-10-24T00:00:00Z'],\n",
       " [5394128, 157134, 4526393, 710601, '2020-10-25T00:00:00Z'],\n",
       " [5409854, 157397, 4526393, 726064, '2020-10-26T00:00:00Z'],\n",
       " [5439641, 157946, 4914733, 366962, '2020-10-27T00:00:00Z'],\n",
       " [5468270, 158456, 4947777, 362037, '2020-10-28T00:00:00Z'],\n",
       " [5494376, 158969, 4962574, 372833, '2020-10-29T00:00:00Z'],\n",
       " [5516658, 159477, 4987435, 369746, '2020-10-30T00:00:00Z'],\n",
       " [5535605, 159884, 5005161, 370560, '2020-10-31T00:00:00Z'],\n",
       " [5545705, 160074, 5022338, 363293, '2020-11-01T00:00:00Z'],\n",
       " [5554206, 160253, 5039438, 354515, '2020-11-02T00:00:00Z'],\n",
       " [5566049, 160496, 5060697, 344856, '2020-11-03T00:00:00Z'],\n",
       " [5590025, 161106, 5078162, 350757, '2020-11-04T00:00:00Z'],\n",
       " [5590025, 161106, 5078162, 350757, '2020-11-05T00:00:00Z'],\n",
       " [5631181, 162015, 5118156, 351010, '2020-11-06T00:00:00Z'],\n",
       " [5653561, 162269, 5138641, 352651, '2020-11-07T00:00:00Z'],\n",
       " [5664115, 162397, 5147172, 354546, '2020-11-08T00:00:00Z'],\n",
       " [5675032, 162628, 5163226, 349178, '2020-11-09T00:00:00Z'],\n",
       " [5699005, 162802, 5183970, 352233, '2020-11-10T00:00:00Z'],\n",
       " [5747660, 163368, 5222937, 361355, '2020-11-11T00:00:00Z'],\n",
       " [5781582, 164281, 5254457, 362844, '2020-11-12T00:00:00Z'],\n",
       " [5810652, 164737, 5274812, 371103, '2020-11-13T00:00:00Z'],\n",
       " [5848959, 165658, 5279452, 403849, '2020-11-14T00:00:00Z'],\n",
       " [5863093, 165798, 5279452, 417843, '2020-11-15T00:00:00Z'],\n",
       " [5876464, 166014, 5335498, 374952, '2020-11-16T00:00:00Z'],\n",
       " [5911758, 166699, 5358299, 386760, '2020-11-17T00:00:00Z'],\n",
       " [5945849, 167455, 5383385, 395009, '2020-11-18T00:00:00Z'],\n",
       " [5981767, 168061, 5406066, 407640, '2020-11-19T00:00:00Z'],\n",
       " [6020164, 168613, 5430896, 420655, '2020-11-20T00:00:00Z'],\n",
       " [6052786, 168989, 5437189, 446608, '2020-11-21T00:00:00Z'],\n",
       " [6071401, 169183, 5457973, 444245, '2020-11-22T00:00:00Z'],\n",
       " [6087608, 169485, 5481184, 436939, '2020-11-23T00:00:00Z'],\n",
       " [6118708, 170115, 5509645, 438948, '2020-11-24T00:00:00Z'],\n",
       " [6166606, 170769, 5534010, 461827, '2020-11-25T00:00:00Z'],\n",
       " [6204220, 171460, 5556887, 475873, '2020-11-26T00:00:00Z'],\n",
       " [6238350, 171974, 5581436, 484940, '2020-11-27T00:00:00Z'],\n",
       " [6290272, 172561, 5581436, 536275, '2020-11-28T00:00:00Z'],\n",
       " [6314740, 172833, 5581436, 560471, '2020-11-29T00:00:00Z'],\n",
       " [6335878, 173120, 5597802, 564956, '2020-11-30T00:00:00Z'],\n",
       " [6386787, 173817, 5712305, 500665, '2020-12-01T00:00:00Z'],\n",
       " [6436650, 174515, 5759294, 502841, '2020-12-02T00:00:00Z'],\n",
       " [6487084, 175270, 5792539, 519275, '2020-12-03T00:00:00Z'],\n",
       " [6533968, 175964, 5825745, 532259, '2020-12-04T00:00:00Z'],\n",
       " [6577177, 176628, 5864838, 535711, '2020-12-05T00:00:00Z'],\n",
       " [6603540, 176941, 5866657, 559942, '2020-12-06T00:00:00Z'],\n",
       " [6623911, 177317, 5897526, 549068, '2020-12-07T00:00:00Z'],\n",
       " [6674999, 178159, 5965492, 531348, '2020-12-08T00:00:00Z'],\n",
       " [6728452, 178995, 5966118, 583339, '2020-12-09T00:00:00Z'],\n",
       " [6781799, 179765, 6043219, 558815, '2020-12-10T00:00:00Z'],\n",
       " [6836227, 180437, 6078287, 577503, '2020-12-11T00:00:00Z'],\n",
       " [6880127, 181123, 6078287, 620717, '2020-12-12T00:00:00Z'],\n",
       " [6901952, 181402, 6138349, 582201, '2020-12-13T00:00:00Z'],\n",
       " [6927145, 181835, 6158049, 587261, '2020-12-14T00:00:00Z'],\n",
       " [6970034, 182799, 6206483, 580752, '2020-12-15T00:00:00Z'],\n",
       " [7040608, 183735, 6239192, 617681, '2020-12-16T00:00:00Z'],\n",
       " [7110434, 184827, 6301547, 624060, '2020-12-17T00:00:00Z'],\n",
       " [7162978, 185650, 6322955, 654373, '2020-12-18T00:00:00Z'],\n",
       " [7213155, 186356, 6388938, 637861, '2020-12-19T00:00:00Z'],\n",
       " [7238600, 186764, 6408517, 643319, '2020-12-20T00:00:00Z'],\n",
       " [7263619, 187291, 6469310, 607018, '2020-12-21T00:00:00Z'],\n",
       " [7318821, 188259, 6501341, 629221, '2020-12-22T00:00:00Z'],\n",
       " [7365517, 189220, 6512717, 663580, '2020-12-23T00:00:00Z'],\n",
       " [7423945, 189982, 6512717, 721246, '2020-12-24T00:00:00Z'],\n",
       " [7448560, 190488, 6512717, 745355, '2020-12-25T00:00:00Z'],\n",
       " [7465806, 190795, 6654189, 620822, '2020-12-26T00:00:00Z'],\n",
       " [7484285, 191139, 6677235, 615911, '2020-12-27T00:00:00Z'],\n",
       " [7504833, 191570, 6712757, 600506, '2020-12-28T00:00:00Z'],\n",
       " [7563551, 192681, 6754111, 616759, '2020-12-29T00:00:00Z'],\n",
       " [7619200, 193875, 6814092, 611233, '2020-12-30T00:00:00Z'],\n",
       " [7675973, 194949, 6848844, 632180, '2020-12-31T00:00:00Z'],\n",
       " [7700578, 195411, 6855372, 649795, '2021-01-01T00:00:00Z'],\n",
       " [7716405, 195725, 6893256, 627424, '2021-01-02T00:00:00Z'],\n",
       " [7733746, 196018, 6904172, 633556, '2021-01-03T00:00:00Z'],\n",
       " [7753752, 196561, 6950045, 607146, '2021-01-04T00:00:00Z'],\n",
       " [7810400, 197732, 6994845, 617823, '2021-01-05T00:00:00Z'],\n",
       " [7873830, 198974, 7033286, 641570, '2021-01-06T00:00:00Z'],\n",
       " [7961673, 200498, 7081521, 679654, '2021-01-07T00:00:00Z'],\n",
       " [8013708, 201460, 7136817, 675431, '2021-01-08T00:00:00Z'],\n",
       " [8075998, 202631, 7205410, 667957, '2021-01-09T00:00:00Z'],\n",
       " [8105790, 203100, 7231336, 671354, '2021-01-10T00:00:00Z'],\n",
       " [8131612, 203580, 7273237, 654795, '2021-01-11T00:00:00Z'],\n",
       " [8195637, 204690, 7284945, 706002, '2021-01-12T00:00:00Z'],\n",
       " [8256536, 205964, 7347080, 703492, '2021-01-13T00:00:00Z'],\n",
       " [8324294, 207095, 7394739, 722460, '2021-01-14T00:00:00Z'],\n",
       " [8393492, 208246, 7438075, 747171, '2021-01-15T00:00:00Z'],\n",
       " [8455059, 209296, 7485823, 759940, '2021-01-16T00:00:00Z'],\n",
       " [8488099, 209847, 7509009, 769243, '2021-01-17T00:00:00Z'],\n",
       " [8511770, 210299, 7560460, 741011, '2021-01-18T00:00:00Z'],\n",
       " [8573864, 211491, 7618080, 744293, '2021-01-19T00:00:00Z'],\n",
       " [8638249, 212831, 7618080, 807338, '2021-01-20T00:00:00Z'],\n",
       " [8697368, 214147, 7673092, 810129, '2021-01-21T00:00:00Z'],\n",
       " [8753920, 215243, 7746910, 791767, '2021-01-22T00:00:00Z'],\n",
       " [8816254, 216445, 7775928, 823881, '2021-01-23T00:00:00Z'],\n",
       " [8844577, 217037, 7821376, 806164, '2021-01-24T00:00:00Z'],\n",
       " [8871393, 217664, 7864969, 788760, '2021-01-25T00:00:00Z'],\n",
       " [8933356, 218878, 7896290, 818188, '2021-01-26T00:00:00Z'],\n",
       " [8996876, 220161, 7964176, 812539, '2021-01-27T00:00:00Z'],\n",
       " [9058687, 221547, 7979513, 857627, '2021-01-28T00:00:00Z'],\n",
       " [9118513, 222666, 8066603, 829244, '2021-01-29T00:00:00Z'],\n",
       " [9176975, 223945, 8148671, 804359, '2021-01-30T00:00:00Z'],\n",
       " [9204731, 224504, 8176373, 803854, '2021-01-31T00:00:00Z'],\n",
       " [9229322, 225099, 8202354, 801869, '2021-02-01T00:00:00Z'],\n",
       " [9283418, 226309, 8258074, 799035, '2021-02-02T00:00:00Z'],\n",
       " [9339420, 227563, 8311881, 799976, '2021-02-03T00:00:00Z'],\n",
       " [9396293, 228795, 8366197, 801301, '2021-02-04T00:00:00Z'],\n",
       " [9447165, 230034, 8396148, 820983, '2021-02-05T00:00:00Z'],\n",
       " [9447165, 230034, 8428992, 788139, '2021-02-06T00:00:00Z'],\n",
       " [9524640, 231534, 8467982, 825124, '2021-02-07T00:00:00Z'],\n",
       " [9524640, 231534, 8478818, 814288, '2021-02-08T00:00:00Z'],\n",
       " [9599565, 233520, 8577207, 788838, '2021-02-09T00:00:00Z'],\n",
       " [9659167, 234850, 8616282, 808035, '2021-02-10T00:00:00Z'],\n",
       " [9713909, 236201, 8637050, 840658, '2021-02-11T00:00:00Z'],\n",
       " [9765455, 237489, 8691664, 836302, '2021-02-12T00:00:00Z'],\n",
       " [9809754, 238532, 8740445, 830777, '2021-02-13T00:00:00Z'],\n",
       " [9834513, 239245, 8765048, 830220, '2021-02-14T00:00:00Z'],\n",
       " [9866710, 239773, 8821887, 805050, '2021-02-15T00:00:00Z'],\n",
       " [9921981, 240940, 8847264, 833777, '2021-02-16T00:00:00Z'],\n",
       " [9978747, 242090, 8933402, 803255, '2021-02-17T00:00:00Z'],\n",
       " [10030626, 243457, 8960755, 826414, '2021-02-18T00:00:00Z'],\n",
       " [10084208, 244737, 8988618, 850853, '2021-02-19T00:00:00Z'],\n",
       " [10139148, 245977, 9070505, 822666, '2021-02-20T00:00:00Z'],\n",
       " [10168174, 246504, 9095692, 825978, '2021-02-21T00:00:00Z'],\n",
       " [10195160, 247143, 9108205, 839812, '2021-02-22T00:00:00Z'],\n",
       " [10257875, 248529, 9189903, 819443, '2021-02-23T00:00:00Z'],\n",
       " [10324463, 249957, 9214337, 860169, '2021-02-24T00:00:00Z'],\n",
       " [10390461, 251498, 9264696, 874267, '2021-02-25T00:00:00Z'],\n",
       " [10455630, 252835, 9309568, 893227, '2021-02-26T00:00:00Z'],\n",
       " [10517232, 254221, 9371448, 891563, '2021-02-27T00:00:00Z'],\n",
       " [10551259, 254942, 9382316, 914001, '2021-02-28T00:00:00Z'],\n",
       " [10587001, 255720, 9437611, 893670, '2021-03-01T00:00:00Z'],\n",
       " [10646926, 257361, 9506251, 883314, '2021-03-02T00:00:00Z'],\n",
       " [10718630, 259271, 9548315, 911044, '2021-03-03T00:00:00Z'],\n",
       " [10793732, 260970, 9605870, 926892, '2021-03-04T00:00:00Z'],\n",
       " [10869227, 262770, 9647550, 958907, '2021-03-05T00:00:00Z'],\n",
       " [10938836, 264325, 9686024, 988487, '2021-03-06T00:00:00Z'],\n",
       " [11019344, 265411, 9739464, 10753933, '2021-03-07T00:00:00Z'],\n",
       " [11051665, 266398, 9826292, 958975, '2021-03-08T00:00:00Z'],\n",
       " [11122429, 268370, 9878566, 975493, '2021-03-09T00:00:00Z'],\n",
       " [11202305, 270656, 9921994, 1009655, '2021-03-10T00:00:00Z'],\n",
       " [11277717, 272889, 9983656, 1021172, '2021-03-11T00:00:00Z'],\n",
       " [11363380, 275105, 10041024, 1047251, '2021-03-12T00:00:00Z'],\n",
       " [11439558, 277102, 10084820, 1077636, '2021-03-13T00:00:00Z'],\n",
       " [11483370, 278229, 10113487, 1091654, '2021-03-14T00:00:00Z'],\n",
       " [11519609, 279286, 10195598, 1044725, '2021-03-15T00:00:00Z'],\n",
       " [11603535, 282127, 10261154, 1060254, '2021-03-16T00:00:00Z'],\n",
       " [11693838, 284775, 10326375, 1082688, '2021-03-17T00:00:00Z'],\n",
       " [11780820, 287499, 10383496, 1109825, '2021-03-18T00:00:00Z'],\n",
       " [11871390, 290314, 10435864, 1145212, '2021-03-19T00:00:00Z'],\n",
       " [11950459, 292752, 10476123, 1181584, '2021-03-20T00:00:00Z'],\n",
       " [11998233, 294042, 10509457, 1194734, '2021-03-21T00:00:00Z'],\n",
       " [12047526, 295425, 10611595, 1140506, '2021-03-22T00:00:00Z'],\n",
       " [12130019, 298676, 10665161, 1166182, '2021-03-23T00:00:00Z'],\n",
       " [12220011, 300685, 10750131, 1169195, '2021-03-24T00:00:00Z'],\n",
       " [12320169, 303462, 10808499, 1208208, '2021-03-25T00:00:00Z'],\n",
       " [12404414, 307112, 10886792, 1210510, '2021-03-26T00:00:00Z'],\n",
       " [12490362, 310550, 10948382, 1231430, '2021-03-27T00:00:00Z'],\n",
       " [12534688, 312206, 11004281, 1218201, '2021-03-28T00:00:00Z'],\n",
       " [12573615, 313866, 11022192, 1237557, '2021-03-29T00:00:00Z'],\n",
       " [12658109, 317646, 11085369, 1255094, '2021-03-30T00:00:00Z'],\n",
       " [12748747, 321515, 11181371, 1245861, '2021-03-31T00:00:00Z'],\n",
       " [12839844, 325284, 11240213, 1274347, '2021-04-01T00:00:00Z'],\n",
       " [12910082, 328206, 11277632, 1304244, '2021-04-02T00:00:00Z'],\n",
       " [12953597, 330193, 11327510, 1295894, '2021-04-03T00:00:00Z'],\n",
       " [12984956, 331433, 11343607, 1309916, '2021-04-04T00:00:00Z'],\n",
       " [13013601, 332752, 11405558, 1275291, '2021-04-05T00:00:00Z'],\n",
       " [13100580, 336947, 11459548, 1304085, '2021-04-06T00:00:00Z'],\n",
       " [13193205, 340776, 11592159, 1260270, '2021-04-07T00:00:00Z'],\n",
       " [13279857, 345025, 11668734, 1266098, '2021-04-08T00:00:00Z'],\n",
       " [13373174, 348718, 11722181, 1302275, '2021-04-09T00:00:00Z'],\n",
       " [13445006, 351334, 11739649, 1354023, '2021-04-10T00:00:00Z'],\n",
       " [13482023, 353137, 11878958, 1249928, '2021-04-11T00:00:00Z'],\n",
       " [13517808, 354617, 11892229, 1270962, '2021-04-12T00:00:00Z'],\n",
       " [13599994, 358425, 11975121, 1266448, '2021-04-13T00:00:00Z'],\n",
       " [13673507, 361884, 12033880, 1277743, '2021-04-14T00:00:00Z'],\n",
       " [13746681, 365444, 12084851, 1296386, '2021-04-15T00:00:00Z'],\n",
       " [13832455, 368749, 12163831, 1299875, '2021-04-16T00:00:00Z'],\n",
       " [13900091, 371678, 12212890, 1315523, '2021-04-17T00:00:00Z'],\n",
       " [13943071, 373335, 12303538, 1266198, '2021-04-18T00:00:00Z'],\n",
       " [13973695, 374682, 12346828, 1252185, '2021-04-19T00:00:00Z'],\n",
       " [14043076, 378003, 12425791, 1239282, '2021-04-20T00:00:00Z'],\n",
       " [14122795, 381475, 12436210, 1305110, '2021-04-21T00:00:00Z'],\n",
       " [14167973, 383502, 12530970, 1253501, '2021-04-22T00:00:00Z'],\n",
       " [14237078, 386416, 12586272, 1264390, '2021-04-23T00:00:00Z'],\n",
       " [14308215, 389492, 12606011, 1312712, '2021-04-24T00:00:00Z'],\n",
       " [14340787, 390797, 12614559, 1335431, '2021-04-25T00:00:00Z'],\n",
       " [14369423, 391936, 12707500, 1269987, '2021-04-26T00:00:00Z'],\n",
       " [14441563, 395022, 12815119, 1231422, '2021-04-27T00:00:00Z'],\n",
       " [14521289, 398185, 12849663, 1273441, '2021-04-28T00:00:00Z'],\n",
       " [14590678, 401186, 12942081, 1247411, '2021-04-29T00:00:00Z'],\n",
       " [14659011, 403781, 12991951, 1263279, '2021-04-30T00:00:00Z'],\n",
       " [14725975, 406437, 13023892, 1295646, '2021-05-01T00:00:00Z'],\n",
       " [14754910, 407639, 13083550, 1263721, '2021-05-02T00:00:00Z'],\n",
       " [14779529, 408622, 13135143, 1235764, '2021-05-03T00:00:00Z'],\n",
       " [14856888, 411588, 13170561, 1274739, '2021-05-04T00:00:00Z'],\n",
       " [14930183, 414399, 13254660, 1261124, '2021-05-05T00:00:00Z'],\n",
       " [15003563, 416949, 13285589, 1301025, '2021-05-06T00:00:00Z'],\n",
       " [15082449, 419114, 13400075, 1263260, '2021-05-07T00:00:00Z'],\n",
       " [15145879, 421316, 13422047, 1302516, '2021-05-08T00:00:00Z'],\n",
       " [15184790, 422340, 13457400, 1305050, '2021-05-09T00:00:00Z'],\n",
       " [15209990, 423229, 13481062, 1305699, '2021-05-10T00:00:00Z'],\n",
       " [15282705, 425540, 13592463, 1264702, '2021-05-11T00:00:00Z'],\n",
       " [15359397, 428034, 13622419, 1308944, '2021-05-12T00:00:00Z'],\n",
       " [15433989, 430417, 13662690, 1340882, '2021-05-13T00:00:00Z'],\n",
       " [15519525, 432628, 13703280, 1383617, '2021-05-14T00:00:00Z'],\n",
       " [15586534, 434715, 13710822, 1440997, '2021-05-15T00:00:00Z'],\n",
       " [15627243, 435751, 13764520, 1426972, '2021-05-16T00:00:00Z'],\n",
       " [15657391, 436537, 13856731, 1364123, '2021-05-17T00:00:00Z'],\n",
       " [15732836, 439050, 13957814, 1335972, '2021-05-18T00:00:00Z'],\n",
       " [15812055, 441691, 14043766, 1326598, '2021-05-19T00:00:00Z'],\n",
       " [15894094, 444094, 14080089, 1369911, '2021-05-20T00:00:00Z'],\n",
       " [15970949, 446309, 14103800, 1420840, '2021-05-21T00:00:00Z'],\n",
       " [16047439, 448208, 14132443, 1466788, '2021-05-22T00:00:00Z'],\n",
       " [16083258, 449068, 14132443, 1501747, '2021-05-23T00:00:00Z'],\n",
       " [16120756, 449858, 14190644, 1480254, '2021-05-24T00:00:00Z'],\n",
       " [16194209, 452031, 14231991, 1510187, '2021-05-25T00:00:00Z'],\n",
       " [16274695, 454429, 14272174, 1548092, '2021-05-26T00:00:00Z'],\n",
       " [16342162, 456674, 14455810, 1429678, '2021-05-27T00:00:00Z'],\n",
       " [16391930, 459045, 14492701, 1440184, '2021-05-28T00:00:00Z'],\n",
       " [16471600, 461057, 14496224, 1514319, '2021-05-29T00:00:00Z'],\n",
       " [16515120, 461931, 14540507, 1512682, '2021-05-30T00:00:00Z'],\n",
       " [16545554, 462791, 14586009, 1496754, '2021-05-31T00:00:00Z'],\n",
       " [16624480, 465199, 14694950, 1464331, '2021-06-01T00:00:00Z'],\n",
       " [16720081, 467706, 14763694, 1488681, '2021-06-02T00:00:00Z'],\n",
       " [16803472, 469388, 14763694, 1570390, '2021-06-03T00:00:00Z'],\n",
       " [16841408, 470842, 14868994, 1501572, '2021-06-04T00:00:00Z'],\n",
       " [16907425, 472531, 14944069, 1490825, '2021-06-05T00:00:00Z'],\n",
       " [16947062, 473404, 15000718, 1472940, '2021-06-06T00:00:00Z'],\n",
       " [16984218, 474414, 15019797, 1490007, '2021-06-07T00:00:00Z'],\n",
       " [17037129, 476792, 15055747, 1504590, '2021-06-08T00:00:00Z'],\n",
       " [17122877, 479515, 15154101, 1489261, '2021-06-09T00:00:00Z'],\n",
       " [17210969, 482019, 15211176, 1517774, '2021-06-10T00:00:00Z'],\n",
       " [17296118, 484235, 15260459, 1551424, '2021-06-11T00:00:00Z'],\n",
       " [17374818, 486272, 15271120, 1617426, '2021-06-12T00:00:00Z'],\n",
       " [17412766, 487401, 15400169, 1525196, '2021-06-13T00:00:00Z'],\n",
       " [17452612, 488228, 15421397, 1542987, '2021-06-14T00:00:00Z'],\n",
       " [17533221, 490696, 15519955, 1522570, '2021-06-15T00:00:00Z'],\n",
       " [17628588, 493693, 15569556, 1565339, '2021-06-16T00:00:00Z'],\n",
       " [17702630, 496004, 15660614, 1546012, '2021-06-17T00:00:00Z'],\n",
       " [17801462, 498499, 15687189, 1615774, '2021-06-18T00:00:00Z'],\n",
       " [17883750, 500800, 15745463, 1637487, '2021-06-19T00:00:00Z'],\n",
       " [17927928, 501825, 15745463, 1680640, '2021-06-20T00:00:00Z'],\n",
       " [17966831, 502586, 15819764, 1644481, '2021-06-21T00:00:00Z'],\n",
       " [18054653, 504717, 15862096, 1687840, '2021-06-22T00:00:00Z'],\n",
       " [18169881, 507109, 16008271, 1654501, '2021-06-23T00:00:00Z'],\n",
       " [18243483, 509141, 16038230, 1696112, '2021-06-24T00:00:00Z'],\n",
       " [18322760, 511142, 16097711, 1713907, '2021-06-25T00:00:00Z'],\n",
       " [18386894, 512735, 16146608, 1727551, '2021-06-26T00:00:00Z'],\n",
       " [18420598, 513474, 16160826, 1746298, '2021-06-27T00:00:00Z'],\n",
       " [18448402, 514092, 16240380, 1693930, '2021-06-28T00:00:00Z'],\n",
       " [18513305, 515985, 16277785, 1719535, '2021-06-29T00:00:00Z'],\n",
       " [18557141, 518066, 16299258, 1739817, '2021-06-30T00:00:00Z'],\n",
       " [18622304, 520095, 16477253, 1624956, '2021-07-01T00:00:00Z'],\n",
       " [18687469, 521952, 16509821, 1655696, '2021-07-02T00:00:00Z'],\n",
       " [18742025, 523587, 16524100, 1694338, '2021-07-03T00:00:00Z'],\n",
       " [18769808, 524417, 16582483, 1662908, '2021-07-04T00:00:00Z'],\n",
       " [18792511, 525112, 16675561, 1591838, '2021-07-05T00:00:00Z'],\n",
       " [18855015, 526892, 16740136, 1587987, '2021-07-06T00:00:00Z'],\n",
       " [18909037, 528540, 16763522, 1616975, '2021-07-07T00:00:00Z']]"
      ]
     },
     "execution_count": 18,
     "metadata": {},
     "output_type": "execute_result"
    }
   ],
   "source": [
    "final_data.insert(0, ['confirmados', 'obitos', 'recuperados', 'ativos', 'data'])\n",
    "final_data"
   ]
  },
  {
   "cell_type": "code",
   "execution_count": 19,
   "id": "c4b04edc",
   "metadata": {
    "ExecuteTime": {
     "end_time": "2021-07-08T17:33:42.827204Z",
     "start_time": "2021-07-08T17:33:42.810205Z"
    }
   },
   "outputs": [],
   "source": [
    "CONFIRMADOS = 0\n",
    "OBITOS = 1\n",
    "RECUPERADOS = 2\n",
    "ATIVOS = 3\n",
    "DATA = 4"
   ]
  },
  {
   "cell_type": "code",
   "execution_count": 20,
   "id": "a8220a3c",
   "metadata": {
    "ExecuteTime": {
     "end_time": "2021-07-08T17:33:44.136224Z",
     "start_time": "2021-07-08T17:33:44.122208Z"
    }
   },
   "outputs": [],
   "source": [
    "for i in range(1, len(final_data)):\n",
    "    final_data[i][DATA] = final_data[i][DATA][:10]"
   ]
  },
  {
   "cell_type": "code",
   "execution_count": 21,
   "id": "60dd50e4",
   "metadata": {
    "ExecuteTime": {
     "end_time": "2021-07-08T17:33:45.332744Z",
     "start_time": "2021-07-08T17:33:45.250747Z"
    }
   },
   "outputs": [
    {
     "data": {
      "text/plain": [
       "[['confirmados', 'obitos', 'recuperados', 'ativos', 'data'],\n",
       " [1, 0, 0, 1, '2020-02-26'],\n",
       " [1, 0, 0, 1, '2020-02-27'],\n",
       " [1, 0, 0, 1, '2020-02-28'],\n",
       " [2, 0, 0, 2, '2020-02-29'],\n",
       " [2, 0, 0, 2, '2020-03-01'],\n",
       " [2, 0, 0, 2, '2020-03-02'],\n",
       " [2, 0, 0, 2, '2020-03-03'],\n",
       " [4, 0, 0, 4, '2020-03-04'],\n",
       " [4, 0, 0, 4, '2020-03-05'],\n",
       " [13, 0, 0, 13, '2020-03-06'],\n",
       " [13, 0, 0, 13, '2020-03-07'],\n",
       " [20, 0, 0, 20, '2020-03-08'],\n",
       " [25, 0, 0, 25, '2020-03-09'],\n",
       " [31, 0, 0, 31, '2020-03-10'],\n",
       " [38, 0, 0, 38, '2020-03-11'],\n",
       " [52, 0, 0, 52, '2020-03-12'],\n",
       " [151, 0, 0, 151, '2020-03-13'],\n",
       " [151, 0, 0, 151, '2020-03-14'],\n",
       " [162, 0, 0, 162, '2020-03-15'],\n",
       " [200, 0, 1, 199, '2020-03-16'],\n",
       " [321, 1, 2, 318, '2020-03-17'],\n",
       " [372, 3, 2, 367, '2020-03-18'],\n",
       " [621, 6, 2, 613, '2020-03-19'],\n",
       " [793, 11, 2, 780, '2020-03-20'],\n",
       " [1021, 15, 2, 1004, '2020-03-21'],\n",
       " [1546, 25, 2, 1519, '2020-03-22'],\n",
       " [1924, 34, 2, 1888, '2020-03-23'],\n",
       " [2247, 46, 2, 2199, '2020-03-24'],\n",
       " [2554, 59, 2, 2493, '2020-03-25'],\n",
       " [2985, 77, 6, 2902, '2020-03-26'],\n",
       " [3417, 92, 6, 3319, '2020-03-27'],\n",
       " [3904, 111, 6, 3787, '2020-03-28'],\n",
       " [4256, 136, 6, 4114, '2020-03-29'],\n",
       " [4579, 159, 120, 4300, '2020-03-30'],\n",
       " [5717, 201, 127, 5389, '2020-03-31'],\n",
       " [6836, 240, 127, 6469, '2020-04-01'],\n",
       " [8044, 324, 127, 7593, '2020-04-02'],\n",
       " [9056, 359, 127, 8570, '2020-04-03'],\n",
       " [10360, 445, 127, 9788, '2020-04-04'],\n",
       " [11130, 486, 127, 10517, '2020-04-05'],\n",
       " [12161, 564, 127, 11470, '2020-04-06'],\n",
       " [14034, 686, 127, 13221, '2020-04-07'],\n",
       " [16170, 819, 127, 15224, '2020-04-08'],\n",
       " [18092, 950, 173, 16969, '2020-04-09'],\n",
       " [19638, 1057, 173, 18408, '2020-04-10'],\n",
       " [20727, 1124, 173, 19430, '2020-04-11'],\n",
       " [22192, 1223, 173, 20796, '2020-04-12'],\n",
       " [23430, 1328, 173, 21929, '2020-04-13'],\n",
       " [25262, 1532, 3046, 20684, '2020-04-14'],\n",
       " [28320, 1736, 14026, 12558, '2020-04-15'],\n",
       " [30425, 1924, 14026, 14475, '2020-04-16'],\n",
       " [33682, 2141, 14026, 17515, '2020-04-17'],\n",
       " [36658, 2354, 14026, 20278, '2020-04-18'],\n",
       " [38654, 2462, 22130, 14062, '2020-04-19'],\n",
       " [40743, 2587, 22130, 16026, '2020-04-20'],\n",
       " [43079, 2741, 22991, 17347, '2020-04-21'],\n",
       " [45757, 2906, 25318, 17533, '2020-04-22'],\n",
       " [50036, 3331, 26573, 20132, '2020-04-23'],\n",
       " [54043, 3704, 27655, 22684, '2020-04-24'],\n",
       " [59324, 4057, 29160, 26107, '2020-04-25'],\n",
       " [63100, 4286, 30152, 28662, '2020-04-26'],\n",
       " [67446, 4603, 31142, 31701, '2020-04-27'],\n",
       " [73235, 5083, 32544, 35608, '2020-04-28'],\n",
       " [79685, 5513, 34132, 40040, '2020-04-29'],\n",
       " [87187, 6006, 35935, 45246, '2020-04-30'],\n",
       " [92202, 6412, 38039, 47751, '2020-05-01'],\n",
       " [97100, 6761, 40937, 49402, '2020-05-02'],\n",
       " [101826, 7051, 42991, 51784, '2020-05-03'],\n",
       " [108620, 7367, 45815, 55438, '2020-05-04'],\n",
       " [115455, 7938, 48221, 59296, '2020-05-05'],\n",
       " [126611, 8588, 51370, 66653, '2020-05-06'],\n",
       " [135773, 9190, 55350, 71233, '2020-05-07'],\n",
       " [146894, 10017, 59297, 77580, '2020-05-08'],\n",
       " [156061, 10656, 61685, 83720, '2020-05-09'],\n",
       " [162699, 11123, 64957, 86619, '2020-05-10'],\n",
       " [169594, 11653, 67384, 90557, '2020-05-11'],\n",
       " [178214, 12461, 72597, 93156, '2020-05-12'],\n",
       " [190137, 13240, 78424, 98473, '2020-05-13'],\n",
       " [203165, 13999, 79479, 109687, '2020-05-14'],\n",
       " [220291, 14962, 84970, 120359, '2020-05-15'],\n",
       " [233511, 15662, 89672, 128177, '2020-05-16'],\n",
       " [241080, 16118, 94122, 130840, '2020-05-17'],\n",
       " [255368, 16853, 100459, 138056, '2020-05-18'],\n",
       " [271885, 17983, 106794, 147108, '2020-05-19'],\n",
       " [291579, 18859, 116683, 156037, '2020-05-20'],\n",
       " [310087, 20047, 125960, 164080, '2020-05-21'],\n",
       " [330890, 21048, 135430, 174412, '2020-05-22'],\n",
       " [347398, 22013, 142587, 182798, '2020-05-23'],\n",
       " [363211, 22666, 149911, 190634, '2020-05-24'],\n",
       " [374898, 23473, 153833, 197592, '2020-05-25'],\n",
       " [391222, 24512, 158593, 208117, '2020-05-26'],\n",
       " [411821, 25598, 166647, 219576, '2020-05-27'],\n",
       " [438238, 26754, 177604, 233880, '2020-05-28'],\n",
       " [465166, 27878, 189476, 247812, '2020-05-29'],\n",
       " [498440, 28834, 200892, 268714, '2020-05-30'],\n",
       " [514849, 29314, 206555, 278980, '2020-05-31'],\n",
       " [526447, 29937, 211080, 285430, '2020-06-01'],\n",
       " [555383, 31199, 223638, 300546, '2020-06-02'],\n",
       " [584016, 32548, 238617, 312851, '2020-06-03'],\n",
       " [614941, 34021, 254963, 325957, '2020-06-04'],\n",
       " [645771, 35026, 266940, 343805, '2020-06-05'],\n",
       " [672846, 35930, 277149, 359767, '2020-06-06'],\n",
       " [691758, 36455, 283952, 371351, '2020-06-07'],\n",
       " [707412, 37134, 378257, 292021, '2020-06-08'],\n",
       " [739503, 38406, 396737, 304360, '2020-06-09'],\n",
       " [772416, 39680, 413916, 318820, '2020-06-10'],\n",
       " [802828, 40919, 429965, 331944, '2020-06-11'],\n",
       " [828810, 41828, 445123, 341859, '2020-06-12'],\n",
       " [850514, 42720, 459436, 348358, '2020-06-13'],\n",
       " [867624, 43332, 469141, 355151, '2020-06-14'],\n",
       " [888271, 43959, 477709, 366603, '2020-06-15'],\n",
       " [923189, 45241, 490005, 387943, '2020-06-16'],\n",
       " [955377, 46510, 521046, 387821, '2020-06-17'],\n",
       " [978142, 47748, 534580, 395814, '2020-06-18'],\n",
       " [1032913, 48954, 551631, 432328, '2020-06-19'],\n",
       " [1067579, 49976, 576779, 440824, '2020-06-20'],\n",
       " [1083341, 50591, 588118, 444632, '2020-06-21'],\n",
       " [1106470, 51271, 601736, 453463, '2020-06-22'],\n",
       " [1145906, 52645, 627963, 465298, '2020-06-23'],\n",
       " [1188631, 53830, 660469, 474332, '2020-06-24'],\n",
       " [1228114, 54971, 679524, 493619, '2020-06-25'],\n",
       " [1274974, 55961, 702399, 516614, '2020-06-26'],\n",
       " [1313667, 57070, 727715, 528882, '2020-06-27'],\n",
       " [1344143, 57622, 746018, 540503, '2020-06-28'],\n",
       " [1368195, 58314, 757811, 552070, '2020-06-29'],\n",
       " [1402041, 59594, 788318, 554129, '2020-06-30'],\n",
       " [1448753, 60632, 817642, 570479, '2020-07-01'],\n",
       " [1496858, 61884, 957692, 477282, '2020-07-02'],\n",
       " [1539081, 63174, 984615, 491292, '2020-07-03'],\n",
       " [1577004, 64265, 990731, 522008, '2020-07-04'],\n",
       " [1603055, 64867, 1029045, 509143, '2020-07-05'],\n",
       " [1623284, 65487, 1062542, 495255, '2020-07-06'],\n",
       " [1668589, 66741, 1107012, 494836, '2020-07-07'],\n",
       " [1713160, 67964, 1139844, 505352, '2020-07-08'],\n",
       " [1755779, 69184, 1171447, 515148, '2020-07-09'],\n",
       " [1800827, 70398, 1217361, 513068, '2020-07-10'],\n",
       " [1839850, 71469, 1244088, 524293, '2020-07-11'],\n",
       " [1864681, 72100, 1264843, 527738, '2020-07-12'],\n",
       " [1884967, 72833, 1291251, 520883, '2020-07-13'],\n",
       " [1926824, 74133, 1323425, 529266, '2020-07-14'],\n",
       " [1966748, 75366, 1350098, 541284, '2020-07-15'],\n",
       " [2012151, 76688, 1397531, 537932, '2020-07-16'],\n",
       " [2046328, 77851, 1428520, 539957, '2020-07-17'],\n",
       " [2074860, 78772, 1447408, 548680, '2020-07-18'],\n",
       " [2098389, 79488, 1459072, 559829, '2020-07-19'],\n",
       " [2118646, 80120, 1514300, 524226, '2020-07-20'],\n",
       " [2159654, 81487, 1555339, 522828, '2020-07-21'],\n",
       " [2227514, 82771, 1591975, 552768, '2020-07-22'],\n",
       " [2287475, 84082, 1620313, 583080, '2020-07-23'],\n",
       " [2343366, 85238, 1693214, 564914, '2020-07-24'],\n",
       " [2394513, 86449, 1785359, 522705, '2020-07-25'],\n",
       " [2419091, 87004, 1812913, 519174, '2020-07-26'],\n",
       " [2442375, 87618, 1846641, 508116, '2020-07-27'],\n",
       " [2483191, 88539, 1868749, 525903, '2020-07-28'],\n",
       " [2552265, 90134, 1922802, 539329, '2020-07-29'],\n",
       " [2610102, 91263, 1956807, 562032, '2020-07-30'],\n",
       " [2662485, 92475, 2008854, 561156, '2020-07-31'],\n",
       " [2707877, 93563, 2037982, 576332, '2020-08-01'],\n",
       " [2733677, 94104, 2062876, 576697, '2020-08-02'],\n",
       " [2750318, 94665, 2098976, 556677, '2020-08-03'],\n",
       " [2801921, 95819, 2157484, 548618, '2020-08-04'],\n",
       " [2859073, 97256, 2190361, 571456, '2020-08-05'],\n",
       " [2912212, 98493, 2230542, 583177, '2020-08-06'],\n",
       " [2962442, 99572, 2272299, 590571, '2020-08-07'],\n",
       " [3012412, 100477, 2321537, 590398, '2020-08-08'],\n",
       " [3035422, 101049, 2356983, 577390, '2020-08-09'],\n",
       " [3057470, 101752, 2390830, 564888, '2020-08-10'],\n",
       " [3109630, 103026, 2449338, 557266, '2020-08-11'],\n",
       " [3164785, 104201, 2506228, 554356, '2020-08-12'],\n",
       " [3224876, 105463, 2521100, 598313, '2020-08-13'],\n",
       " [3275520, 106523, 2616981, 552016, '2020-08-14'],\n",
       " [3317096, 107232, 2622878, 586986, '2020-08-15'],\n",
       " [3340197, 107852, 2655017, 577328, '2020-08-16'],\n",
       " [3359570, 108536, 2699080, 551954, '2020-08-17'],\n",
       " [3407354, 109888, 2751246, 546220, '2020-08-18'],\n",
       " [3456652, 111100, 2801931, 543621, '2020-08-19'],\n",
       " [3501975, 112304, 2844318, 545353, '2020-08-20'],\n",
       " [3532330, 113358, 2855558, 563414, '2020-08-21'],\n",
       " [3582362, 114250, 2913966, 554146, '2020-08-22'],\n",
       " [3605783, 114744, 2947784, 543255, '2020-08-23'],\n",
       " [3622861, 115309, 2976256, 531296, '2020-08-24'],\n",
       " [3669995, 116580, 3032551, 520864, '2020-08-25'],\n",
       " [3717156, 117665, 3082447, 517044, '2020-08-26'],\n",
       " [3761391, 118649, 3122846, 519896, '2020-08-27'],\n",
       " [3804803, 119504, 3158783, 526516, '2020-08-28'],\n",
       " [3846153, 120262, 3202185, 523706, '2020-08-29'],\n",
       " [3862311, 120828, 3237615, 503868, '2020-08-30'],\n",
       " [3908272, 121381, 3268591, 518300, '2020-08-31'],\n",
       " [3950931, 122596, 3345240, 483095, '2020-09-01'],\n",
       " [3997865, 123780, 3387309, 486776, '2020-09-02'],\n",
       " [4041638, 124614, 3429435, 487589, '2020-09-03'],\n",
       " [4091801, 125502, 3464278, 502021, '2020-09-04'],\n",
       " [4123000, 126203, 3498999, 497798, '2020-09-05'],\n",
       " [4137521, 126650, 3522155, 488716, '2020-09-06'],\n",
       " [4147794, 126960, 3549201, 471633, '2020-09-07'],\n",
       " [4162073, 127464, 3572421, 462188, '2020-09-08'],\n",
       " [4197889, 128539, 3611632, 457718, '2020-09-09'],\n",
       " [4238446, 129522, 3657701, 451223, '2020-09-10'],\n",
       " [4282164, 130396, 3695158, 456610, '2020-09-11'],\n",
       " [4315687, 131210, 3723206, 461271, '2020-09-12'],\n",
       " [4330455, 131625, 3723206, 475624, '2020-09-13'],\n",
       " [4345610, 132006, 3770138, 443466, '2020-09-14'],\n",
       " [4382263, 133119, 3811505, 437639, '2020-09-15'],\n",
       " [4419083, 134106, 3845464, 439513, '2020-09-16'],\n",
       " [4455386, 134935, 3873934, 446517, '2020-09-17'],\n",
       " [4495183, 135793, 3897539, 461851, '2020-09-18'],\n",
       " [4528240, 136532, 3936893, 454815, '2020-09-19'],\n",
       " [4544629, 136895, 3963446, 444288, '2020-09-20'],\n",
       " [4558040, 137272, 3993432, 427336, '2020-09-21'],\n",
       " [4591364, 138105, 4016831, 436428, '2020-09-22'],\n",
       " [4591364, 138105, 4046827, 406432, '2020-09-23'],\n",
       " [4657702, 139808, 4102954, 414940, '2020-09-24'],\n",
       " [4689613, 140537, 4128490, 420586, '2020-09-25'],\n",
       " [4717991, 141406, 4153307, 423278, '2020-09-26'],\n",
       " [4732309, 141741, 4172711, 417857, '2020-09-27'],\n",
       " [4745464, 142058, 4197372, 406034, '2020-09-28'],\n",
       " [4777522, 142921, 4237152, 397449, '2020-09-29'],\n",
       " [4810935, 143952, 4274774, 392209, '2020-09-30'],\n",
       " [4847092, 144680, 4299659, 402753, '2020-10-01'],\n",
       " [4847092, 144680, 4299659, 402753, '2020-10-02'],\n",
       " [4906833, 145987, 4361108, 399738, '2020-10-03'],\n",
       " [4915289, 146352, 4375354, 393583, '2020-10-04'],\n",
       " [4927235, 146675, 4397882, 382678, '2020-10-05'],\n",
       " [4969141, 147494, 4430340, 391307, '2020-10-06'],\n",
       " [5000694, 148228, 4457172, 395294, '2020-10-07'],\n",
       " [5028444, 148957, 4488092, 391395, '2020-10-08'],\n",
       " [5055888, 149639, 4502854, 403395, '2020-10-09'],\n",
       " [5082637, 150198, 4502854, 429585, '2020-10-10'],\n",
       " [5094979, 150488, 4526393, 418098, '2020-10-11'],\n",
       " [5103408, 150689, 4526393, 426326, '2020-10-12'],\n",
       " [5113628, 150998, 4526393, 436237, '2020-10-13'],\n",
       " [5140863, 151747, 4526393, 462723, '2020-10-14'],\n",
       " [5169386, 152460, 4526393, 490533, '2020-10-15'],\n",
       " [5200300, 153214, 4526393, 520693, '2020-10-16'],\n",
       " [5224362, 153675, 4526393, 544294, '2020-10-17'],\n",
       " [5224362, 153675, 4526393, 544294, '2020-10-18'],\n",
       " [5250727, 154176, 4526393, 570158, '2020-10-19'],\n",
       " [5273954, 154837, 4526393, 592724, '2020-10-20'],\n",
       " [5298772, 155403, 4526393, 616976, '2020-10-21'],\n",
       " [5323630, 155900, 4526393, 641337, '2020-10-22'],\n",
       " [5353656, 156471, 4526393, 670792, '2020-10-23'],\n",
       " [5380635, 156903, 4526393, 697339, '2020-10-24'],\n",
       " [5394128, 157134, 4526393, 710601, '2020-10-25'],\n",
       " [5409854, 157397, 4526393, 726064, '2020-10-26'],\n",
       " [5439641, 157946, 4914733, 366962, '2020-10-27'],\n",
       " [5468270, 158456, 4947777, 362037, '2020-10-28'],\n",
       " [5494376, 158969, 4962574, 372833, '2020-10-29'],\n",
       " [5516658, 159477, 4987435, 369746, '2020-10-30'],\n",
       " [5535605, 159884, 5005161, 370560, '2020-10-31'],\n",
       " [5545705, 160074, 5022338, 363293, '2020-11-01'],\n",
       " [5554206, 160253, 5039438, 354515, '2020-11-02'],\n",
       " [5566049, 160496, 5060697, 344856, '2020-11-03'],\n",
       " [5590025, 161106, 5078162, 350757, '2020-11-04'],\n",
       " [5590025, 161106, 5078162, 350757, '2020-11-05'],\n",
       " [5631181, 162015, 5118156, 351010, '2020-11-06'],\n",
       " [5653561, 162269, 5138641, 352651, '2020-11-07'],\n",
       " [5664115, 162397, 5147172, 354546, '2020-11-08'],\n",
       " [5675032, 162628, 5163226, 349178, '2020-11-09'],\n",
       " [5699005, 162802, 5183970, 352233, '2020-11-10'],\n",
       " [5747660, 163368, 5222937, 361355, '2020-11-11'],\n",
       " [5781582, 164281, 5254457, 362844, '2020-11-12'],\n",
       " [5810652, 164737, 5274812, 371103, '2020-11-13'],\n",
       " [5848959, 165658, 5279452, 403849, '2020-11-14'],\n",
       " [5863093, 165798, 5279452, 417843, '2020-11-15'],\n",
       " [5876464, 166014, 5335498, 374952, '2020-11-16'],\n",
       " [5911758, 166699, 5358299, 386760, '2020-11-17'],\n",
       " [5945849, 167455, 5383385, 395009, '2020-11-18'],\n",
       " [5981767, 168061, 5406066, 407640, '2020-11-19'],\n",
       " [6020164, 168613, 5430896, 420655, '2020-11-20'],\n",
       " [6052786, 168989, 5437189, 446608, '2020-11-21'],\n",
       " [6071401, 169183, 5457973, 444245, '2020-11-22'],\n",
       " [6087608, 169485, 5481184, 436939, '2020-11-23'],\n",
       " [6118708, 170115, 5509645, 438948, '2020-11-24'],\n",
       " [6166606, 170769, 5534010, 461827, '2020-11-25'],\n",
       " [6204220, 171460, 5556887, 475873, '2020-11-26'],\n",
       " [6238350, 171974, 5581436, 484940, '2020-11-27'],\n",
       " [6290272, 172561, 5581436, 536275, '2020-11-28'],\n",
       " [6314740, 172833, 5581436, 560471, '2020-11-29'],\n",
       " [6335878, 173120, 5597802, 564956, '2020-11-30'],\n",
       " [6386787, 173817, 5712305, 500665, '2020-12-01'],\n",
       " [6436650, 174515, 5759294, 502841, '2020-12-02'],\n",
       " [6487084, 175270, 5792539, 519275, '2020-12-03'],\n",
       " [6533968, 175964, 5825745, 532259, '2020-12-04'],\n",
       " [6577177, 176628, 5864838, 535711, '2020-12-05'],\n",
       " [6603540, 176941, 5866657, 559942, '2020-12-06'],\n",
       " [6623911, 177317, 5897526, 549068, '2020-12-07'],\n",
       " [6674999, 178159, 5965492, 531348, '2020-12-08'],\n",
       " [6728452, 178995, 5966118, 583339, '2020-12-09'],\n",
       " [6781799, 179765, 6043219, 558815, '2020-12-10'],\n",
       " [6836227, 180437, 6078287, 577503, '2020-12-11'],\n",
       " [6880127, 181123, 6078287, 620717, '2020-12-12'],\n",
       " [6901952, 181402, 6138349, 582201, '2020-12-13'],\n",
       " [6927145, 181835, 6158049, 587261, '2020-12-14'],\n",
       " [6970034, 182799, 6206483, 580752, '2020-12-15'],\n",
       " [7040608, 183735, 6239192, 617681, '2020-12-16'],\n",
       " [7110434, 184827, 6301547, 624060, '2020-12-17'],\n",
       " [7162978, 185650, 6322955, 654373, '2020-12-18'],\n",
       " [7213155, 186356, 6388938, 637861, '2020-12-19'],\n",
       " [7238600, 186764, 6408517, 643319, '2020-12-20'],\n",
       " [7263619, 187291, 6469310, 607018, '2020-12-21'],\n",
       " [7318821, 188259, 6501341, 629221, '2020-12-22'],\n",
       " [7365517, 189220, 6512717, 663580, '2020-12-23'],\n",
       " [7423945, 189982, 6512717, 721246, '2020-12-24'],\n",
       " [7448560, 190488, 6512717, 745355, '2020-12-25'],\n",
       " [7465806, 190795, 6654189, 620822, '2020-12-26'],\n",
       " [7484285, 191139, 6677235, 615911, '2020-12-27'],\n",
       " [7504833, 191570, 6712757, 600506, '2020-12-28'],\n",
       " [7563551, 192681, 6754111, 616759, '2020-12-29'],\n",
       " [7619200, 193875, 6814092, 611233, '2020-12-30'],\n",
       " [7675973, 194949, 6848844, 632180, '2020-12-31'],\n",
       " [7700578, 195411, 6855372, 649795, '2021-01-01'],\n",
       " [7716405, 195725, 6893256, 627424, '2021-01-02'],\n",
       " [7733746, 196018, 6904172, 633556, '2021-01-03'],\n",
       " [7753752, 196561, 6950045, 607146, '2021-01-04'],\n",
       " [7810400, 197732, 6994845, 617823, '2021-01-05'],\n",
       " [7873830, 198974, 7033286, 641570, '2021-01-06'],\n",
       " [7961673, 200498, 7081521, 679654, '2021-01-07'],\n",
       " [8013708, 201460, 7136817, 675431, '2021-01-08'],\n",
       " [8075998, 202631, 7205410, 667957, '2021-01-09'],\n",
       " [8105790, 203100, 7231336, 671354, '2021-01-10'],\n",
       " [8131612, 203580, 7273237, 654795, '2021-01-11'],\n",
       " [8195637, 204690, 7284945, 706002, '2021-01-12'],\n",
       " [8256536, 205964, 7347080, 703492, '2021-01-13'],\n",
       " [8324294, 207095, 7394739, 722460, '2021-01-14'],\n",
       " [8393492, 208246, 7438075, 747171, '2021-01-15'],\n",
       " [8455059, 209296, 7485823, 759940, '2021-01-16'],\n",
       " [8488099, 209847, 7509009, 769243, '2021-01-17'],\n",
       " [8511770, 210299, 7560460, 741011, '2021-01-18'],\n",
       " [8573864, 211491, 7618080, 744293, '2021-01-19'],\n",
       " [8638249, 212831, 7618080, 807338, '2021-01-20'],\n",
       " [8697368, 214147, 7673092, 810129, '2021-01-21'],\n",
       " [8753920, 215243, 7746910, 791767, '2021-01-22'],\n",
       " [8816254, 216445, 7775928, 823881, '2021-01-23'],\n",
       " [8844577, 217037, 7821376, 806164, '2021-01-24'],\n",
       " [8871393, 217664, 7864969, 788760, '2021-01-25'],\n",
       " [8933356, 218878, 7896290, 818188, '2021-01-26'],\n",
       " [8996876, 220161, 7964176, 812539, '2021-01-27'],\n",
       " [9058687, 221547, 7979513, 857627, '2021-01-28'],\n",
       " [9118513, 222666, 8066603, 829244, '2021-01-29'],\n",
       " [9176975, 223945, 8148671, 804359, '2021-01-30'],\n",
       " [9204731, 224504, 8176373, 803854, '2021-01-31'],\n",
       " [9229322, 225099, 8202354, 801869, '2021-02-01'],\n",
       " [9283418, 226309, 8258074, 799035, '2021-02-02'],\n",
       " [9339420, 227563, 8311881, 799976, '2021-02-03'],\n",
       " [9396293, 228795, 8366197, 801301, '2021-02-04'],\n",
       " [9447165, 230034, 8396148, 820983, '2021-02-05'],\n",
       " [9447165, 230034, 8428992, 788139, '2021-02-06'],\n",
       " [9524640, 231534, 8467982, 825124, '2021-02-07'],\n",
       " [9524640, 231534, 8478818, 814288, '2021-02-08'],\n",
       " [9599565, 233520, 8577207, 788838, '2021-02-09'],\n",
       " [9659167, 234850, 8616282, 808035, '2021-02-10'],\n",
       " [9713909, 236201, 8637050, 840658, '2021-02-11'],\n",
       " [9765455, 237489, 8691664, 836302, '2021-02-12'],\n",
       " [9809754, 238532, 8740445, 830777, '2021-02-13'],\n",
       " [9834513, 239245, 8765048, 830220, '2021-02-14'],\n",
       " [9866710, 239773, 8821887, 805050, '2021-02-15'],\n",
       " [9921981, 240940, 8847264, 833777, '2021-02-16'],\n",
       " [9978747, 242090, 8933402, 803255, '2021-02-17'],\n",
       " [10030626, 243457, 8960755, 826414, '2021-02-18'],\n",
       " [10084208, 244737, 8988618, 850853, '2021-02-19'],\n",
       " [10139148, 245977, 9070505, 822666, '2021-02-20'],\n",
       " [10168174, 246504, 9095692, 825978, '2021-02-21'],\n",
       " [10195160, 247143, 9108205, 839812, '2021-02-22'],\n",
       " [10257875, 248529, 9189903, 819443, '2021-02-23'],\n",
       " [10324463, 249957, 9214337, 860169, '2021-02-24'],\n",
       " [10390461, 251498, 9264696, 874267, '2021-02-25'],\n",
       " [10455630, 252835, 9309568, 893227, '2021-02-26'],\n",
       " [10517232, 254221, 9371448, 891563, '2021-02-27'],\n",
       " [10551259, 254942, 9382316, 914001, '2021-02-28'],\n",
       " [10587001, 255720, 9437611, 893670, '2021-03-01'],\n",
       " [10646926, 257361, 9506251, 883314, '2021-03-02'],\n",
       " [10718630, 259271, 9548315, 911044, '2021-03-03'],\n",
       " [10793732, 260970, 9605870, 926892, '2021-03-04'],\n",
       " [10869227, 262770, 9647550, 958907, '2021-03-05'],\n",
       " [10938836, 264325, 9686024, 988487, '2021-03-06'],\n",
       " [11019344, 265411, 9739464, 10753933, '2021-03-07'],\n",
       " [11051665, 266398, 9826292, 958975, '2021-03-08'],\n",
       " [11122429, 268370, 9878566, 975493, '2021-03-09'],\n",
       " [11202305, 270656, 9921994, 1009655, '2021-03-10'],\n",
       " [11277717, 272889, 9983656, 1021172, '2021-03-11'],\n",
       " [11363380, 275105, 10041024, 1047251, '2021-03-12'],\n",
       " [11439558, 277102, 10084820, 1077636, '2021-03-13'],\n",
       " [11483370, 278229, 10113487, 1091654, '2021-03-14'],\n",
       " [11519609, 279286, 10195598, 1044725, '2021-03-15'],\n",
       " [11603535, 282127, 10261154, 1060254, '2021-03-16'],\n",
       " [11693838, 284775, 10326375, 1082688, '2021-03-17'],\n",
       " [11780820, 287499, 10383496, 1109825, '2021-03-18'],\n",
       " [11871390, 290314, 10435864, 1145212, '2021-03-19'],\n",
       " [11950459, 292752, 10476123, 1181584, '2021-03-20'],\n",
       " [11998233, 294042, 10509457, 1194734, '2021-03-21'],\n",
       " [12047526, 295425, 10611595, 1140506, '2021-03-22'],\n",
       " [12130019, 298676, 10665161, 1166182, '2021-03-23'],\n",
       " [12220011, 300685, 10750131, 1169195, '2021-03-24'],\n",
       " [12320169, 303462, 10808499, 1208208, '2021-03-25'],\n",
       " [12404414, 307112, 10886792, 1210510, '2021-03-26'],\n",
       " [12490362, 310550, 10948382, 1231430, '2021-03-27'],\n",
       " [12534688, 312206, 11004281, 1218201, '2021-03-28'],\n",
       " [12573615, 313866, 11022192, 1237557, '2021-03-29'],\n",
       " [12658109, 317646, 11085369, 1255094, '2021-03-30'],\n",
       " [12748747, 321515, 11181371, 1245861, '2021-03-31'],\n",
       " [12839844, 325284, 11240213, 1274347, '2021-04-01'],\n",
       " [12910082, 328206, 11277632, 1304244, '2021-04-02'],\n",
       " [12953597, 330193, 11327510, 1295894, '2021-04-03'],\n",
       " [12984956, 331433, 11343607, 1309916, '2021-04-04'],\n",
       " [13013601, 332752, 11405558, 1275291, '2021-04-05'],\n",
       " [13100580, 336947, 11459548, 1304085, '2021-04-06'],\n",
       " [13193205, 340776, 11592159, 1260270, '2021-04-07'],\n",
       " [13279857, 345025, 11668734, 1266098, '2021-04-08'],\n",
       " [13373174, 348718, 11722181, 1302275, '2021-04-09'],\n",
       " [13445006, 351334, 11739649, 1354023, '2021-04-10'],\n",
       " [13482023, 353137, 11878958, 1249928, '2021-04-11'],\n",
       " [13517808, 354617, 11892229, 1270962, '2021-04-12'],\n",
       " [13599994, 358425, 11975121, 1266448, '2021-04-13'],\n",
       " [13673507, 361884, 12033880, 1277743, '2021-04-14'],\n",
       " [13746681, 365444, 12084851, 1296386, '2021-04-15'],\n",
       " [13832455, 368749, 12163831, 1299875, '2021-04-16'],\n",
       " [13900091, 371678, 12212890, 1315523, '2021-04-17'],\n",
       " [13943071, 373335, 12303538, 1266198, '2021-04-18'],\n",
       " [13973695, 374682, 12346828, 1252185, '2021-04-19'],\n",
       " [14043076, 378003, 12425791, 1239282, '2021-04-20'],\n",
       " [14122795, 381475, 12436210, 1305110, '2021-04-21'],\n",
       " [14167973, 383502, 12530970, 1253501, '2021-04-22'],\n",
       " [14237078, 386416, 12586272, 1264390, '2021-04-23'],\n",
       " [14308215, 389492, 12606011, 1312712, '2021-04-24'],\n",
       " [14340787, 390797, 12614559, 1335431, '2021-04-25'],\n",
       " [14369423, 391936, 12707500, 1269987, '2021-04-26'],\n",
       " [14441563, 395022, 12815119, 1231422, '2021-04-27'],\n",
       " [14521289, 398185, 12849663, 1273441, '2021-04-28'],\n",
       " [14590678, 401186, 12942081, 1247411, '2021-04-29'],\n",
       " [14659011, 403781, 12991951, 1263279, '2021-04-30'],\n",
       " [14725975, 406437, 13023892, 1295646, '2021-05-01'],\n",
       " [14754910, 407639, 13083550, 1263721, '2021-05-02'],\n",
       " [14779529, 408622, 13135143, 1235764, '2021-05-03'],\n",
       " [14856888, 411588, 13170561, 1274739, '2021-05-04'],\n",
       " [14930183, 414399, 13254660, 1261124, '2021-05-05'],\n",
       " [15003563, 416949, 13285589, 1301025, '2021-05-06'],\n",
       " [15082449, 419114, 13400075, 1263260, '2021-05-07'],\n",
       " [15145879, 421316, 13422047, 1302516, '2021-05-08'],\n",
       " [15184790, 422340, 13457400, 1305050, '2021-05-09'],\n",
       " [15209990, 423229, 13481062, 1305699, '2021-05-10'],\n",
       " [15282705, 425540, 13592463, 1264702, '2021-05-11'],\n",
       " [15359397, 428034, 13622419, 1308944, '2021-05-12'],\n",
       " [15433989, 430417, 13662690, 1340882, '2021-05-13'],\n",
       " [15519525, 432628, 13703280, 1383617, '2021-05-14'],\n",
       " [15586534, 434715, 13710822, 1440997, '2021-05-15'],\n",
       " [15627243, 435751, 13764520, 1426972, '2021-05-16'],\n",
       " [15657391, 436537, 13856731, 1364123, '2021-05-17'],\n",
       " [15732836, 439050, 13957814, 1335972, '2021-05-18'],\n",
       " [15812055, 441691, 14043766, 1326598, '2021-05-19'],\n",
       " [15894094, 444094, 14080089, 1369911, '2021-05-20'],\n",
       " [15970949, 446309, 14103800, 1420840, '2021-05-21'],\n",
       " [16047439, 448208, 14132443, 1466788, '2021-05-22'],\n",
       " [16083258, 449068, 14132443, 1501747, '2021-05-23'],\n",
       " [16120756, 449858, 14190644, 1480254, '2021-05-24'],\n",
       " [16194209, 452031, 14231991, 1510187, '2021-05-25'],\n",
       " [16274695, 454429, 14272174, 1548092, '2021-05-26'],\n",
       " [16342162, 456674, 14455810, 1429678, '2021-05-27'],\n",
       " [16391930, 459045, 14492701, 1440184, '2021-05-28'],\n",
       " [16471600, 461057, 14496224, 1514319, '2021-05-29'],\n",
       " [16515120, 461931, 14540507, 1512682, '2021-05-30'],\n",
       " [16545554, 462791, 14586009, 1496754, '2021-05-31'],\n",
       " [16624480, 465199, 14694950, 1464331, '2021-06-01'],\n",
       " [16720081, 467706, 14763694, 1488681, '2021-06-02'],\n",
       " [16803472, 469388, 14763694, 1570390, '2021-06-03'],\n",
       " [16841408, 470842, 14868994, 1501572, '2021-06-04'],\n",
       " [16907425, 472531, 14944069, 1490825, '2021-06-05'],\n",
       " [16947062, 473404, 15000718, 1472940, '2021-06-06'],\n",
       " [16984218, 474414, 15019797, 1490007, '2021-06-07'],\n",
       " [17037129, 476792, 15055747, 1504590, '2021-06-08'],\n",
       " [17122877, 479515, 15154101, 1489261, '2021-06-09'],\n",
       " [17210969, 482019, 15211176, 1517774, '2021-06-10'],\n",
       " [17296118, 484235, 15260459, 1551424, '2021-06-11'],\n",
       " [17374818, 486272, 15271120, 1617426, '2021-06-12'],\n",
       " [17412766, 487401, 15400169, 1525196, '2021-06-13'],\n",
       " [17452612, 488228, 15421397, 1542987, '2021-06-14'],\n",
       " [17533221, 490696, 15519955, 1522570, '2021-06-15'],\n",
       " [17628588, 493693, 15569556, 1565339, '2021-06-16'],\n",
       " [17702630, 496004, 15660614, 1546012, '2021-06-17'],\n",
       " [17801462, 498499, 15687189, 1615774, '2021-06-18'],\n",
       " [17883750, 500800, 15745463, 1637487, '2021-06-19'],\n",
       " [17927928, 501825, 15745463, 1680640, '2021-06-20'],\n",
       " [17966831, 502586, 15819764, 1644481, '2021-06-21'],\n",
       " [18054653, 504717, 15862096, 1687840, '2021-06-22'],\n",
       " [18169881, 507109, 16008271, 1654501, '2021-06-23'],\n",
       " [18243483, 509141, 16038230, 1696112, '2021-06-24'],\n",
       " [18322760, 511142, 16097711, 1713907, '2021-06-25'],\n",
       " [18386894, 512735, 16146608, 1727551, '2021-06-26'],\n",
       " [18420598, 513474, 16160826, 1746298, '2021-06-27'],\n",
       " [18448402, 514092, 16240380, 1693930, '2021-06-28'],\n",
       " [18513305, 515985, 16277785, 1719535, '2021-06-29'],\n",
       " [18557141, 518066, 16299258, 1739817, '2021-06-30'],\n",
       " [18622304, 520095, 16477253, 1624956, '2021-07-01'],\n",
       " [18687469, 521952, 16509821, 1655696, '2021-07-02'],\n",
       " [18742025, 523587, 16524100, 1694338, '2021-07-03'],\n",
       " [18769808, 524417, 16582483, 1662908, '2021-07-04'],\n",
       " [18792511, 525112, 16675561, 1591838, '2021-07-05'],\n",
       " [18855015, 526892, 16740136, 1587987, '2021-07-06'],\n",
       " [18909037, 528540, 16763522, 1616975, '2021-07-07']]"
      ]
     },
     "execution_count": 21,
     "metadata": {},
     "output_type": "execute_result"
    }
   ],
   "source": [
    "final_data"
   ]
  },
  {
   "cell_type": "code",
   "execution_count": 22,
   "id": "6d652352",
   "metadata": {
    "ExecuteTime": {
     "end_time": "2021-07-08T17:33:54.421230Z",
     "start_time": "2021-07-08T17:33:54.403211Z"
    }
   },
   "outputs": [],
   "source": [
    "import datetime as dt"
   ]
  },
  {
   "cell_type": "code",
   "execution_count": 23,
   "id": "31c8f9c6",
   "metadata": {
    "ExecuteTime": {
     "end_time": "2021-07-08T17:33:55.087425Z",
     "start_time": "2021-07-08T17:33:55.067426Z"
    }
   },
   "outputs": [
    {
     "name": "stdout",
     "output_type": "stream",
     "text": [
      "12:06:21.000007 Hora:minuto:segundo:microsegundo\n",
      "======================================== =========================================\n",
      "2020-04-25 Ano-mês-dia\n",
      "======================================== =========================================\n",
      "2020-04-25 12:06:21.000007 Ano-mês-dia Hora:minuto:segundo:microsegundo\n"
     ]
    }
   ],
   "source": [
    "print(dt.time(12, 6, 21, 7), 'Hora:minuto:segundo:microsegundo') # Hora:minuto:segundo:microsegundo\n",
    "print(format(' ', '=^82'))\n",
    "print(dt.date(2020, 4, 25), 'Ano-mês-dia') \n",
    "print(format(' ', '=^82'))\n",
    "print(dt.datetime(2020, 4, 25, 12, 6, 21, 7), 'Ano-mês-dia Hora:minuto:segundo:microsegundo')"
   ]
  },
  {
   "cell_type": "code",
   "execution_count": 24,
   "id": "471e03ae",
   "metadata": {
    "ExecuteTime": {
     "end_time": "2021-07-08T17:33:57.232211Z",
     "start_time": "2021-07-08T17:33:57.219213Z"
    }
   },
   "outputs": [
    {
     "name": "stdout",
     "output_type": "stream",
     "text": [
      "7 days, 0:00:00\n",
      "7\n",
      "0\n",
      "0\n"
     ]
    }
   ],
   "source": [
    "natal = dt.date(2020, 12 ,25)\n",
    "reveillon = dt.date(2021, 1, 1)\n",
    "\n",
    "print(reveillon - natal)\n",
    "print((reveillon - natal).days)\n",
    "print((reveillon - natal).seconds)\n",
    "print((reveillon - natal).microseconds)"
   ]
  },
  {
   "cell_type": "code",
   "execution_count": 25,
   "id": "132bd0b5",
   "metadata": {
    "ExecuteTime": {
     "end_time": "2021-07-08T17:33:59.477045Z",
     "start_time": "2021-07-08T17:33:59.459050Z"
    }
   },
   "outputs": [],
   "source": [
    "import csv\n",
    "\n",
    "with open('dados/processados/python_basics/brasil-covid.csv', 'w') as file:\n",
    "    writer = csv.writer(file)\n",
    "    writer.writerows(final_data)"
   ]
  },
  {
   "cell_type": "code",
   "execution_count": 26,
   "id": "329634df",
   "metadata": {
    "ExecuteTime": {
     "end_time": "2021-07-08T17:34:14.585243Z",
     "start_time": "2021-07-08T17:34:14.553226Z"
    }
   },
   "outputs": [],
   "source": [
    "for i in range(1, len(final_data)):\n",
    "    final_data[i][DATA] = dt.datetime.strptime(final_data[i][DATA], '%Y-%m-%d')"
   ]
  },
  {
   "cell_type": "code",
   "execution_count": 27,
   "id": "081e03e9",
   "metadata": {
    "ExecuteTime": {
     "end_time": "2021-07-08T17:34:16.096007Z",
     "start_time": "2021-07-08T17:34:15.996004Z"
    }
   },
   "outputs": [
    {
     "data": {
      "text/plain": [
       "[['confirmados', 'obitos', 'recuperados', 'ativos', 'data'],\n",
       " [1, 0, 0, 1, datetime.datetime(2020, 2, 26, 0, 0)],\n",
       " [1, 0, 0, 1, datetime.datetime(2020, 2, 27, 0, 0)],\n",
       " [1, 0, 0, 1, datetime.datetime(2020, 2, 28, 0, 0)],\n",
       " [2, 0, 0, 2, datetime.datetime(2020, 2, 29, 0, 0)],\n",
       " [2, 0, 0, 2, datetime.datetime(2020, 3, 1, 0, 0)],\n",
       " [2, 0, 0, 2, datetime.datetime(2020, 3, 2, 0, 0)],\n",
       " [2, 0, 0, 2, datetime.datetime(2020, 3, 3, 0, 0)],\n",
       " [4, 0, 0, 4, datetime.datetime(2020, 3, 4, 0, 0)],\n",
       " [4, 0, 0, 4, datetime.datetime(2020, 3, 5, 0, 0)],\n",
       " [13, 0, 0, 13, datetime.datetime(2020, 3, 6, 0, 0)],\n",
       " [13, 0, 0, 13, datetime.datetime(2020, 3, 7, 0, 0)],\n",
       " [20, 0, 0, 20, datetime.datetime(2020, 3, 8, 0, 0)],\n",
       " [25, 0, 0, 25, datetime.datetime(2020, 3, 9, 0, 0)],\n",
       " [31, 0, 0, 31, datetime.datetime(2020, 3, 10, 0, 0)],\n",
       " [38, 0, 0, 38, datetime.datetime(2020, 3, 11, 0, 0)],\n",
       " [52, 0, 0, 52, datetime.datetime(2020, 3, 12, 0, 0)],\n",
       " [151, 0, 0, 151, datetime.datetime(2020, 3, 13, 0, 0)],\n",
       " [151, 0, 0, 151, datetime.datetime(2020, 3, 14, 0, 0)],\n",
       " [162, 0, 0, 162, datetime.datetime(2020, 3, 15, 0, 0)],\n",
       " [200, 0, 1, 199, datetime.datetime(2020, 3, 16, 0, 0)],\n",
       " [321, 1, 2, 318, datetime.datetime(2020, 3, 17, 0, 0)],\n",
       " [372, 3, 2, 367, datetime.datetime(2020, 3, 18, 0, 0)],\n",
       " [621, 6, 2, 613, datetime.datetime(2020, 3, 19, 0, 0)],\n",
       " [793, 11, 2, 780, datetime.datetime(2020, 3, 20, 0, 0)],\n",
       " [1021, 15, 2, 1004, datetime.datetime(2020, 3, 21, 0, 0)],\n",
       " [1546, 25, 2, 1519, datetime.datetime(2020, 3, 22, 0, 0)],\n",
       " [1924, 34, 2, 1888, datetime.datetime(2020, 3, 23, 0, 0)],\n",
       " [2247, 46, 2, 2199, datetime.datetime(2020, 3, 24, 0, 0)],\n",
       " [2554, 59, 2, 2493, datetime.datetime(2020, 3, 25, 0, 0)],\n",
       " [2985, 77, 6, 2902, datetime.datetime(2020, 3, 26, 0, 0)],\n",
       " [3417, 92, 6, 3319, datetime.datetime(2020, 3, 27, 0, 0)],\n",
       " [3904, 111, 6, 3787, datetime.datetime(2020, 3, 28, 0, 0)],\n",
       " [4256, 136, 6, 4114, datetime.datetime(2020, 3, 29, 0, 0)],\n",
       " [4579, 159, 120, 4300, datetime.datetime(2020, 3, 30, 0, 0)],\n",
       " [5717, 201, 127, 5389, datetime.datetime(2020, 3, 31, 0, 0)],\n",
       " [6836, 240, 127, 6469, datetime.datetime(2020, 4, 1, 0, 0)],\n",
       " [8044, 324, 127, 7593, datetime.datetime(2020, 4, 2, 0, 0)],\n",
       " [9056, 359, 127, 8570, datetime.datetime(2020, 4, 3, 0, 0)],\n",
       " [10360, 445, 127, 9788, datetime.datetime(2020, 4, 4, 0, 0)],\n",
       " [11130, 486, 127, 10517, datetime.datetime(2020, 4, 5, 0, 0)],\n",
       " [12161, 564, 127, 11470, datetime.datetime(2020, 4, 6, 0, 0)],\n",
       " [14034, 686, 127, 13221, datetime.datetime(2020, 4, 7, 0, 0)],\n",
       " [16170, 819, 127, 15224, datetime.datetime(2020, 4, 8, 0, 0)],\n",
       " [18092, 950, 173, 16969, datetime.datetime(2020, 4, 9, 0, 0)],\n",
       " [19638, 1057, 173, 18408, datetime.datetime(2020, 4, 10, 0, 0)],\n",
       " [20727, 1124, 173, 19430, datetime.datetime(2020, 4, 11, 0, 0)],\n",
       " [22192, 1223, 173, 20796, datetime.datetime(2020, 4, 12, 0, 0)],\n",
       " [23430, 1328, 173, 21929, datetime.datetime(2020, 4, 13, 0, 0)],\n",
       " [25262, 1532, 3046, 20684, datetime.datetime(2020, 4, 14, 0, 0)],\n",
       " [28320, 1736, 14026, 12558, datetime.datetime(2020, 4, 15, 0, 0)],\n",
       " [30425, 1924, 14026, 14475, datetime.datetime(2020, 4, 16, 0, 0)],\n",
       " [33682, 2141, 14026, 17515, datetime.datetime(2020, 4, 17, 0, 0)],\n",
       " [36658, 2354, 14026, 20278, datetime.datetime(2020, 4, 18, 0, 0)],\n",
       " [38654, 2462, 22130, 14062, datetime.datetime(2020, 4, 19, 0, 0)],\n",
       " [40743, 2587, 22130, 16026, datetime.datetime(2020, 4, 20, 0, 0)],\n",
       " [43079, 2741, 22991, 17347, datetime.datetime(2020, 4, 21, 0, 0)],\n",
       " [45757, 2906, 25318, 17533, datetime.datetime(2020, 4, 22, 0, 0)],\n",
       " [50036, 3331, 26573, 20132, datetime.datetime(2020, 4, 23, 0, 0)],\n",
       " [54043, 3704, 27655, 22684, datetime.datetime(2020, 4, 24, 0, 0)],\n",
       " [59324, 4057, 29160, 26107, datetime.datetime(2020, 4, 25, 0, 0)],\n",
       " [63100, 4286, 30152, 28662, datetime.datetime(2020, 4, 26, 0, 0)],\n",
       " [67446, 4603, 31142, 31701, datetime.datetime(2020, 4, 27, 0, 0)],\n",
       " [73235, 5083, 32544, 35608, datetime.datetime(2020, 4, 28, 0, 0)],\n",
       " [79685, 5513, 34132, 40040, datetime.datetime(2020, 4, 29, 0, 0)],\n",
       " [87187, 6006, 35935, 45246, datetime.datetime(2020, 4, 30, 0, 0)],\n",
       " [92202, 6412, 38039, 47751, datetime.datetime(2020, 5, 1, 0, 0)],\n",
       " [97100, 6761, 40937, 49402, datetime.datetime(2020, 5, 2, 0, 0)],\n",
       " [101826, 7051, 42991, 51784, datetime.datetime(2020, 5, 3, 0, 0)],\n",
       " [108620, 7367, 45815, 55438, datetime.datetime(2020, 5, 4, 0, 0)],\n",
       " [115455, 7938, 48221, 59296, datetime.datetime(2020, 5, 5, 0, 0)],\n",
       " [126611, 8588, 51370, 66653, datetime.datetime(2020, 5, 6, 0, 0)],\n",
       " [135773, 9190, 55350, 71233, datetime.datetime(2020, 5, 7, 0, 0)],\n",
       " [146894, 10017, 59297, 77580, datetime.datetime(2020, 5, 8, 0, 0)],\n",
       " [156061, 10656, 61685, 83720, datetime.datetime(2020, 5, 9, 0, 0)],\n",
       " [162699, 11123, 64957, 86619, datetime.datetime(2020, 5, 10, 0, 0)],\n",
       " [169594, 11653, 67384, 90557, datetime.datetime(2020, 5, 11, 0, 0)],\n",
       " [178214, 12461, 72597, 93156, datetime.datetime(2020, 5, 12, 0, 0)],\n",
       " [190137, 13240, 78424, 98473, datetime.datetime(2020, 5, 13, 0, 0)],\n",
       " [203165, 13999, 79479, 109687, datetime.datetime(2020, 5, 14, 0, 0)],\n",
       " [220291, 14962, 84970, 120359, datetime.datetime(2020, 5, 15, 0, 0)],\n",
       " [233511, 15662, 89672, 128177, datetime.datetime(2020, 5, 16, 0, 0)],\n",
       " [241080, 16118, 94122, 130840, datetime.datetime(2020, 5, 17, 0, 0)],\n",
       " [255368, 16853, 100459, 138056, datetime.datetime(2020, 5, 18, 0, 0)],\n",
       " [271885, 17983, 106794, 147108, datetime.datetime(2020, 5, 19, 0, 0)],\n",
       " [291579, 18859, 116683, 156037, datetime.datetime(2020, 5, 20, 0, 0)],\n",
       " [310087, 20047, 125960, 164080, datetime.datetime(2020, 5, 21, 0, 0)],\n",
       " [330890, 21048, 135430, 174412, datetime.datetime(2020, 5, 22, 0, 0)],\n",
       " [347398, 22013, 142587, 182798, datetime.datetime(2020, 5, 23, 0, 0)],\n",
       " [363211, 22666, 149911, 190634, datetime.datetime(2020, 5, 24, 0, 0)],\n",
       " [374898, 23473, 153833, 197592, datetime.datetime(2020, 5, 25, 0, 0)],\n",
       " [391222, 24512, 158593, 208117, datetime.datetime(2020, 5, 26, 0, 0)],\n",
       " [411821, 25598, 166647, 219576, datetime.datetime(2020, 5, 27, 0, 0)],\n",
       " [438238, 26754, 177604, 233880, datetime.datetime(2020, 5, 28, 0, 0)],\n",
       " [465166, 27878, 189476, 247812, datetime.datetime(2020, 5, 29, 0, 0)],\n",
       " [498440, 28834, 200892, 268714, datetime.datetime(2020, 5, 30, 0, 0)],\n",
       " [514849, 29314, 206555, 278980, datetime.datetime(2020, 5, 31, 0, 0)],\n",
       " [526447, 29937, 211080, 285430, datetime.datetime(2020, 6, 1, 0, 0)],\n",
       " [555383, 31199, 223638, 300546, datetime.datetime(2020, 6, 2, 0, 0)],\n",
       " [584016, 32548, 238617, 312851, datetime.datetime(2020, 6, 3, 0, 0)],\n",
       " [614941, 34021, 254963, 325957, datetime.datetime(2020, 6, 4, 0, 0)],\n",
       " [645771, 35026, 266940, 343805, datetime.datetime(2020, 6, 5, 0, 0)],\n",
       " [672846, 35930, 277149, 359767, datetime.datetime(2020, 6, 6, 0, 0)],\n",
       " [691758, 36455, 283952, 371351, datetime.datetime(2020, 6, 7, 0, 0)],\n",
       " [707412, 37134, 378257, 292021, datetime.datetime(2020, 6, 8, 0, 0)],\n",
       " [739503, 38406, 396737, 304360, datetime.datetime(2020, 6, 9, 0, 0)],\n",
       " [772416, 39680, 413916, 318820, datetime.datetime(2020, 6, 10, 0, 0)],\n",
       " [802828, 40919, 429965, 331944, datetime.datetime(2020, 6, 11, 0, 0)],\n",
       " [828810, 41828, 445123, 341859, datetime.datetime(2020, 6, 12, 0, 0)],\n",
       " [850514, 42720, 459436, 348358, datetime.datetime(2020, 6, 13, 0, 0)],\n",
       " [867624, 43332, 469141, 355151, datetime.datetime(2020, 6, 14, 0, 0)],\n",
       " [888271, 43959, 477709, 366603, datetime.datetime(2020, 6, 15, 0, 0)],\n",
       " [923189, 45241, 490005, 387943, datetime.datetime(2020, 6, 16, 0, 0)],\n",
       " [955377, 46510, 521046, 387821, datetime.datetime(2020, 6, 17, 0, 0)],\n",
       " [978142, 47748, 534580, 395814, datetime.datetime(2020, 6, 18, 0, 0)],\n",
       " [1032913, 48954, 551631, 432328, datetime.datetime(2020, 6, 19, 0, 0)],\n",
       " [1067579, 49976, 576779, 440824, datetime.datetime(2020, 6, 20, 0, 0)],\n",
       " [1083341, 50591, 588118, 444632, datetime.datetime(2020, 6, 21, 0, 0)],\n",
       " [1106470, 51271, 601736, 453463, datetime.datetime(2020, 6, 22, 0, 0)],\n",
       " [1145906, 52645, 627963, 465298, datetime.datetime(2020, 6, 23, 0, 0)],\n",
       " [1188631, 53830, 660469, 474332, datetime.datetime(2020, 6, 24, 0, 0)],\n",
       " [1228114, 54971, 679524, 493619, datetime.datetime(2020, 6, 25, 0, 0)],\n",
       " [1274974, 55961, 702399, 516614, datetime.datetime(2020, 6, 26, 0, 0)],\n",
       " [1313667, 57070, 727715, 528882, datetime.datetime(2020, 6, 27, 0, 0)],\n",
       " [1344143, 57622, 746018, 540503, datetime.datetime(2020, 6, 28, 0, 0)],\n",
       " [1368195, 58314, 757811, 552070, datetime.datetime(2020, 6, 29, 0, 0)],\n",
       " [1402041, 59594, 788318, 554129, datetime.datetime(2020, 6, 30, 0, 0)],\n",
       " [1448753, 60632, 817642, 570479, datetime.datetime(2020, 7, 1, 0, 0)],\n",
       " [1496858, 61884, 957692, 477282, datetime.datetime(2020, 7, 2, 0, 0)],\n",
       " [1539081, 63174, 984615, 491292, datetime.datetime(2020, 7, 3, 0, 0)],\n",
       " [1577004, 64265, 990731, 522008, datetime.datetime(2020, 7, 4, 0, 0)],\n",
       " [1603055, 64867, 1029045, 509143, datetime.datetime(2020, 7, 5, 0, 0)],\n",
       " [1623284, 65487, 1062542, 495255, datetime.datetime(2020, 7, 6, 0, 0)],\n",
       " [1668589, 66741, 1107012, 494836, datetime.datetime(2020, 7, 7, 0, 0)],\n",
       " [1713160, 67964, 1139844, 505352, datetime.datetime(2020, 7, 8, 0, 0)],\n",
       " [1755779, 69184, 1171447, 515148, datetime.datetime(2020, 7, 9, 0, 0)],\n",
       " [1800827, 70398, 1217361, 513068, datetime.datetime(2020, 7, 10, 0, 0)],\n",
       " [1839850, 71469, 1244088, 524293, datetime.datetime(2020, 7, 11, 0, 0)],\n",
       " [1864681, 72100, 1264843, 527738, datetime.datetime(2020, 7, 12, 0, 0)],\n",
       " [1884967, 72833, 1291251, 520883, datetime.datetime(2020, 7, 13, 0, 0)],\n",
       " [1926824, 74133, 1323425, 529266, datetime.datetime(2020, 7, 14, 0, 0)],\n",
       " [1966748, 75366, 1350098, 541284, datetime.datetime(2020, 7, 15, 0, 0)],\n",
       " [2012151, 76688, 1397531, 537932, datetime.datetime(2020, 7, 16, 0, 0)],\n",
       " [2046328, 77851, 1428520, 539957, datetime.datetime(2020, 7, 17, 0, 0)],\n",
       " [2074860, 78772, 1447408, 548680, datetime.datetime(2020, 7, 18, 0, 0)],\n",
       " [2098389, 79488, 1459072, 559829, datetime.datetime(2020, 7, 19, 0, 0)],\n",
       " [2118646, 80120, 1514300, 524226, datetime.datetime(2020, 7, 20, 0, 0)],\n",
       " [2159654, 81487, 1555339, 522828, datetime.datetime(2020, 7, 21, 0, 0)],\n",
       " [2227514, 82771, 1591975, 552768, datetime.datetime(2020, 7, 22, 0, 0)],\n",
       " [2287475, 84082, 1620313, 583080, datetime.datetime(2020, 7, 23, 0, 0)],\n",
       " [2343366, 85238, 1693214, 564914, datetime.datetime(2020, 7, 24, 0, 0)],\n",
       " [2394513, 86449, 1785359, 522705, datetime.datetime(2020, 7, 25, 0, 0)],\n",
       " [2419091, 87004, 1812913, 519174, datetime.datetime(2020, 7, 26, 0, 0)],\n",
       " [2442375, 87618, 1846641, 508116, datetime.datetime(2020, 7, 27, 0, 0)],\n",
       " [2483191, 88539, 1868749, 525903, datetime.datetime(2020, 7, 28, 0, 0)],\n",
       " [2552265, 90134, 1922802, 539329, datetime.datetime(2020, 7, 29, 0, 0)],\n",
       " [2610102, 91263, 1956807, 562032, datetime.datetime(2020, 7, 30, 0, 0)],\n",
       " [2662485, 92475, 2008854, 561156, datetime.datetime(2020, 7, 31, 0, 0)],\n",
       " [2707877, 93563, 2037982, 576332, datetime.datetime(2020, 8, 1, 0, 0)],\n",
       " [2733677, 94104, 2062876, 576697, datetime.datetime(2020, 8, 2, 0, 0)],\n",
       " [2750318, 94665, 2098976, 556677, datetime.datetime(2020, 8, 3, 0, 0)],\n",
       " [2801921, 95819, 2157484, 548618, datetime.datetime(2020, 8, 4, 0, 0)],\n",
       " [2859073, 97256, 2190361, 571456, datetime.datetime(2020, 8, 5, 0, 0)],\n",
       " [2912212, 98493, 2230542, 583177, datetime.datetime(2020, 8, 6, 0, 0)],\n",
       " [2962442, 99572, 2272299, 590571, datetime.datetime(2020, 8, 7, 0, 0)],\n",
       " [3012412, 100477, 2321537, 590398, datetime.datetime(2020, 8, 8, 0, 0)],\n",
       " [3035422, 101049, 2356983, 577390, datetime.datetime(2020, 8, 9, 0, 0)],\n",
       " [3057470, 101752, 2390830, 564888, datetime.datetime(2020, 8, 10, 0, 0)],\n",
       " [3109630, 103026, 2449338, 557266, datetime.datetime(2020, 8, 11, 0, 0)],\n",
       " [3164785, 104201, 2506228, 554356, datetime.datetime(2020, 8, 12, 0, 0)],\n",
       " [3224876, 105463, 2521100, 598313, datetime.datetime(2020, 8, 13, 0, 0)],\n",
       " [3275520, 106523, 2616981, 552016, datetime.datetime(2020, 8, 14, 0, 0)],\n",
       " [3317096, 107232, 2622878, 586986, datetime.datetime(2020, 8, 15, 0, 0)],\n",
       " [3340197, 107852, 2655017, 577328, datetime.datetime(2020, 8, 16, 0, 0)],\n",
       " [3359570, 108536, 2699080, 551954, datetime.datetime(2020, 8, 17, 0, 0)],\n",
       " [3407354, 109888, 2751246, 546220, datetime.datetime(2020, 8, 18, 0, 0)],\n",
       " [3456652, 111100, 2801931, 543621, datetime.datetime(2020, 8, 19, 0, 0)],\n",
       " [3501975, 112304, 2844318, 545353, datetime.datetime(2020, 8, 20, 0, 0)],\n",
       " [3532330, 113358, 2855558, 563414, datetime.datetime(2020, 8, 21, 0, 0)],\n",
       " [3582362, 114250, 2913966, 554146, datetime.datetime(2020, 8, 22, 0, 0)],\n",
       " [3605783, 114744, 2947784, 543255, datetime.datetime(2020, 8, 23, 0, 0)],\n",
       " [3622861, 115309, 2976256, 531296, datetime.datetime(2020, 8, 24, 0, 0)],\n",
       " [3669995, 116580, 3032551, 520864, datetime.datetime(2020, 8, 25, 0, 0)],\n",
       " [3717156, 117665, 3082447, 517044, datetime.datetime(2020, 8, 26, 0, 0)],\n",
       " [3761391, 118649, 3122846, 519896, datetime.datetime(2020, 8, 27, 0, 0)],\n",
       " [3804803, 119504, 3158783, 526516, datetime.datetime(2020, 8, 28, 0, 0)],\n",
       " [3846153, 120262, 3202185, 523706, datetime.datetime(2020, 8, 29, 0, 0)],\n",
       " [3862311, 120828, 3237615, 503868, datetime.datetime(2020, 8, 30, 0, 0)],\n",
       " [3908272, 121381, 3268591, 518300, datetime.datetime(2020, 8, 31, 0, 0)],\n",
       " [3950931, 122596, 3345240, 483095, datetime.datetime(2020, 9, 1, 0, 0)],\n",
       " [3997865, 123780, 3387309, 486776, datetime.datetime(2020, 9, 2, 0, 0)],\n",
       " [4041638, 124614, 3429435, 487589, datetime.datetime(2020, 9, 3, 0, 0)],\n",
       " [4091801, 125502, 3464278, 502021, datetime.datetime(2020, 9, 4, 0, 0)],\n",
       " [4123000, 126203, 3498999, 497798, datetime.datetime(2020, 9, 5, 0, 0)],\n",
       " [4137521, 126650, 3522155, 488716, datetime.datetime(2020, 9, 6, 0, 0)],\n",
       " [4147794, 126960, 3549201, 471633, datetime.datetime(2020, 9, 7, 0, 0)],\n",
       " [4162073, 127464, 3572421, 462188, datetime.datetime(2020, 9, 8, 0, 0)],\n",
       " [4197889, 128539, 3611632, 457718, datetime.datetime(2020, 9, 9, 0, 0)],\n",
       " [4238446, 129522, 3657701, 451223, datetime.datetime(2020, 9, 10, 0, 0)],\n",
       " [4282164, 130396, 3695158, 456610, datetime.datetime(2020, 9, 11, 0, 0)],\n",
       " [4315687, 131210, 3723206, 461271, datetime.datetime(2020, 9, 12, 0, 0)],\n",
       " [4330455, 131625, 3723206, 475624, datetime.datetime(2020, 9, 13, 0, 0)],\n",
       " [4345610, 132006, 3770138, 443466, datetime.datetime(2020, 9, 14, 0, 0)],\n",
       " [4382263, 133119, 3811505, 437639, datetime.datetime(2020, 9, 15, 0, 0)],\n",
       " [4419083, 134106, 3845464, 439513, datetime.datetime(2020, 9, 16, 0, 0)],\n",
       " [4455386, 134935, 3873934, 446517, datetime.datetime(2020, 9, 17, 0, 0)],\n",
       " [4495183, 135793, 3897539, 461851, datetime.datetime(2020, 9, 18, 0, 0)],\n",
       " [4528240, 136532, 3936893, 454815, datetime.datetime(2020, 9, 19, 0, 0)],\n",
       " [4544629, 136895, 3963446, 444288, datetime.datetime(2020, 9, 20, 0, 0)],\n",
       " [4558040, 137272, 3993432, 427336, datetime.datetime(2020, 9, 21, 0, 0)],\n",
       " [4591364, 138105, 4016831, 436428, datetime.datetime(2020, 9, 22, 0, 0)],\n",
       " [4591364, 138105, 4046827, 406432, datetime.datetime(2020, 9, 23, 0, 0)],\n",
       " [4657702, 139808, 4102954, 414940, datetime.datetime(2020, 9, 24, 0, 0)],\n",
       " [4689613, 140537, 4128490, 420586, datetime.datetime(2020, 9, 25, 0, 0)],\n",
       " [4717991, 141406, 4153307, 423278, datetime.datetime(2020, 9, 26, 0, 0)],\n",
       " [4732309, 141741, 4172711, 417857, datetime.datetime(2020, 9, 27, 0, 0)],\n",
       " [4745464, 142058, 4197372, 406034, datetime.datetime(2020, 9, 28, 0, 0)],\n",
       " [4777522, 142921, 4237152, 397449, datetime.datetime(2020, 9, 29, 0, 0)],\n",
       " [4810935, 143952, 4274774, 392209, datetime.datetime(2020, 9, 30, 0, 0)],\n",
       " [4847092, 144680, 4299659, 402753, datetime.datetime(2020, 10, 1, 0, 0)],\n",
       " [4847092, 144680, 4299659, 402753, datetime.datetime(2020, 10, 2, 0, 0)],\n",
       " [4906833, 145987, 4361108, 399738, datetime.datetime(2020, 10, 3, 0, 0)],\n",
       " [4915289, 146352, 4375354, 393583, datetime.datetime(2020, 10, 4, 0, 0)],\n",
       " [4927235, 146675, 4397882, 382678, datetime.datetime(2020, 10, 5, 0, 0)],\n",
       " [4969141, 147494, 4430340, 391307, datetime.datetime(2020, 10, 6, 0, 0)],\n",
       " [5000694, 148228, 4457172, 395294, datetime.datetime(2020, 10, 7, 0, 0)],\n",
       " [5028444, 148957, 4488092, 391395, datetime.datetime(2020, 10, 8, 0, 0)],\n",
       " [5055888, 149639, 4502854, 403395, datetime.datetime(2020, 10, 9, 0, 0)],\n",
       " [5082637, 150198, 4502854, 429585, datetime.datetime(2020, 10, 10, 0, 0)],\n",
       " [5094979, 150488, 4526393, 418098, datetime.datetime(2020, 10, 11, 0, 0)],\n",
       " [5103408, 150689, 4526393, 426326, datetime.datetime(2020, 10, 12, 0, 0)],\n",
       " [5113628, 150998, 4526393, 436237, datetime.datetime(2020, 10, 13, 0, 0)],\n",
       " [5140863, 151747, 4526393, 462723, datetime.datetime(2020, 10, 14, 0, 0)],\n",
       " [5169386, 152460, 4526393, 490533, datetime.datetime(2020, 10, 15, 0, 0)],\n",
       " [5200300, 153214, 4526393, 520693, datetime.datetime(2020, 10, 16, 0, 0)],\n",
       " [5224362, 153675, 4526393, 544294, datetime.datetime(2020, 10, 17, 0, 0)],\n",
       " [5224362, 153675, 4526393, 544294, datetime.datetime(2020, 10, 18, 0, 0)],\n",
       " [5250727, 154176, 4526393, 570158, datetime.datetime(2020, 10, 19, 0, 0)],\n",
       " [5273954, 154837, 4526393, 592724, datetime.datetime(2020, 10, 20, 0, 0)],\n",
       " [5298772, 155403, 4526393, 616976, datetime.datetime(2020, 10, 21, 0, 0)],\n",
       " [5323630, 155900, 4526393, 641337, datetime.datetime(2020, 10, 22, 0, 0)],\n",
       " [5353656, 156471, 4526393, 670792, datetime.datetime(2020, 10, 23, 0, 0)],\n",
       " [5380635, 156903, 4526393, 697339, datetime.datetime(2020, 10, 24, 0, 0)],\n",
       " [5394128, 157134, 4526393, 710601, datetime.datetime(2020, 10, 25, 0, 0)],\n",
       " [5409854, 157397, 4526393, 726064, datetime.datetime(2020, 10, 26, 0, 0)],\n",
       " [5439641, 157946, 4914733, 366962, datetime.datetime(2020, 10, 27, 0, 0)],\n",
       " [5468270, 158456, 4947777, 362037, datetime.datetime(2020, 10, 28, 0, 0)],\n",
       " [5494376, 158969, 4962574, 372833, datetime.datetime(2020, 10, 29, 0, 0)],\n",
       " [5516658, 159477, 4987435, 369746, datetime.datetime(2020, 10, 30, 0, 0)],\n",
       " [5535605, 159884, 5005161, 370560, datetime.datetime(2020, 10, 31, 0, 0)],\n",
       " [5545705, 160074, 5022338, 363293, datetime.datetime(2020, 11, 1, 0, 0)],\n",
       " [5554206, 160253, 5039438, 354515, datetime.datetime(2020, 11, 2, 0, 0)],\n",
       " [5566049, 160496, 5060697, 344856, datetime.datetime(2020, 11, 3, 0, 0)],\n",
       " [5590025, 161106, 5078162, 350757, datetime.datetime(2020, 11, 4, 0, 0)],\n",
       " [5590025, 161106, 5078162, 350757, datetime.datetime(2020, 11, 5, 0, 0)],\n",
       " [5631181, 162015, 5118156, 351010, datetime.datetime(2020, 11, 6, 0, 0)],\n",
       " [5653561, 162269, 5138641, 352651, datetime.datetime(2020, 11, 7, 0, 0)],\n",
       " [5664115, 162397, 5147172, 354546, datetime.datetime(2020, 11, 8, 0, 0)],\n",
       " [5675032, 162628, 5163226, 349178, datetime.datetime(2020, 11, 9, 0, 0)],\n",
       " [5699005, 162802, 5183970, 352233, datetime.datetime(2020, 11, 10, 0, 0)],\n",
       " [5747660, 163368, 5222937, 361355, datetime.datetime(2020, 11, 11, 0, 0)],\n",
       " [5781582, 164281, 5254457, 362844, datetime.datetime(2020, 11, 12, 0, 0)],\n",
       " [5810652, 164737, 5274812, 371103, datetime.datetime(2020, 11, 13, 0, 0)],\n",
       " [5848959, 165658, 5279452, 403849, datetime.datetime(2020, 11, 14, 0, 0)],\n",
       " [5863093, 165798, 5279452, 417843, datetime.datetime(2020, 11, 15, 0, 0)],\n",
       " [5876464, 166014, 5335498, 374952, datetime.datetime(2020, 11, 16, 0, 0)],\n",
       " [5911758, 166699, 5358299, 386760, datetime.datetime(2020, 11, 17, 0, 0)],\n",
       " [5945849, 167455, 5383385, 395009, datetime.datetime(2020, 11, 18, 0, 0)],\n",
       " [5981767, 168061, 5406066, 407640, datetime.datetime(2020, 11, 19, 0, 0)],\n",
       " [6020164, 168613, 5430896, 420655, datetime.datetime(2020, 11, 20, 0, 0)],\n",
       " [6052786, 168989, 5437189, 446608, datetime.datetime(2020, 11, 21, 0, 0)],\n",
       " [6071401, 169183, 5457973, 444245, datetime.datetime(2020, 11, 22, 0, 0)],\n",
       " [6087608, 169485, 5481184, 436939, datetime.datetime(2020, 11, 23, 0, 0)],\n",
       " [6118708, 170115, 5509645, 438948, datetime.datetime(2020, 11, 24, 0, 0)],\n",
       " [6166606, 170769, 5534010, 461827, datetime.datetime(2020, 11, 25, 0, 0)],\n",
       " [6204220, 171460, 5556887, 475873, datetime.datetime(2020, 11, 26, 0, 0)],\n",
       " [6238350, 171974, 5581436, 484940, datetime.datetime(2020, 11, 27, 0, 0)],\n",
       " [6290272, 172561, 5581436, 536275, datetime.datetime(2020, 11, 28, 0, 0)],\n",
       " [6314740, 172833, 5581436, 560471, datetime.datetime(2020, 11, 29, 0, 0)],\n",
       " [6335878, 173120, 5597802, 564956, datetime.datetime(2020, 11, 30, 0, 0)],\n",
       " [6386787, 173817, 5712305, 500665, datetime.datetime(2020, 12, 1, 0, 0)],\n",
       " [6436650, 174515, 5759294, 502841, datetime.datetime(2020, 12, 2, 0, 0)],\n",
       " [6487084, 175270, 5792539, 519275, datetime.datetime(2020, 12, 3, 0, 0)],\n",
       " [6533968, 175964, 5825745, 532259, datetime.datetime(2020, 12, 4, 0, 0)],\n",
       " [6577177, 176628, 5864838, 535711, datetime.datetime(2020, 12, 5, 0, 0)],\n",
       " [6603540, 176941, 5866657, 559942, datetime.datetime(2020, 12, 6, 0, 0)],\n",
       " [6623911, 177317, 5897526, 549068, datetime.datetime(2020, 12, 7, 0, 0)],\n",
       " [6674999, 178159, 5965492, 531348, datetime.datetime(2020, 12, 8, 0, 0)],\n",
       " [6728452, 178995, 5966118, 583339, datetime.datetime(2020, 12, 9, 0, 0)],\n",
       " [6781799, 179765, 6043219, 558815, datetime.datetime(2020, 12, 10, 0, 0)],\n",
       " [6836227, 180437, 6078287, 577503, datetime.datetime(2020, 12, 11, 0, 0)],\n",
       " [6880127, 181123, 6078287, 620717, datetime.datetime(2020, 12, 12, 0, 0)],\n",
       " [6901952, 181402, 6138349, 582201, datetime.datetime(2020, 12, 13, 0, 0)],\n",
       " [6927145, 181835, 6158049, 587261, datetime.datetime(2020, 12, 14, 0, 0)],\n",
       " [6970034, 182799, 6206483, 580752, datetime.datetime(2020, 12, 15, 0, 0)],\n",
       " [7040608, 183735, 6239192, 617681, datetime.datetime(2020, 12, 16, 0, 0)],\n",
       " [7110434, 184827, 6301547, 624060, datetime.datetime(2020, 12, 17, 0, 0)],\n",
       " [7162978, 185650, 6322955, 654373, datetime.datetime(2020, 12, 18, 0, 0)],\n",
       " [7213155, 186356, 6388938, 637861, datetime.datetime(2020, 12, 19, 0, 0)],\n",
       " [7238600, 186764, 6408517, 643319, datetime.datetime(2020, 12, 20, 0, 0)],\n",
       " [7263619, 187291, 6469310, 607018, datetime.datetime(2020, 12, 21, 0, 0)],\n",
       " [7318821, 188259, 6501341, 629221, datetime.datetime(2020, 12, 22, 0, 0)],\n",
       " [7365517, 189220, 6512717, 663580, datetime.datetime(2020, 12, 23, 0, 0)],\n",
       " [7423945, 189982, 6512717, 721246, datetime.datetime(2020, 12, 24, 0, 0)],\n",
       " [7448560, 190488, 6512717, 745355, datetime.datetime(2020, 12, 25, 0, 0)],\n",
       " [7465806, 190795, 6654189, 620822, datetime.datetime(2020, 12, 26, 0, 0)],\n",
       " [7484285, 191139, 6677235, 615911, datetime.datetime(2020, 12, 27, 0, 0)],\n",
       " [7504833, 191570, 6712757, 600506, datetime.datetime(2020, 12, 28, 0, 0)],\n",
       " [7563551, 192681, 6754111, 616759, datetime.datetime(2020, 12, 29, 0, 0)],\n",
       " [7619200, 193875, 6814092, 611233, datetime.datetime(2020, 12, 30, 0, 0)],\n",
       " [7675973, 194949, 6848844, 632180, datetime.datetime(2020, 12, 31, 0, 0)],\n",
       " [7700578, 195411, 6855372, 649795, datetime.datetime(2021, 1, 1, 0, 0)],\n",
       " [7716405, 195725, 6893256, 627424, datetime.datetime(2021, 1, 2, 0, 0)],\n",
       " [7733746, 196018, 6904172, 633556, datetime.datetime(2021, 1, 3, 0, 0)],\n",
       " [7753752, 196561, 6950045, 607146, datetime.datetime(2021, 1, 4, 0, 0)],\n",
       " [7810400, 197732, 6994845, 617823, datetime.datetime(2021, 1, 5, 0, 0)],\n",
       " [7873830, 198974, 7033286, 641570, datetime.datetime(2021, 1, 6, 0, 0)],\n",
       " [7961673, 200498, 7081521, 679654, datetime.datetime(2021, 1, 7, 0, 0)],\n",
       " [8013708, 201460, 7136817, 675431, datetime.datetime(2021, 1, 8, 0, 0)],\n",
       " [8075998, 202631, 7205410, 667957, datetime.datetime(2021, 1, 9, 0, 0)],\n",
       " [8105790, 203100, 7231336, 671354, datetime.datetime(2021, 1, 10, 0, 0)],\n",
       " [8131612, 203580, 7273237, 654795, datetime.datetime(2021, 1, 11, 0, 0)],\n",
       " [8195637, 204690, 7284945, 706002, datetime.datetime(2021, 1, 12, 0, 0)],\n",
       " [8256536, 205964, 7347080, 703492, datetime.datetime(2021, 1, 13, 0, 0)],\n",
       " [8324294, 207095, 7394739, 722460, datetime.datetime(2021, 1, 14, 0, 0)],\n",
       " [8393492, 208246, 7438075, 747171, datetime.datetime(2021, 1, 15, 0, 0)],\n",
       " [8455059, 209296, 7485823, 759940, datetime.datetime(2021, 1, 16, 0, 0)],\n",
       " [8488099, 209847, 7509009, 769243, datetime.datetime(2021, 1, 17, 0, 0)],\n",
       " [8511770, 210299, 7560460, 741011, datetime.datetime(2021, 1, 18, 0, 0)],\n",
       " [8573864, 211491, 7618080, 744293, datetime.datetime(2021, 1, 19, 0, 0)],\n",
       " [8638249, 212831, 7618080, 807338, datetime.datetime(2021, 1, 20, 0, 0)],\n",
       " [8697368, 214147, 7673092, 810129, datetime.datetime(2021, 1, 21, 0, 0)],\n",
       " [8753920, 215243, 7746910, 791767, datetime.datetime(2021, 1, 22, 0, 0)],\n",
       " [8816254, 216445, 7775928, 823881, datetime.datetime(2021, 1, 23, 0, 0)],\n",
       " [8844577, 217037, 7821376, 806164, datetime.datetime(2021, 1, 24, 0, 0)],\n",
       " [8871393, 217664, 7864969, 788760, datetime.datetime(2021, 1, 25, 0, 0)],\n",
       " [8933356, 218878, 7896290, 818188, datetime.datetime(2021, 1, 26, 0, 0)],\n",
       " [8996876, 220161, 7964176, 812539, datetime.datetime(2021, 1, 27, 0, 0)],\n",
       " [9058687, 221547, 7979513, 857627, datetime.datetime(2021, 1, 28, 0, 0)],\n",
       " [9118513, 222666, 8066603, 829244, datetime.datetime(2021, 1, 29, 0, 0)],\n",
       " [9176975, 223945, 8148671, 804359, datetime.datetime(2021, 1, 30, 0, 0)],\n",
       " [9204731, 224504, 8176373, 803854, datetime.datetime(2021, 1, 31, 0, 0)],\n",
       " [9229322, 225099, 8202354, 801869, datetime.datetime(2021, 2, 1, 0, 0)],\n",
       " [9283418, 226309, 8258074, 799035, datetime.datetime(2021, 2, 2, 0, 0)],\n",
       " [9339420, 227563, 8311881, 799976, datetime.datetime(2021, 2, 3, 0, 0)],\n",
       " [9396293, 228795, 8366197, 801301, datetime.datetime(2021, 2, 4, 0, 0)],\n",
       " [9447165, 230034, 8396148, 820983, datetime.datetime(2021, 2, 5, 0, 0)],\n",
       " [9447165, 230034, 8428992, 788139, datetime.datetime(2021, 2, 6, 0, 0)],\n",
       " [9524640, 231534, 8467982, 825124, datetime.datetime(2021, 2, 7, 0, 0)],\n",
       " [9524640, 231534, 8478818, 814288, datetime.datetime(2021, 2, 8, 0, 0)],\n",
       " [9599565, 233520, 8577207, 788838, datetime.datetime(2021, 2, 9, 0, 0)],\n",
       " [9659167, 234850, 8616282, 808035, datetime.datetime(2021, 2, 10, 0, 0)],\n",
       " [9713909, 236201, 8637050, 840658, datetime.datetime(2021, 2, 11, 0, 0)],\n",
       " [9765455, 237489, 8691664, 836302, datetime.datetime(2021, 2, 12, 0, 0)],\n",
       " [9809754, 238532, 8740445, 830777, datetime.datetime(2021, 2, 13, 0, 0)],\n",
       " [9834513, 239245, 8765048, 830220, datetime.datetime(2021, 2, 14, 0, 0)],\n",
       " [9866710, 239773, 8821887, 805050, datetime.datetime(2021, 2, 15, 0, 0)],\n",
       " [9921981, 240940, 8847264, 833777, datetime.datetime(2021, 2, 16, 0, 0)],\n",
       " [9978747, 242090, 8933402, 803255, datetime.datetime(2021, 2, 17, 0, 0)],\n",
       " [10030626, 243457, 8960755, 826414, datetime.datetime(2021, 2, 18, 0, 0)],\n",
       " [10084208, 244737, 8988618, 850853, datetime.datetime(2021, 2, 19, 0, 0)],\n",
       " [10139148, 245977, 9070505, 822666, datetime.datetime(2021, 2, 20, 0, 0)],\n",
       " [10168174, 246504, 9095692, 825978, datetime.datetime(2021, 2, 21, 0, 0)],\n",
       " [10195160, 247143, 9108205, 839812, datetime.datetime(2021, 2, 22, 0, 0)],\n",
       " [10257875, 248529, 9189903, 819443, datetime.datetime(2021, 2, 23, 0, 0)],\n",
       " [10324463, 249957, 9214337, 860169, datetime.datetime(2021, 2, 24, 0, 0)],\n",
       " [10390461, 251498, 9264696, 874267, datetime.datetime(2021, 2, 25, 0, 0)],\n",
       " [10455630, 252835, 9309568, 893227, datetime.datetime(2021, 2, 26, 0, 0)],\n",
       " [10517232, 254221, 9371448, 891563, datetime.datetime(2021, 2, 27, 0, 0)],\n",
       " [10551259, 254942, 9382316, 914001, datetime.datetime(2021, 2, 28, 0, 0)],\n",
       " [10587001, 255720, 9437611, 893670, datetime.datetime(2021, 3, 1, 0, 0)],\n",
       " [10646926, 257361, 9506251, 883314, datetime.datetime(2021, 3, 2, 0, 0)],\n",
       " [10718630, 259271, 9548315, 911044, datetime.datetime(2021, 3, 3, 0, 0)],\n",
       " [10793732, 260970, 9605870, 926892, datetime.datetime(2021, 3, 4, 0, 0)],\n",
       " [10869227, 262770, 9647550, 958907, datetime.datetime(2021, 3, 5, 0, 0)],\n",
       " [10938836, 264325, 9686024, 988487, datetime.datetime(2021, 3, 6, 0, 0)],\n",
       " [11019344, 265411, 9739464, 10753933, datetime.datetime(2021, 3, 7, 0, 0)],\n",
       " [11051665, 266398, 9826292, 958975, datetime.datetime(2021, 3, 8, 0, 0)],\n",
       " [11122429, 268370, 9878566, 975493, datetime.datetime(2021, 3, 9, 0, 0)],\n",
       " [11202305, 270656, 9921994, 1009655, datetime.datetime(2021, 3, 10, 0, 0)],\n",
       " [11277717, 272889, 9983656, 1021172, datetime.datetime(2021, 3, 11, 0, 0)],\n",
       " [11363380, 275105, 10041024, 1047251, datetime.datetime(2021, 3, 12, 0, 0)],\n",
       " [11439558, 277102, 10084820, 1077636, datetime.datetime(2021, 3, 13, 0, 0)],\n",
       " [11483370, 278229, 10113487, 1091654, datetime.datetime(2021, 3, 14, 0, 0)],\n",
       " [11519609, 279286, 10195598, 1044725, datetime.datetime(2021, 3, 15, 0, 0)],\n",
       " [11603535, 282127, 10261154, 1060254, datetime.datetime(2021, 3, 16, 0, 0)],\n",
       " [11693838, 284775, 10326375, 1082688, datetime.datetime(2021, 3, 17, 0, 0)],\n",
       " [11780820, 287499, 10383496, 1109825, datetime.datetime(2021, 3, 18, 0, 0)],\n",
       " [11871390, 290314, 10435864, 1145212, datetime.datetime(2021, 3, 19, 0, 0)],\n",
       " [11950459, 292752, 10476123, 1181584, datetime.datetime(2021, 3, 20, 0, 0)],\n",
       " [11998233, 294042, 10509457, 1194734, datetime.datetime(2021, 3, 21, 0, 0)],\n",
       " [12047526, 295425, 10611595, 1140506, datetime.datetime(2021, 3, 22, 0, 0)],\n",
       " [12130019, 298676, 10665161, 1166182, datetime.datetime(2021, 3, 23, 0, 0)],\n",
       " [12220011, 300685, 10750131, 1169195, datetime.datetime(2021, 3, 24, 0, 0)],\n",
       " [12320169, 303462, 10808499, 1208208, datetime.datetime(2021, 3, 25, 0, 0)],\n",
       " [12404414, 307112, 10886792, 1210510, datetime.datetime(2021, 3, 26, 0, 0)],\n",
       " [12490362, 310550, 10948382, 1231430, datetime.datetime(2021, 3, 27, 0, 0)],\n",
       " [12534688, 312206, 11004281, 1218201, datetime.datetime(2021, 3, 28, 0, 0)],\n",
       " [12573615, 313866, 11022192, 1237557, datetime.datetime(2021, 3, 29, 0, 0)],\n",
       " [12658109, 317646, 11085369, 1255094, datetime.datetime(2021, 3, 30, 0, 0)],\n",
       " [12748747, 321515, 11181371, 1245861, datetime.datetime(2021, 3, 31, 0, 0)],\n",
       " [12839844, 325284, 11240213, 1274347, datetime.datetime(2021, 4, 1, 0, 0)],\n",
       " [12910082, 328206, 11277632, 1304244, datetime.datetime(2021, 4, 2, 0, 0)],\n",
       " [12953597, 330193, 11327510, 1295894, datetime.datetime(2021, 4, 3, 0, 0)],\n",
       " [12984956, 331433, 11343607, 1309916, datetime.datetime(2021, 4, 4, 0, 0)],\n",
       " [13013601, 332752, 11405558, 1275291, datetime.datetime(2021, 4, 5, 0, 0)],\n",
       " [13100580, 336947, 11459548, 1304085, datetime.datetime(2021, 4, 6, 0, 0)],\n",
       " [13193205, 340776, 11592159, 1260270, datetime.datetime(2021, 4, 7, 0, 0)],\n",
       " [13279857, 345025, 11668734, 1266098, datetime.datetime(2021, 4, 8, 0, 0)],\n",
       " [13373174, 348718, 11722181, 1302275, datetime.datetime(2021, 4, 9, 0, 0)],\n",
       " [13445006, 351334, 11739649, 1354023, datetime.datetime(2021, 4, 10, 0, 0)],\n",
       " [13482023, 353137, 11878958, 1249928, datetime.datetime(2021, 4, 11, 0, 0)],\n",
       " [13517808, 354617, 11892229, 1270962, datetime.datetime(2021, 4, 12, 0, 0)],\n",
       " [13599994, 358425, 11975121, 1266448, datetime.datetime(2021, 4, 13, 0, 0)],\n",
       " [13673507, 361884, 12033880, 1277743, datetime.datetime(2021, 4, 14, 0, 0)],\n",
       " [13746681, 365444, 12084851, 1296386, datetime.datetime(2021, 4, 15, 0, 0)],\n",
       " [13832455, 368749, 12163831, 1299875, datetime.datetime(2021, 4, 16, 0, 0)],\n",
       " [13900091, 371678, 12212890, 1315523, datetime.datetime(2021, 4, 17, 0, 0)],\n",
       " [13943071, 373335, 12303538, 1266198, datetime.datetime(2021, 4, 18, 0, 0)],\n",
       " [13973695, 374682, 12346828, 1252185, datetime.datetime(2021, 4, 19, 0, 0)],\n",
       " [14043076, 378003, 12425791, 1239282, datetime.datetime(2021, 4, 20, 0, 0)],\n",
       " [14122795, 381475, 12436210, 1305110, datetime.datetime(2021, 4, 21, 0, 0)],\n",
       " [14167973, 383502, 12530970, 1253501, datetime.datetime(2021, 4, 22, 0, 0)],\n",
       " [14237078, 386416, 12586272, 1264390, datetime.datetime(2021, 4, 23, 0, 0)],\n",
       " [14308215, 389492, 12606011, 1312712, datetime.datetime(2021, 4, 24, 0, 0)],\n",
       " [14340787, 390797, 12614559, 1335431, datetime.datetime(2021, 4, 25, 0, 0)],\n",
       " [14369423, 391936, 12707500, 1269987, datetime.datetime(2021, 4, 26, 0, 0)],\n",
       " [14441563, 395022, 12815119, 1231422, datetime.datetime(2021, 4, 27, 0, 0)],\n",
       " [14521289, 398185, 12849663, 1273441, datetime.datetime(2021, 4, 28, 0, 0)],\n",
       " [14590678, 401186, 12942081, 1247411, datetime.datetime(2021, 4, 29, 0, 0)],\n",
       " [14659011, 403781, 12991951, 1263279, datetime.datetime(2021, 4, 30, 0, 0)],\n",
       " [14725975, 406437, 13023892, 1295646, datetime.datetime(2021, 5, 1, 0, 0)],\n",
       " [14754910, 407639, 13083550, 1263721, datetime.datetime(2021, 5, 2, 0, 0)],\n",
       " [14779529, 408622, 13135143, 1235764, datetime.datetime(2021, 5, 3, 0, 0)],\n",
       " [14856888, 411588, 13170561, 1274739, datetime.datetime(2021, 5, 4, 0, 0)],\n",
       " [14930183, 414399, 13254660, 1261124, datetime.datetime(2021, 5, 5, 0, 0)],\n",
       " [15003563, 416949, 13285589, 1301025, datetime.datetime(2021, 5, 6, 0, 0)],\n",
       " [15082449, 419114, 13400075, 1263260, datetime.datetime(2021, 5, 7, 0, 0)],\n",
       " [15145879, 421316, 13422047, 1302516, datetime.datetime(2021, 5, 8, 0, 0)],\n",
       " [15184790, 422340, 13457400, 1305050, datetime.datetime(2021, 5, 9, 0, 0)],\n",
       " [15209990, 423229, 13481062, 1305699, datetime.datetime(2021, 5, 10, 0, 0)],\n",
       " [15282705, 425540, 13592463, 1264702, datetime.datetime(2021, 5, 11, 0, 0)],\n",
       " [15359397, 428034, 13622419, 1308944, datetime.datetime(2021, 5, 12, 0, 0)],\n",
       " [15433989, 430417, 13662690, 1340882, datetime.datetime(2021, 5, 13, 0, 0)],\n",
       " [15519525, 432628, 13703280, 1383617, datetime.datetime(2021, 5, 14, 0, 0)],\n",
       " [15586534, 434715, 13710822, 1440997, datetime.datetime(2021, 5, 15, 0, 0)],\n",
       " [15627243, 435751, 13764520, 1426972, datetime.datetime(2021, 5, 16, 0, 0)],\n",
       " [15657391, 436537, 13856731, 1364123, datetime.datetime(2021, 5, 17, 0, 0)],\n",
       " [15732836, 439050, 13957814, 1335972, datetime.datetime(2021, 5, 18, 0, 0)],\n",
       " [15812055, 441691, 14043766, 1326598, datetime.datetime(2021, 5, 19, 0, 0)],\n",
       " [15894094, 444094, 14080089, 1369911, datetime.datetime(2021, 5, 20, 0, 0)],\n",
       " [15970949, 446309, 14103800, 1420840, datetime.datetime(2021, 5, 21, 0, 0)],\n",
       " [16047439, 448208, 14132443, 1466788, datetime.datetime(2021, 5, 22, 0, 0)],\n",
       " [16083258, 449068, 14132443, 1501747, datetime.datetime(2021, 5, 23, 0, 0)],\n",
       " [16120756, 449858, 14190644, 1480254, datetime.datetime(2021, 5, 24, 0, 0)],\n",
       " [16194209, 452031, 14231991, 1510187, datetime.datetime(2021, 5, 25, 0, 0)],\n",
       " [16274695, 454429, 14272174, 1548092, datetime.datetime(2021, 5, 26, 0, 0)],\n",
       " [16342162, 456674, 14455810, 1429678, datetime.datetime(2021, 5, 27, 0, 0)],\n",
       " [16391930, 459045, 14492701, 1440184, datetime.datetime(2021, 5, 28, 0, 0)],\n",
       " [16471600, 461057, 14496224, 1514319, datetime.datetime(2021, 5, 29, 0, 0)],\n",
       " [16515120, 461931, 14540507, 1512682, datetime.datetime(2021, 5, 30, 0, 0)],\n",
       " [16545554, 462791, 14586009, 1496754, datetime.datetime(2021, 5, 31, 0, 0)],\n",
       " [16624480, 465199, 14694950, 1464331, datetime.datetime(2021, 6, 1, 0, 0)],\n",
       " [16720081, 467706, 14763694, 1488681, datetime.datetime(2021, 6, 2, 0, 0)],\n",
       " [16803472, 469388, 14763694, 1570390, datetime.datetime(2021, 6, 3, 0, 0)],\n",
       " [16841408, 470842, 14868994, 1501572, datetime.datetime(2021, 6, 4, 0, 0)],\n",
       " [16907425, 472531, 14944069, 1490825, datetime.datetime(2021, 6, 5, 0, 0)],\n",
       " [16947062, 473404, 15000718, 1472940, datetime.datetime(2021, 6, 6, 0, 0)],\n",
       " [16984218, 474414, 15019797, 1490007, datetime.datetime(2021, 6, 7, 0, 0)],\n",
       " [17037129, 476792, 15055747, 1504590, datetime.datetime(2021, 6, 8, 0, 0)],\n",
       " [17122877, 479515, 15154101, 1489261, datetime.datetime(2021, 6, 9, 0, 0)],\n",
       " [17210969, 482019, 15211176, 1517774, datetime.datetime(2021, 6, 10, 0, 0)],\n",
       " [17296118, 484235, 15260459, 1551424, datetime.datetime(2021, 6, 11, 0, 0)],\n",
       " [17374818, 486272, 15271120, 1617426, datetime.datetime(2021, 6, 12, 0, 0)],\n",
       " [17412766, 487401, 15400169, 1525196, datetime.datetime(2021, 6, 13, 0, 0)],\n",
       " [17452612, 488228, 15421397, 1542987, datetime.datetime(2021, 6, 14, 0, 0)],\n",
       " [17533221, 490696, 15519955, 1522570, datetime.datetime(2021, 6, 15, 0, 0)],\n",
       " [17628588, 493693, 15569556, 1565339, datetime.datetime(2021, 6, 16, 0, 0)],\n",
       " [17702630, 496004, 15660614, 1546012, datetime.datetime(2021, 6, 17, 0, 0)],\n",
       " [17801462, 498499, 15687189, 1615774, datetime.datetime(2021, 6, 18, 0, 0)],\n",
       " [17883750, 500800, 15745463, 1637487, datetime.datetime(2021, 6, 19, 0, 0)],\n",
       " [17927928, 501825, 15745463, 1680640, datetime.datetime(2021, 6, 20, 0, 0)],\n",
       " [17966831, 502586, 15819764, 1644481, datetime.datetime(2021, 6, 21, 0, 0)],\n",
       " [18054653, 504717, 15862096, 1687840, datetime.datetime(2021, 6, 22, 0, 0)],\n",
       " [18169881, 507109, 16008271, 1654501, datetime.datetime(2021, 6, 23, 0, 0)],\n",
       " [18243483, 509141, 16038230, 1696112, datetime.datetime(2021, 6, 24, 0, 0)],\n",
       " [18322760, 511142, 16097711, 1713907, datetime.datetime(2021, 6, 25, 0, 0)],\n",
       " [18386894, 512735, 16146608, 1727551, datetime.datetime(2021, 6, 26, 0, 0)],\n",
       " [18420598, 513474, 16160826, 1746298, datetime.datetime(2021, 6, 27, 0, 0)],\n",
       " [18448402, 514092, 16240380, 1693930, datetime.datetime(2021, 6, 28, 0, 0)],\n",
       " [18513305, 515985, 16277785, 1719535, datetime.datetime(2021, 6, 29, 0, 0)],\n",
       " [18557141, 518066, 16299258, 1739817, datetime.datetime(2021, 6, 30, 0, 0)],\n",
       " [18622304, 520095, 16477253, 1624956, datetime.datetime(2021, 7, 1, 0, 0)],\n",
       " [18687469, 521952, 16509821, 1655696, datetime.datetime(2021, 7, 2, 0, 0)],\n",
       " [18742025, 523587, 16524100, 1694338, datetime.datetime(2021, 7, 3, 0, 0)],\n",
       " [18769808, 524417, 16582483, 1662908, datetime.datetime(2021, 7, 4, 0, 0)],\n",
       " [18792511, 525112, 16675561, 1591838, datetime.datetime(2021, 7, 5, 0, 0)],\n",
       " [18855015, 526892, 16740136, 1587987, datetime.datetime(2021, 7, 6, 0, 0)],\n",
       " [18909037, 528540, 16763522, 1616975, datetime.datetime(2021, 7, 7, 0, 0)]]"
      ]
     },
     "execution_count": 27,
     "metadata": {},
     "output_type": "execute_result"
    }
   ],
   "source": [
    "final_data"
   ]
  },
  {
   "cell_type": "markdown",
   "id": "5259783b",
   "metadata": {},
   "source": [
    "## Aula 05 - Projeto | Parte 2\n",
    "\n",
    "- Vizualizações usando a API: https://quickchart.io/documentation/"
   ]
  },
  {
   "cell_type": "code",
   "execution_count": 29,
   "id": "012848b4",
   "metadata": {
    "ExecuteTime": {
     "end_time": "2021-07-08T17:34:37.659930Z",
     "start_time": "2021-07-08T17:34:37.644933Z"
    }
   },
   "outputs": [],
   "source": [
    "def get_datasets(y, labels):\n",
    "    if type(y[0]) == list:\n",
    "        datasets = []\n",
    "        for i in range(len(y)):\n",
    "            datasets.append({\n",
    "                'label': labels[i],\n",
    "                'data': y[i]\n",
    "            })\n",
    "        return datasets\n",
    "    else:\n",
    "        return [\n",
    "            {\n",
    "                'label': labels[0],\n",
    "                'data': y\n",
    "            }\n",
    "        ]"
   ]
  },
  {
   "cell_type": "code",
   "execution_count": 30,
   "id": "32ae60b7",
   "metadata": {
    "ExecuteTime": {
     "end_time": "2021-07-08T17:34:38.666255Z",
     "start_time": "2021-07-08T17:34:38.656257Z"
    }
   },
   "outputs": [],
   "source": [
    "def set_title(title=''):\n",
    "    if title != '':\n",
    "        display = 'true'\n",
    "    else:\n",
    "        display = 'false'\n",
    "    return {\n",
    "        'title': title,\n",
    "        'display': display\n",
    "    }"
   ]
  },
  {
   "cell_type": "code",
   "execution_count": 31,
   "id": "4c73e7a7",
   "metadata": {
    "ExecuteTime": {
     "end_time": "2021-07-08T17:34:39.544366Z",
     "start_time": "2021-07-08T17:34:39.538368Z"
    }
   },
   "outputs": [],
   "source": [
    "def create_chart(x, y, labels, kind='bar', title=''):\n",
    "    \n",
    "    datasets = get_datasets(y, labels)\n",
    "    options = set_title(title)\n",
    "    \n",
    "    chart = {\n",
    "        'type': kind,\n",
    "        'data': {\n",
    "            'labels': x,\n",
    "            'datasets': datasets\n",
    "        },\n",
    "        'options': options\n",
    "    }\n",
    "    return chart"
   ]
  },
  {
   "cell_type": "code",
   "execution_count": 32,
   "id": "ee497bd0",
   "metadata": {
    "ExecuteTime": {
     "end_time": "2021-07-08T17:34:40.355041Z",
     "start_time": "2021-07-08T17:34:40.338040Z"
    }
   },
   "outputs": [],
   "source": [
    "def get_api_chart(chart):\n",
    "    url_base = 'https://quickchart.io/chart'\n",
    "    resp = r.get(f'{url_base}?c={str(chart)}')\n",
    "    return resp.content"
   ]
  },
  {
   "cell_type": "code",
   "execution_count": 33,
   "id": "8b2f5c18",
   "metadata": {
    "ExecuteTime": {
     "end_time": "2021-07-08T17:34:41.274069Z",
     "start_time": "2021-07-08T17:34:41.266075Z"
    }
   },
   "outputs": [],
   "source": [
    "def save_image(path, content):\n",
    "    with open(path, 'wb') as image: # 'b' é para escrever em formato binario\n",
    "        image.write(content)"
   ]
  },
  {
   "cell_type": "code",
   "execution_count": 34,
   "id": "bd6a5505",
   "metadata": {
    "ExecuteTime": {
     "end_time": "2021-07-08T17:34:42.519238Z",
     "start_time": "2021-07-08T17:34:42.516238Z"
    }
   },
   "outputs": [],
   "source": [
    "from PIL import Image\n",
    "from IPython.display import display"
   ]
  },
  {
   "cell_type": "code",
   "execution_count": 35,
   "id": "2d0a21dd",
   "metadata": {
    "ExecuteTime": {
     "end_time": "2021-07-08T17:34:43.330262Z",
     "start_time": "2021-07-08T17:34:43.315239Z"
    }
   },
   "outputs": [],
   "source": [
    "def display_image(path):\n",
    "    img_pil = Image.open(path)\n",
    "    display(img_pil)        "
   ]
  },
  {
   "cell_type": "code",
   "execution_count": 38,
   "id": "43c72085",
   "metadata": {
    "ExecuteTime": {
     "end_time": "2021-07-08T17:38:40.366376Z",
     "start_time": "2021-07-08T17:38:39.578456Z"
    }
   },
   "outputs": [
    {
     "data": {
      "image/png": "[encoded data removed]",
      "text/plain": [
       "<PIL.PngImagePlugin.PngImageFile image mode=RGBA size=1000x600 at 0x26E10624850>"
      ]
     },
     "metadata": {},
     "output_type": "display_data"
    }
   ],
   "source": [
    "# plotando as informações de casos confirmados e recuperados desde o início a cada 10 dias\n",
    "y_data_1 = []\n",
    "for obs in final_data[1::10]: # a cada 10 dias\n",
    "    y_data_1.append(obs[CONFIRMADOS])\n",
    "    \n",
    "y_data_2 = []\n",
    "for obs in final_data[1::10]:\n",
    "    y_data_2.append(obs[RECUPERADOS])\n",
    "    \n",
    "labels = ['Confirmados', 'Recuperados']\n",
    "x = []\n",
    "for obs in final_data[1::10]:\n",
    "    x.append(obs[DATA].strftime('%d/%m/%Y'))\n",
    "    \n",
    "chart = create_chart(x, [y_data_1, y_data_2], labels, title='Gráfico - Confirmados vs Recuperados')\n",
    "chart_content = get_api_chart(chart)\n",
    "save_image('dados/processados/python_basics/meu-primeiro-grafico.png', chart_content)\n",
    "display_image('dados/processados/python_basics/meu-primeiro-grafico.png')"
   ]
  },
  {
   "cell_type": "markdown",
   "id": "29f6c887",
   "metadata": {},
   "source": [
    "---"
   ]
  },
  {
   "cell_type": "markdown",
   "id": "5900a1c0",
   "metadata": {},
   "source": [
    "#### Gerando QR CODE"
   ]
  },
  {
   "cell_type": "code",
   "execution_count": 39,
   "id": "0648f3ab",
   "metadata": {
    "ExecuteTime": {
     "end_time": "2021-07-08T17:41:07.491359Z",
     "start_time": "2021-07-08T17:41:07.483366Z"
    }
   },
   "outputs": [],
   "source": [
    "from urllib.parse import quote"
   ]
  },
  {
   "cell_type": "code",
   "execution_count": 40,
   "id": "b4012766",
   "metadata": {
    "ExecuteTime": {
     "end_time": "2021-07-08T17:42:36.119345Z",
     "start_time": "2021-07-08T17:42:36.100321Z"
    }
   },
   "outputs": [],
   "source": [
    "def get_api_qrcode(link):\n",
    "    text = quote(link) # parsing do link para url\n",
    "    url_base = 'https://quickchart.io/qr'\n",
    "    resp = r.get(f'{url_base}?text={text}')\n",
    "    return resp.content"
   ]
  },
  {
   "cell_type": "code",
   "execution_count": 41,
   "id": "a3b4776d",
   "metadata": {
    "ExecuteTime": {
     "end_time": "2021-07-08T17:44:39.644787Z",
     "start_time": "2021-07-08T17:44:38.496001Z"
    }
   },
   "outputs": [
    {
     "data": {
      "image/png": "[encoded data removed]",
      "text/plain": [
       "<PIL.PngImagePlugin.PngImageFile image mode=RGBA size=660x660 at 0x26E10590B80>"
      ]
     },
     "metadata": {},
     "output_type": "display_data"
    }
   ],
   "source": [
    "url_base = 'https://quickchart.io/chart'\n",
    "link = f'{url_base}?c={str(chart)}'\n",
    "save_image('dados/processados/python_basics/qr-code.png',get_api_qrcode(link))\n",
    "display_image('dados/processados/python_basics/qr-code.png')"
   ]
  }
 ],
 "metadata": {
  "kernelspec": {
   "display_name": "Python [conda env:santander]",
   "language": "python",
   "name": "conda-env-santander-py"
  },
  "language_info": {
   "codemirror_mode": {
    "name": "ipython",
    "version": 3
   },
   "file_extension": ".py",
   "mimetype": "text/x-python",
   "name": "python",
   "nbconvert_exporter": "python",
   "pygments_lexer": "ipython3",
   "version": "3.9.5"
  },
  "toc": {
   "base_numbering": 1,
   "nav_menu": {},
   "number_sections": true,
   "sideBar": true,
   "skip_h1_title": false,
   "title_cell": "Table of Contents",
   "title_sidebar": "Python Basics",
   "toc_cell": false,
   "toc_position": {},
   "toc_section_display": true,
   "toc_window_display": true
  }
 },
 "nbformat": 4,
 "nbformat_minor": 5
}
