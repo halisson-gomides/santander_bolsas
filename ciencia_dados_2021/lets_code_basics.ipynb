{
 "cells": [
  {
   "cell_type": "markdown",
   "id": "5fb90f1c",
   "metadata": {},
   "source": [
    "# Basics"
   ]
  },
  {
   "cell_type": "markdown",
   "id": "fa8a863f",
   "metadata": {},
   "source": [
    "## Aula 07 - Estruturas de Repetição - While"
   ]
  },
  {
   "cell_type": "code",
   "execution_count": 1,
   "id": "78d482e0",
   "metadata": {
    "ExecuteTime": {
     "end_time": "2021-07-03T14:45:56.102561Z",
     "start_time": "2021-07-03T14:45:56.067800Z"
    }
   },
   "outputs": [
    {
     "name": "stdout",
     "output_type": "stream",
     "text": [
      "1 item limpo\n",
      "2 itens limpos\n",
      "3 itens limpos\n",
      "4 itens limpos\n",
      "5 itens limpos\n",
      "6 itens limpos\n",
      "7 itens limpos\n",
      "8 itens limpos\n",
      "9 itens limpos\n",
      "10 itens limpos\n",
      "Fim da repetição do bloco while\n"
     ]
    }
   ],
   "source": [
    "contador = 0\n",
    "\n",
    "while contador < 10:\n",
    "    contador = contador + 1\n",
    "    if contador == 1:\n",
    "        print(contador, 'item limpo')\n",
    "    else:\n",
    "        print(contador, 'itens limpos')\n",
    "        \n",
    "print('Fim da repetição do bloco while')"
   ]
  },
  {
   "cell_type": "code",
   "execution_count": 2,
   "id": "c09ea550",
   "metadata": {
    "ExecuteTime": {
     "end_time": "2021-07-03T14:47:33.589352Z",
     "start_time": "2021-07-03T14:47:33.580353Z"
    }
   },
   "outputs": [
    {
     "name": "stdout",
     "output_type": "stream",
     "text": [
      "1 item limpo\n",
      "2 itens limmpos\n",
      "3 itens limmpos\n",
      "4 itens limmpos\n",
      "5 itens limmpos\n",
      "6 itens limmpos\n",
      "7 itens limmpos\n",
      "8 itens limmpos\n",
      "9 itens limmpos\n",
      "10 itens limmpos\n",
      "Fim da repetição do bloco while\n"
     ]
    }
   ],
   "source": [
    "contador = 0\n",
    "\n",
    "while True:\n",
    "    if contador < 10:\n",
    "        contador = contador + 1\n",
    "        if contador == 1:\n",
    "            print(contador, 'item limpo')\n",
    "        else:\n",
    "            print(contador, 'itens limmpos')\n",
    "    else:\n",
    "        break\n",
    "print('Fim da repetição do bloco while')"
   ]
  },
  {
   "cell_type": "code",
   "execution_count": 3,
   "id": "2be76365",
   "metadata": {
    "ExecuteTime": {
     "end_time": "2021-07-03T14:50:11.242558Z",
     "start_time": "2021-07-03T14:49:58.844004Z"
    }
   },
   "outputs": [
    {
     "name": "stdout",
     "output_type": "stream",
     "text": [
      "Digite a sua senha: lescode\n",
      "Senha inválida. Tente novamente: academy\n",
      "Senha inválida. Tente novamente: LetsCode\n",
      "Acesso permitido\n"
     ]
    }
   ],
   "source": [
    "texto = input('Digite a sua senha: ')\n",
    "\n",
    "while texto != 'LetsCode':\n",
    "    texto = input('Senha inválida. Tente novamente: ')\n",
    "    \n",
    "print('Acesso permitido')"
   ]
  },
  {
   "cell_type": "code",
   "execution_count": 4,
   "id": "fc1cc87e",
   "metadata": {
    "ExecuteTime": {
     "end_time": "2021-07-03T14:51:05.339229Z",
     "start_time": "2021-07-03T14:51:05.318233Z"
    }
   },
   "outputs": [
    {
     "name": "stdout",
     "output_type": "stream",
     "text": [
      "2 itens limpos\n",
      "3 itens limpos\n",
      "4 itens limpos\n",
      "5 itens limpos\n",
      "6 itens limpos\n",
      "7 itens limpos\n",
      "8 itens limpos\n",
      "9 itens limpos\n",
      "10 itens limpos\n"
     ]
    }
   ],
   "source": [
    "contador = 0\n",
    "\n",
    "while contador < 10:\n",
    "    contador = contador +1\n",
    "    if contador == 1:\n",
    "        continue\n",
    "    print(contador, 'itens limpos')"
   ]
  },
  {
   "cell_type": "markdown",
   "id": "1602def0",
   "metadata": {},
   "source": [
    "# Estruturas Avançadas"
   ]
  },
  {
   "cell_type": "markdown",
   "id": "910de45f",
   "metadata": {},
   "source": [
    "## Aula 01 - Listas e Tuplas"
   ]
  },
  {
   "cell_type": "markdown",
   "id": "04723090",
   "metadata": {},
   "source": [
    "### Listas"
   ]
  },
  {
   "cell_type": "code",
   "execution_count": 6,
   "id": "3c1d6921",
   "metadata": {
    "ExecuteTime": {
     "end_time": "2021-07-03T15:02:05.275735Z",
     "start_time": "2021-07-03T15:02:05.263736Z"
    }
   },
   "outputs": [
    {
     "name": "stdout",
     "output_type": "stream",
     "text": [
      "['Brasil', 'Argentina', 'China', 'Canadá', 'Japão']\n"
     ]
    }
   ],
   "source": [
    "nomes_paises = ['Brasil', 'Argentina', 'China', 'Canadá', 'Japão']\n",
    "print(nomes_paises)"
   ]
  },
  {
   "cell_type": "code",
   "execution_count": 7,
   "id": "e9230917",
   "metadata": {
    "ExecuteTime": {
     "end_time": "2021-07-03T15:02:27.617119Z",
     "start_time": "2021-07-03T15:02:27.608119Z"
    }
   },
   "outputs": [
    {
     "name": "stdout",
     "output_type": "stream",
     "text": [
      "Tamanho da lista:  5\n"
     ]
    }
   ],
   "source": [
    "print('Tamanho da lista: ', len(nomes_paises))"
   ]
  },
  {
   "cell_type": "code",
   "execution_count": 8,
   "id": "4725e289",
   "metadata": {
    "ExecuteTime": {
     "end_time": "2021-07-03T15:02:47.687329Z",
     "start_time": "2021-07-03T15:02:47.678329Z"
    }
   },
   "outputs": [
    {
     "name": "stdout",
     "output_type": "stream",
     "text": [
      "País:  Japão\n"
     ]
    }
   ],
   "source": [
    "print('País: ', nomes_paises[4])"
   ]
  },
  {
   "cell_type": "code",
   "execution_count": 9,
   "id": "b6c104ff",
   "metadata": {
    "ExecuteTime": {
     "end_time": "2021-07-03T15:03:25.530860Z",
     "start_time": "2021-07-03T15:03:25.515270Z"
    }
   },
   "outputs": [
    {
     "name": "stdout",
     "output_type": "stream",
     "text": [
      "País:  Japão\n"
     ]
    }
   ],
   "source": [
    "print('País: ', nomes_paises[-1])"
   ]
  },
  {
   "cell_type": "code",
   "execution_count": 10,
   "id": "61b6ece5",
   "metadata": {
    "ExecuteTime": {
     "end_time": "2021-07-03T15:04:07.350030Z",
     "start_time": "2021-07-03T15:04:07.340242Z"
    }
   },
   "outputs": [
    {
     "name": "stdout",
     "output_type": "stream",
     "text": [
      "País:  Colômbia\n",
      "['Brasil', 'Argentina', 'China', 'Canadá', 'Colômbia']\n"
     ]
    }
   ],
   "source": [
    "nomes_paises[4] = 'Colômbia'\n",
    "print('País: ', nomes_paises[4])\n",
    "print(nomes_paises)"
   ]
  },
  {
   "cell_type": "code",
   "execution_count": 11,
   "id": "c28ae63f",
   "metadata": {
    "ExecuteTime": {
     "end_time": "2021-07-03T15:04:32.281631Z",
     "start_time": "2021-07-03T15:04:31.881331Z"
    }
   },
   "outputs": [
    {
     "ename": "IndexError",
     "evalue": "list assignment index out of range",
     "output_type": "error",
     "traceback": [
      "\u001b[1;31m---------------------------------------------------------------------------\u001b[0m",
      "\u001b[1;31mIndexError\u001b[0m                                Traceback (most recent call last)",
      "\u001b[1;32m~\\AppData\\Local\\Temp/ipykernel_11464/259509551.py\u001b[0m in \u001b[0;36m<module>\u001b[1;34m\u001b[0m\n\u001b[1;32m----> 1\u001b[1;33m \u001b[0mnomes_paises\u001b[0m\u001b[1;33m[\u001b[0m\u001b[1;36m5\u001b[0m\u001b[1;33m]\u001b[0m \u001b[1;33m=\u001b[0m \u001b[1;34m'Chile'\u001b[0m\u001b[1;33m\u001b[0m\u001b[1;33m\u001b[0m\u001b[0m\n\u001b[0m",
      "\u001b[1;31mIndexError\u001b[0m: list assignment index out of range"
     ]
    }
   ],
   "source": [
    "nomes_paises[5] = 'Chile'"
   ]
  },
  {
   "cell_type": "code",
   "execution_count": 12,
   "id": "2e114d90",
   "metadata": {
    "ExecuteTime": {
     "end_time": "2021-07-03T15:05:38.641243Z",
     "start_time": "2021-07-03T15:05:38.620230Z"
    }
   },
   "outputs": [
    {
     "name": "stdout",
     "output_type": "stream",
     "text": [
      "['Argentina', 'China']\n"
     ]
    }
   ],
   "source": [
    "print(nomes_paises[1:3])"
   ]
  },
  {
   "cell_type": "code",
   "execution_count": 13,
   "id": "be350ae2",
   "metadata": {
    "ExecuteTime": {
     "end_time": "2021-07-03T15:06:01.271061Z",
     "start_time": "2021-07-03T15:06:01.259028Z"
    }
   },
   "outputs": [
    {
     "name": "stdout",
     "output_type": "stream",
     "text": [
      "['Argentina', 'China', 'Canadá']\n"
     ]
    }
   ],
   "source": [
    "print(nomes_paises[1:-1])"
   ]
  },
  {
   "cell_type": "code",
   "execution_count": 14,
   "id": "9ebd47e7",
   "metadata": {
    "ExecuteTime": {
     "end_time": "2021-07-03T15:06:24.517163Z",
     "start_time": "2021-07-03T15:06:24.501164Z"
    }
   },
   "outputs": [
    {
     "name": "stdout",
     "output_type": "stream",
     "text": [
      "['China', 'Canadá', 'Colômbia']\n"
     ]
    }
   ],
   "source": [
    "print(nomes_paises[2:])"
   ]
  },
  {
   "cell_type": "code",
   "execution_count": 15,
   "id": "31ac18a9",
   "metadata": {
    "ExecuteTime": {
     "end_time": "2021-07-03T15:06:42.113187Z",
     "start_time": "2021-07-03T15:06:42.098548Z"
    }
   },
   "outputs": [
    {
     "name": "stdout",
     "output_type": "stream",
     "text": [
      "['Brasil', 'Argentina', 'China']\n"
     ]
    }
   ],
   "source": [
    "print(nomes_paises[:3])"
   ]
  },
  {
   "cell_type": "code",
   "execution_count": 18,
   "id": "a2b0e85a",
   "metadata": {
    "ExecuteTime": {
     "end_time": "2021-07-03T15:07:13.194631Z",
     "start_time": "2021-07-03T15:07:13.178634Z"
    }
   },
   "outputs": [
    {
     "name": "stdout",
     "output_type": "stream",
     "text": [
      "['Brasil', 'Argentina', 'China', 'Canadá', 'Colômbia']\n"
     ]
    }
   ],
   "source": [
    "print(nomes_paises[:])"
   ]
  },
  {
   "cell_type": "code",
   "execution_count": 19,
   "id": "da05b009",
   "metadata": {
    "ExecuteTime": {
     "end_time": "2021-07-03T15:07:51.076294Z",
     "start_time": "2021-07-03T15:07:51.062293Z"
    }
   },
   "outputs": [
    {
     "name": "stdout",
     "output_type": "stream",
     "text": [
      "['Brasil', 'China', 'Colômbia']\n"
     ]
    }
   ],
   "source": [
    "print(nomes_paises[::2])"
   ]
  },
  {
   "cell_type": "code",
   "execution_count": 20,
   "id": "aa4d16bc",
   "metadata": {
    "ExecuteTime": {
     "end_time": "2021-07-03T15:08:10.407131Z",
     "start_time": "2021-07-03T15:08:10.399132Z"
    }
   },
   "outputs": [
    {
     "name": "stdout",
     "output_type": "stream",
     "text": [
      "['Colômbia', 'Canadá', 'China', 'Argentina', 'Brasil']\n"
     ]
    }
   ],
   "source": [
    "print(nomes_paises[::-1])"
   ]
  },
  {
   "cell_type": "code",
   "execution_count": 21,
   "id": "94135aea",
   "metadata": {
    "ExecuteTime": {
     "end_time": "2021-07-03T15:08:59.557942Z",
     "start_time": "2021-07-03T15:08:59.548943Z"
    }
   },
   "outputs": [
    {
     "name": "stdout",
     "output_type": "stream",
     "text": [
      "True\n"
     ]
    }
   ],
   "source": [
    "print('Brasil' in nomes_paises)"
   ]
  },
  {
   "cell_type": "code",
   "execution_count": 22,
   "id": "86d75c6a",
   "metadata": {
    "ExecuteTime": {
     "end_time": "2021-07-03T15:09:15.631272Z",
     "start_time": "2021-07-03T15:09:15.621271Z"
    }
   },
   "outputs": [
    {
     "name": "stdout",
     "output_type": "stream",
     "text": [
      "False\n"
     ]
    }
   ],
   "source": [
    "print('Canadá' not in nomes_paises)"
   ]
  },
  {
   "cell_type": "code",
   "execution_count": 23,
   "id": "fe7f6d2f",
   "metadata": {
    "ExecuteTime": {
     "end_time": "2021-07-03T15:09:38.526187Z",
     "start_time": "2021-07-03T15:09:38.507189Z"
    }
   },
   "outputs": [],
   "source": [
    "lista_capitais = []"
   ]
  },
  {
   "cell_type": "code",
   "execution_count": 24,
   "id": "b3714705",
   "metadata": {
    "ExecuteTime": {
     "end_time": "2021-07-03T15:11:29.607664Z",
     "start_time": "2021-07-03T15:11:29.598323Z"
    }
   },
   "outputs": [
    {
     "name": "stdout",
     "output_type": "stream",
     "text": [
      "['Brasília', 'Buenos Aires', 'Pequim', 'Bogotá']\n"
     ]
    }
   ],
   "source": [
    "lista_capitais.append('Brasília')\n",
    "lista_capitais.append('Buenos Aires')\n",
    "lista_capitais.append('Pequim')\n",
    "lista_capitais.append('Bogotá')\n",
    "\n",
    "print(lista_capitais)"
   ]
  },
  {
   "cell_type": "code",
   "execution_count": 25,
   "id": "1e82f270",
   "metadata": {
    "ExecuteTime": {
     "end_time": "2021-07-03T15:12:13.477502Z",
     "start_time": "2021-07-03T15:12:13.458779Z"
    }
   },
   "outputs": [
    {
     "name": "stdout",
     "output_type": "stream",
     "text": [
      "['Brasília', 'Buenos Aires', 'Paris', 'Pequim', 'Bogotá']\n"
     ]
    }
   ],
   "source": [
    "lista_capitais.insert(2, 'Paris')\n",
    "print(lista_capitais)"
   ]
  },
  {
   "cell_type": "code",
   "execution_count": 26,
   "id": "c4476538",
   "metadata": {
    "ExecuteTime": {
     "end_time": "2021-07-03T15:12:50.200853Z",
     "start_time": "2021-07-03T15:12:50.195853Z"
    }
   },
   "outputs": [
    {
     "name": "stdout",
     "output_type": "stream",
     "text": [
      "['Brasília', 'Paris', 'Pequim', 'Bogotá']\n"
     ]
    }
   ],
   "source": [
    "lista_capitais.remove('Buenos Aires')\n",
    "print(lista_capitais)"
   ]
  },
  {
   "cell_type": "code",
   "execution_count": 27,
   "id": "583d32d0",
   "metadata": {
    "ExecuteTime": {
     "end_time": "2021-07-03T15:13:35.731335Z",
     "start_time": "2021-07-03T15:13:35.725861Z"
    }
   },
   "outputs": [
    {
     "name": "stdout",
     "output_type": "stream",
     "text": [
      "['Brasília', 'Paris', 'Bogotá'] Pequim\n"
     ]
    }
   ],
   "source": [
    "removido = lista_capitais.pop(2) # Pequim\n",
    "print(lista_capitais, removido)"
   ]
  },
  {
   "cell_type": "markdown",
   "id": "a60c89d8",
   "metadata": {},
   "source": [
    "### Tuplas"
   ]
  },
  {
   "cell_type": "code",
   "execution_count": 30,
   "id": "76aa160e",
   "metadata": {
    "ExecuteTime": {
     "end_time": "2021-07-03T15:19:11.549071Z",
     "start_time": "2021-07-03T15:19:11.533045Z"
    }
   },
   "outputs": [
    {
     "name": "stdout",
     "output_type": "stream",
     "text": [
      "('Brasil', 'Argentina', 'China', 'Canadá', 'Japão') <class 'tuple'>\n"
     ]
    }
   ],
   "source": [
    "nomes_paises = ('Brasil', 'Argentina', 'China', 'Canadá', 'Japão')\n",
    "print(nomes_paises, type(nomes_paises))"
   ]
  },
  {
   "cell_type": "code",
   "execution_count": 29,
   "id": "c0a10749",
   "metadata": {
    "ExecuteTime": {
     "end_time": "2021-07-03T15:18:57.945227Z",
     "start_time": "2021-07-03T15:18:57.933226Z"
    }
   },
   "outputs": [
    {
     "name": "stdout",
     "output_type": "stream",
     "text": [
      "('Brasil', 'Argentina', 'China', 'Canadá', 'Japão') <class 'tuple'>\n"
     ]
    }
   ],
   "source": [
    "nomes_paises = 'Brasil', 'Argentina', 'China', 'Canadá', 'Japão'\n",
    "print(nomes_paises, type(nomes_paises))"
   ]
  },
  {
   "cell_type": "code",
   "execution_count": 31,
   "id": "912b7048",
   "metadata": {
    "ExecuteTime": {
     "end_time": "2021-07-03T15:20:12.487528Z",
     "start_time": "2021-07-03T15:20:12.468508Z"
    }
   },
   "outputs": [
    {
     "name": "stdout",
     "output_type": "stream",
     "text": [
      "('São Paulo',) <class 'tuple'>\n"
     ]
    }
   ],
   "source": [
    "nome_estado = 'São Paulo',\n",
    "print(nome_estado, type(nome_estado))"
   ]
  },
  {
   "cell_type": "code",
   "execution_count": 32,
   "id": "899eaa73",
   "metadata": {
    "ExecuteTime": {
     "end_time": "2021-07-03T15:20:27.916011Z",
     "start_time": "2021-07-03T15:20:27.894012Z"
    }
   },
   "outputs": [
    {
     "data": {
      "text/plain": [
       "5"
      ]
     },
     "execution_count": 32,
     "metadata": {},
     "output_type": "execute_result"
    }
   ],
   "source": [
    "len(nomes_paises)"
   ]
  },
  {
   "cell_type": "code",
   "execution_count": 33,
   "id": "406ef590",
   "metadata": {
    "ExecuteTime": {
     "end_time": "2021-07-03T15:20:38.563722Z",
     "start_time": "2021-07-03T15:20:38.547115Z"
    }
   },
   "outputs": [
    {
     "data": {
      "text/plain": [
       "'Brasil'"
      ]
     },
     "execution_count": 33,
     "metadata": {},
     "output_type": "execute_result"
    }
   ],
   "source": [
    "nomes_paises[0]"
   ]
  },
  {
   "cell_type": "code",
   "execution_count": 34,
   "id": "4708828b",
   "metadata": {
    "ExecuteTime": {
     "end_time": "2021-07-03T15:20:54.989393Z",
     "start_time": "2021-07-03T15:20:54.982993Z"
    }
   },
   "outputs": [],
   "source": [
    "b, a, c, ca, j = nomes_paises"
   ]
  },
  {
   "cell_type": "code",
   "execution_count": 35,
   "id": "8ce7c91e",
   "metadata": {
    "ExecuteTime": {
     "end_time": "2021-07-03T15:21:03.091401Z",
     "start_time": "2021-07-03T15:21:03.083404Z"
    }
   },
   "outputs": [
    {
     "name": "stdout",
     "output_type": "stream",
     "text": [
      "Brasil China Japão\n"
     ]
    }
   ],
   "source": [
    "print(b, c, j)"
   ]
  },
  {
   "cell_type": "code",
   "execution_count": 36,
   "id": "c865c440",
   "metadata": {
    "ExecuteTime": {
     "end_time": "2021-07-03T15:21:31.041163Z",
     "start_time": "2021-07-03T15:21:31.023165Z"
    }
   },
   "outputs": [
    {
     "name": "stdout",
     "output_type": "stream",
     "text": [
      "Brasil Argentina China Canadá Japão\n"
     ]
    }
   ],
   "source": [
    "print(*nomes_paises)"
   ]
  },
  {
   "cell_type": "markdown",
   "id": "a97903be",
   "metadata": {},
   "source": [
    "## Aula 02 - Strings I"
   ]
  },
  {
   "cell_type": "code",
   "execution_count": 38,
   "id": "de3e903e",
   "metadata": {
    "ExecuteTime": {
     "end_time": "2021-07-03T21:02:31.297019Z",
     "start_time": "2021-07-03T21:02:31.283016Z"
    }
   },
   "outputs": [
    {
     "name": "stdout",
     "output_type": "stream",
     "text": [
      "Google\n"
     ]
    }
   ],
   "source": [
    "empresa = 'Google'\n",
    "print(empresa)"
   ]
  },
  {
   "cell_type": "code",
   "execution_count": 39,
   "id": "aa25f735",
   "metadata": {
    "ExecuteTime": {
     "end_time": "2021-07-03T21:03:08.545390Z",
     "start_time": "2021-07-03T21:03:08.539388Z"
    }
   },
   "outputs": [
    {
     "name": "stdout",
     "output_type": "stream",
     "text": [
      "Let's Code\n"
     ]
    }
   ],
   "source": [
    "empresa = \"Let's Code\"\n",
    "print(empresa)"
   ]
  },
  {
   "cell_type": "code",
   "execution_count": 40,
   "id": "c9182c80",
   "metadata": {
    "ExecuteTime": {
     "end_time": "2021-07-03T21:04:04.664682Z",
     "start_time": "2021-07-03T21:04:04.641662Z"
    }
   },
   "outputs": [
    {
     "name": "stdout",
     "output_type": "stream",
     "text": [
      "O professor Pietro da Let's Code disse: \"Hoje a pizza é por minha conta\"\n"
     ]
    }
   ],
   "source": [
    "frase = \"O professor Pietro da Let's Code disse: \\\"Hoje a pizza é por minha conta\\\"\"\n",
    "print(frase)"
   ]
  },
  {
   "cell_type": "code",
   "execution_count": 41,
   "id": "b98b5c6a",
   "metadata": {
    "ExecuteTime": {
     "end_time": "2021-07-03T21:05:17.250886Z",
     "start_time": "2021-07-03T21:05:17.240887Z"
    }
   },
   "outputs": [
    {
     "name": "stdout",
     "output_type": "stream",
     "text": [
      "G\n"
     ]
    }
   ],
   "source": [
    "empresa = 'Google'\n",
    "print(empresa[0])"
   ]
  },
  {
   "cell_type": "code",
   "execution_count": 42,
   "id": "2d16d39b",
   "metadata": {
    "ExecuteTime": {
     "end_time": "2021-07-03T21:05:42.657228Z",
     "start_time": "2021-07-03T21:05:42.652228Z"
    }
   },
   "outputs": [
    {
     "name": "stdout",
     "output_type": "stream",
     "text": [
      "Goo\n"
     ]
    }
   ],
   "source": [
    "print(empresa[:3])"
   ]
  },
  {
   "cell_type": "code",
   "execution_count": 46,
   "id": "f3a5aa84",
   "metadata": {
    "ExecuteTime": {
     "end_time": "2021-07-03T21:07:44.588142Z",
     "start_time": "2021-07-03T21:07:44.579137Z"
    }
   },
   "outputs": [
    {
     "name": "stdout",
     "output_type": "stream",
     "text": [
      "['São Paulo', 'Belo Horizonte', 'Rio de Janeiro', 'Brasília']\n"
     ]
    }
   ],
   "source": [
    "nomes_cidades = 'São Paulo, Belo Horizonte, Rio de Janeiro, Brasília'\n",
    "nomes_cidades = nomes_cidades.split(', ')\n",
    "print(nomes_cidades)"
   ]
  },
  {
   "cell_type": "code",
   "execution_count": 48,
   "id": "2f7ddd6f",
   "metadata": {
    "ExecuteTime": {
     "end_time": "2021-07-03T21:09:42.718232Z",
     "start_time": "2021-07-03T21:09:42.707229Z"
    }
   },
   "outputs": [
    {
     "name": "stdout",
     "output_type": "stream",
     "text": [
      "MENU PRINCIPAL\n"
     ]
    }
   ],
   "source": [
    "cabecalho = '       MENU PRINCIPAL       '\n",
    "print(cabecalho.strip())"
   ]
  },
  {
   "cell_type": "code",
   "execution_count": 49,
   "id": "2aa799b7",
   "metadata": {
    "ExecuteTime": {
     "end_time": "2021-07-03T21:10:45.525929Z",
     "start_time": "2021-07-03T21:10:45.504912Z"
    }
   },
   "outputs": [
    {
     "name": "stdout",
     "output_type": "stream",
     "text": [
      "Rio De Janeiro\n",
      "Rio de janeiro\n",
      "rio de janeiro\n",
      "RIO DE JANEIRO\n"
     ]
    }
   ],
   "source": [
    "nome_cidade = 'rIo DE jaNeirO'\n",
    "\n",
    "print(nome_cidade.title())\n",
    "print(nome_cidade.capitalize())\n",
    "print(nome_cidade.lower())\n",
    "print(nome_cidade.upper())"
   ]
  },
  {
   "cell_type": "code",
   "execution_count": 51,
   "id": "7b3686d7",
   "metadata": {
    "ExecuteTime": {
     "end_time": "2021-07-03T21:15:47.629781Z",
     "start_time": "2021-07-03T21:15:11.337382Z"
    }
   },
   "outputs": [
    {
     "name": "stdout",
     "output_type": "stream",
     "text": [
      "Que cidade do Brasil é conhecida como cidade maravilhosa? sÃO PAULO\n",
      "Tenta de novo, vai\n",
      "Que cidade do Brasil é conhecida como cidade maravilhosa?  bELO Horizonte\n",
      "Tenta de novo, vai\n",
      "Que cidade do Brasil é conhecida como cidade maravilhosa?    rIo   DE  jANEIRo\n",
      "Tenta de novo, vai\n",
      "Que cidade do Brasil é conhecida como cidade maravilhosa?   rIO dE jAnEIRO\n",
      "Booa, campeão!\n"
     ]
    }
   ],
   "source": [
    "nome_cidade = input('Que cidade do Brasil é conhecida como cidade maravilhosa? ')\n",
    "nome_cidade = nome_cidade.strip()\n",
    "while nome_cidade.lower() != 'rio de janeiro':\n",
    "    print('Tenta de novo, vai')\n",
    "    nome_cidade = input('Que cidade do Brasil é conhecida como cidade maravilhosa? ')\n",
    "    nome_cidade = nome_cidade.strip()\n",
    "    \n",
    "print('Booa, campeão!')"
   ]
  },
  {
   "cell_type": "code",
   "execution_count": 55,
   "id": "e8621dcb",
   "metadata": {
    "ExecuteTime": {
     "end_time": "2021-07-03T21:18:40.241671Z",
     "start_time": "2021-07-03T21:18:40.226047Z"
    }
   },
   "outputs": [
    {
     "name": "stdout",
     "output_type": "stream",
     "text": [
      "False\n"
     ]
    }
   ],
   "source": [
    "mensagem = 'Você viu o que o Pietro disse na sala ontem?'\n",
    "fui_citado = 'Felipe' in mensagem\n",
    "print(fui_citado)"
   ]
  },
  {
   "cell_type": "code",
   "execution_count": 56,
   "id": "db7e5324",
   "metadata": {
    "ExecuteTime": {
     "end_time": "2021-07-03T21:20:04.919783Z",
     "start_time": "2021-07-03T21:20:04.897015Z"
    }
   },
   "outputs": [
    {
     "name": "stdout",
     "output_type": "stream",
     "text": [
      "Teste de Caca sobre a Mesa. Outra Caca sobre o Corno\n"
     ]
    }
   ],
   "source": [
    "frase = 'Teste de Faca sobre a Mesa. Outra Faca sobre o Forno'\n",
    "s5 = frase.replace('F', 'C') # substitui a primeira substring pela segunda em todas ocorrências\n",
    "print(s5)"
   ]
  },
  {
   "cell_type": "markdown",
   "id": "e7b7b4b0",
   "metadata": {},
   "source": [
    "## Aula 03 - Strings II"
   ]
  },
  {
   "cell_type": "code",
   "execution_count": 57,
   "id": "655763a9",
   "metadata": {
    "ExecuteTime": {
     "end_time": "2021-07-03T21:22:20.098737Z",
     "start_time": "2021-07-03T21:22:20.086738Z"
    }
   },
   "outputs": [
    {
     "name": "stdout",
     "output_type": "stream",
     "text": [
      "Olá, Felipe\n"
     ]
    }
   ],
   "source": [
    "cumprimento = 'Olá, '\n",
    "nome = 'Felipe'\n",
    "print(cumprimento + nome)"
   ]
  },
  {
   "cell_type": "code",
   "execution_count": 58,
   "id": "4d805b00",
   "metadata": {
    "ExecuteTime": {
     "end_time": "2021-07-03T21:22:47.650896Z",
     "start_time": "2021-07-03T21:22:47.640893Z"
    }
   },
   "outputs": [
    {
     "name": "stdout",
     "output_type": "stream",
     "text": [
      "FelipeFelipeFelipeFelipeFelipe\n"
     ]
    }
   ],
   "source": [
    "print(nome * 5)"
   ]
  },
  {
   "cell_type": "code",
   "execution_count": 59,
   "id": "703998dd",
   "metadata": {
    "ExecuteTime": {
     "end_time": "2021-07-03T21:24:56.563497Z",
     "start_time": "2021-07-03T21:24:56.548484Z"
    }
   },
   "outputs": [
    {
     "name": "stdout",
     "output_type": "stream",
     "text": [
      "Felipe tem 35 anos e 2 filhos\n"
     ]
    }
   ],
   "source": [
    "nome = 'Felipe'\n",
    "idade = 35\n",
    "n_filhos = 2\n",
    "print(nome + ' tem ' + str(idade) + ' anos e ' + str(n_filhos) + ' filhos')"
   ]
  },
  {
   "cell_type": "code",
   "execution_count": 60,
   "id": "f0108e0a",
   "metadata": {
    "ExecuteTime": {
     "end_time": "2021-07-03T21:26:51.814795Z",
     "start_time": "2021-07-03T21:26:51.804796Z"
    }
   },
   "outputs": [
    {
     "name": "stdout",
     "output_type": "stream",
     "text": [
      "Felipe tem 35 anos e 2 filhos\n"
     ]
    }
   ],
   "source": [
    "print('{} tem {} anos e {} filhos'.format(nome, idade, n_filhos))"
   ]
  },
  {
   "cell_type": "code",
   "execution_count": 61,
   "id": "684949a8",
   "metadata": {
    "ExecuteTime": {
     "end_time": "2021-07-03T21:28:38.483504Z",
     "start_time": "2021-07-03T21:28:38.461510Z"
    }
   },
   "outputs": [
    {
     "name": "stdout",
     "output_type": "stream",
     "text": [
      "O preço da gasolina hoje subiu e está em R$ 5.79\n"
     ]
    }
   ],
   "source": [
    "preco_gasolina = 5.789\n",
    "print('O preço da gasolina hoje subiu e está em R$ {:.2f}'.format(preco_gasolina))"
   ]
  },
  {
   "cell_type": "code",
   "execution_count": 63,
   "id": "ac31e21a",
   "metadata": {
    "ExecuteTime": {
     "end_time": "2021-07-03T21:56:53.278076Z",
     "start_time": "2021-07-03T21:56:53.263071Z"
    }
   },
   "outputs": [
    {
     "name": "stdout",
     "output_type": "stream",
     "text": [
      "Felipe tem 35 anos e 2 filhos.\n"
     ]
    }
   ],
   "source": [
    "print(f'{nome} tem {idade} anos e {n_filhos} filhos.')"
   ]
  },
  {
   "cell_type": "markdown",
   "id": "cb46ab08",
   "metadata": {},
   "source": [
    "## Aula 04 - Dicionários"
   ]
  },
  {
   "cell_type": "code",
   "execution_count": 64,
   "id": "8d998f35",
   "metadata": {
    "ExecuteTime": {
     "end_time": "2021-07-03T21:57:47.282960Z",
     "start_time": "2021-07-03T21:57:47.275109Z"
    }
   },
   "outputs": [
    {
     "name": "stdout",
     "output_type": "stream",
     "text": [
      "{'cat': 'gato', 'dog': 'cachorro', 'mouse': 'rato'}\n",
      "<class 'dict'>\n"
     ]
    }
   ],
   "source": [
    "# O dicionário é definido pelos símbolos { e }\n",
    "\n",
    "dicionario = {}\n",
    "\n",
    "# O dicionário não possui um \"append\".\n",
    "# Adicionamos valores diretamente:\n",
    "\n",
    "dicionario['cat'] = 'gato'\n",
    "dicionario['dog'] = 'cachorro'\n",
    "dicionario['mouse'] = 'rato'\n",
    "\n",
    "print(dicionario)\n",
    "print(type(dicionario))"
   ]
  },
  {
   "cell_type": "code",
   "execution_count": 66,
   "id": "32f45f48",
   "metadata": {
    "ExecuteTime": {
     "end_time": "2021-07-03T21:58:50.268152Z",
     "start_time": "2021-07-03T21:58:50.249148Z"
    }
   },
   "outputs": [
    {
     "name": "stdout",
     "output_type": "stream",
     "text": [
      "cat existe!\n"
     ]
    }
   ],
   "source": [
    "if 'gato' in dicionario:\n",
    "    print('gato existe!') # Não\n",
    "if 'cat' in dicionario:\n",
    "    print('cat existe!') # Sim    "
   ]
  },
  {
   "cell_type": "code",
   "execution_count": 67,
   "id": "991fa82e",
   "metadata": {
    "ExecuteTime": {
     "end_time": "2021-07-03T22:00:48.013222Z",
     "start_time": "2021-07-03T22:00:48.002226Z"
    }
   },
   "outputs": [
    {
     "name": "stdout",
     "output_type": "stream",
     "text": [
      "dict_keys(['cat', 'dog', 'mouse'])\n"
     ]
    }
   ],
   "source": [
    "chaves = dicionario.keys()\n",
    "print(chaves)"
   ]
  },
  {
   "cell_type": "code",
   "execution_count": 68,
   "id": "472be625",
   "metadata": {
    "ExecuteTime": {
     "end_time": "2021-07-03T22:02:17.487283Z",
     "start_time": "2021-07-03T22:02:17.475287Z"
    }
   },
   "outputs": [
    {
     "name": "stdout",
     "output_type": "stream",
     "text": [
      "dict_values(['gato', 'cachorro', 'rato'])\n"
     ]
    }
   ],
   "source": [
    "valores = dicionario.values()\n",
    "print(valores)"
   ]
  },
  {
   "cell_type": "code",
   "execution_count": 69,
   "id": "f513ed96",
   "metadata": {
    "ExecuteTime": {
     "end_time": "2021-07-03T22:02:32.268302Z",
     "start_time": "2021-07-03T22:02:32.250310Z"
    }
   },
   "outputs": [
    {
     "name": "stdout",
     "output_type": "stream",
     "text": [
      "dict_items([('cat', 'gato'), ('dog', 'cachorro'), ('mouse', 'rato')])\n"
     ]
    }
   ],
   "source": [
    "itens = dicionario.items()\n",
    "print(itens)"
   ]
  },
  {
   "cell_type": "markdown",
   "id": "c6936a8d",
   "metadata": {},
   "source": [
    "## Aula 05 - Estruturas de Repetição - For"
   ]
  },
  {
   "cell_type": "code",
   "execution_count": 70,
   "id": "d96fcc1c",
   "metadata": {
    "ExecuteTime": {
     "end_time": "2021-07-03T22:05:55.132243Z",
     "start_time": "2021-07-03T22:05:55.115690Z"
    }
   },
   "outputs": [
    {
     "name": "stdout",
     "output_type": "stream",
     "text": [
      "São Paulo\n",
      "Londres\n",
      "Tóquio\n",
      "Paris\n"
     ]
    }
   ],
   "source": [
    "nomes_cidades = ['São Paulo', 'Londres', 'Tóquio', 'Paris']\n",
    "for nome in nomes_cidades:\n",
    "    print(nome)"
   ]
  },
  {
   "cell_type": "code",
   "execution_count": 71,
   "id": "5ad23836",
   "metadata": {
    "ExecuteTime": {
     "end_time": "2021-07-03T22:06:49.371160Z",
     "start_time": "2021-07-03T22:06:49.358163Z"
    }
   },
   "outputs": [
    {
     "name": "stdout",
     "output_type": "stream",
     "text": [
      "São Paulo\n",
      "Londres\n",
      "Tóquio\n",
      "Paris\n"
     ]
    }
   ],
   "source": [
    "# Mesmo exemplo utilizando o While\n",
    "contador = 0\n",
    "nomes_cidades = ['São Paulo', 'Londres', 'Tóquio', 'Paris']\n",
    "while contador < len(nomes_cidades):\n",
    "    print(nomes_cidades[contador])\n",
    "    contador = contador + 1"
   ]
  },
  {
   "cell_type": "code",
   "execution_count": 72,
   "id": "7ed1238a",
   "metadata": {
    "ExecuteTime": {
     "end_time": "2021-07-03T22:07:30.177068Z",
     "start_time": "2021-07-03T22:07:30.167074Z"
    }
   },
   "outputs": [
    {
     "name": "stdout",
     "output_type": "stream",
     "text": [
      "São Paulo\n",
      "Londres\n",
      "Tóquio\n",
      "Paris\n"
     ]
    }
   ],
   "source": [
    "nomes_cidades = 'São Paulo', 'Londres', 'Tóquio', 'Paris'\n",
    "for nome in nomes_cidades:\n",
    "    print(nome)"
   ]
  },
  {
   "cell_type": "code",
   "execution_count": 73,
   "id": "7aedf5d2",
   "metadata": {
    "ExecuteTime": {
     "end_time": "2021-07-03T22:08:35.024391Z",
     "start_time": "2021-07-03T22:08:35.003393Z"
    }
   },
   "outputs": [
    {
     "name": "stdout",
     "output_type": "stream",
     "text": [
      "nome: São Paulo\n",
      "estado: São Paulo\n",
      "populacao_milhoes: 12.2\n"
     ]
    }
   ],
   "source": [
    "cidade = {\n",
    "    'nome': 'São Paulo',\n",
    "    'estado': 'São Paulo',\n",
    "    'populacao_milhoes': 12.2\n",
    "}\n",
    "for chave in cidade:\n",
    "    print(f'{chave}: {cidade[chave]}')"
   ]
  },
  {
   "cell_type": "code",
   "execution_count": 74,
   "id": "3ebef10a",
   "metadata": {
    "ExecuteTime": {
     "end_time": "2021-07-03T22:09:25.424983Z",
     "start_time": "2021-07-03T22:09:25.402986Z"
    }
   },
   "outputs": [
    {
     "name": "stdout",
     "output_type": "stream",
     "text": [
      "['São Paulo', 'Londres', 'Tóquio', 'Paris']\n"
     ]
    }
   ],
   "source": [
    "nomes_cidades = ['São Paulo', 'Londres', 'Tóquio', 'Paris']\n",
    "for nome in nomes_cidades:\n",
    "    nome = 'Rio de Janeiro'\n",
    "    \n",
    "print(nomes_cidades)"
   ]
  },
  {
   "cell_type": "code",
   "execution_count": 76,
   "id": "3faf281a",
   "metadata": {
    "ExecuteTime": {
     "end_time": "2021-07-03T22:11:42.528267Z",
     "start_time": "2021-07-03T22:11:42.515273Z"
    }
   },
   "outputs": [
    {
     "name": "stdout",
     "output_type": "stream",
     "text": [
      "['Rio de Janeiro', 'Rio de Janeiro', 'Rio de Janeiro', 'Rio de Janeiro']\n"
     ]
    }
   ],
   "source": [
    "for posicao in range(len(nomes_cidades)):\n",
    "    nomes_cidades[posicao] = 'Rio de Janeiro'\n",
    "    \n",
    "print(nomes_cidades)"
   ]
  },
  {
   "cell_type": "code",
   "execution_count": 77,
   "id": "7945a40a",
   "metadata": {
    "ExecuteTime": {
     "end_time": "2021-07-03T22:12:23.188408Z",
     "start_time": "2021-07-03T22:12:23.176411Z"
    }
   },
   "outputs": [
    {
     "name": "stdout",
     "output_type": "stream",
     "text": [
      "[0, 1, 2, 3, 4, 5, 6, 7, 8, 9]\n",
      "[2, 3, 4, 5, 6, 7, 8, 9]\n",
      "[2, 4, 6, 8]\n"
     ]
    }
   ],
   "source": [
    "print(list(range(10)))\n",
    "print(list(range(2, 10)))\n",
    "print(list(range(2, 10, 2)))"
   ]
  },
  {
   "cell_type": "code",
   "execution_count": 78,
   "id": "02d9fa42",
   "metadata": {
    "ExecuteTime": {
     "end_time": "2021-07-03T22:13:45.906853Z",
     "start_time": "2021-07-03T22:13:45.890853Z"
    }
   },
   "outputs": [
    {
     "name": "stdout",
     "output_type": "stream",
     "text": [
      "1\n",
      "3\n",
      "5\n",
      "7\n",
      "9\n",
      "11\n",
      "13\n",
      "15\n",
      "17\n",
      "19\n"
     ]
    }
   ],
   "source": [
    "# Com 3 parâmetros, o terceiro será interpretado como incremento.\n",
    "for numero in range(1,20,2):\n",
    "    print(numero)\n",
    "    # este exemplo imprime os ímpares positivos menores do que 20\n",
    "    # ele começa valendo 1 e salta de 2 em 2 até atingir ou passar 20"
   ]
  },
  {
   "cell_type": "markdown",
   "id": "cf2f6bf5",
   "metadata": {},
   "source": [
    "## Aula 06 - Funções I"
   ]
  },
  {
   "cell_type": "code",
   "execution_count": null,
   "id": "29fbbf16",
   "metadata": {},
   "outputs": [],
   "source": []
  }
 ],
 "metadata": {
  "kernelspec": {
   "display_name": "Python [conda env:santander]",
   "language": "python",
   "name": "conda-env-santander-py"
  },
  "language_info": {
   "codemirror_mode": {
    "name": "ipython",
    "version": 3
   },
   "file_extension": ".py",
   "mimetype": "text/x-python",
   "name": "python",
   "nbconvert_exporter": "python",
   "pygments_lexer": "ipython3",
   "version": "3.9.5"
  },
  "toc": {
   "base_numbering": 1,
   "nav_menu": {},
   "number_sections": true,
   "sideBar": true,
   "skip_h1_title": false,
   "title_cell": "Table of Contents",
   "title_sidebar": "Python Basics",
   "toc_cell": false,
   "toc_position": {},
   "toc_section_display": true,
   "toc_window_display": true
  }
 },
 "nbformat": 4,
 "nbformat_minor": 5
}
